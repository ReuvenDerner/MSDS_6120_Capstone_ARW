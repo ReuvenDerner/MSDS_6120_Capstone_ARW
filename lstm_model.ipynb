{
 "cells": [
  {
   "cell_type": "code",
   "execution_count": 1,
   "metadata": {},
   "outputs": [],
   "source": [
    "#import libraries\r\n",
    "import pandas as pd\r\n",
    "import numpy as np\r\n",
    "import os\r\n",
    "import tensorflow as tf\r\n",
    "from tensorflow.keras import datasets, layers, models\r\n",
    "from sklearn.preprocessing import MinMaxScaler\r\n",
    "from sklearn.model_selection import train_test_split\r\n",
    "from keras.models import Sequential\r\n",
    "from keras.layers import LSTM, Dense, Dropout\r\n",
    "from keras.optimizers import Adam\r\n",
    "import matplotlib.pyplot as plt"
   ]
  },
  {
   "cell_type": "code",
   "execution_count": 2,
   "metadata": {},
   "outputs": [],
   "source": [
    "#load the data\r\n",
    "file_path = 'clean_data.csv'\r\n",
    "data = pd.read_csv(file_path)\r\n",
    "data = data.drop(columns= ['Daily MWH','Unnamed: 0', 'HashedIndex', 'Combined', 'Year', 'Month','Day'])\r\n",
    "data['Demand'] = data['Demand'].astype(float)"
   ]
  },
  {
   "cell_type": "code",
   "execution_count": 3,
   "metadata": {},
   "outputs": [
    {
     "data": {
      "text/html": "<div>\n<style scoped>\n    .dataframe tbody tr th:only-of-type {\n        vertical-align: middle;\n    }\n\n    .dataframe tbody tr th {\n        vertical-align: top;\n    }\n\n    .dataframe thead th {\n        text-align: right;\n    }\n</style>\n<table border=\"1\" class=\"dataframe\">\n  <thead>\n    <tr style=\"text-align: right;\">\n      <th></th>\n      <th>Demand</th>\n      <th>Fuel</th>\n      <th>Date</th>\n      <th>Time</th>\n      <th>Temp Max Dallas North Central</th>\n      <th>Temp Avg Dallas North Central</th>\n      <th>TempMin Dallas North Central</th>\n      <th>Dew Point Max Dallas North Central</th>\n      <th>Dew Point Avg Dallas North Central</th>\n      <th>Dew Point Min Dallas North Central</th>\n      <th>...</th>\n      <th>Humidity Percent Max Midland Far West</th>\n      <th>Humidity Percent Avg Midland Far West</th>\n      <th>Humidity Percent Min Midland Far West</th>\n      <th>Wind Speed Max Midland Far West</th>\n      <th>Wind Speed Avg Midland Far West</th>\n      <th>Wind Speed Min Midland Far West</th>\n      <th>Pressures Inch Max Midland Far West</th>\n      <th>Pressure InchAvg Midland Far West</th>\n      <th>Pressure Inch Min Midland Far West</th>\n      <th>Precipitation Total Midland Far West</th>\n    </tr>\n  </thead>\n  <tbody>\n    <tr>\n      <th>0</th>\n      <td>3376.329577</td>\n      <td>Coal</td>\n      <td>2007-01-01</td>\n      <td>00:00:00</td>\n      <td>52.0</td>\n      <td>41.3</td>\n      <td>34</td>\n      <td>29</td>\n      <td>27.0</td>\n      <td>25</td>\n      <td>...</td>\n      <td>88</td>\n      <td>65.0</td>\n      <td>41</td>\n      <td>13</td>\n      <td>8.0</td>\n      <td>3</td>\n      <td>27.3</td>\n      <td>27.3</td>\n      <td>27.2</td>\n      <td>0.0</td>\n    </tr>\n    <tr>\n      <th>1</th>\n      <td>3368.077206</td>\n      <td>Coal</td>\n      <td>2007-01-01</td>\n      <td>00:15:00</td>\n      <td>52.0</td>\n      <td>41.3</td>\n      <td>34</td>\n      <td>29</td>\n      <td>27.0</td>\n      <td>25</td>\n      <td>...</td>\n      <td>88</td>\n      <td>65.0</td>\n      <td>41</td>\n      <td>13</td>\n      <td>8.0</td>\n      <td>3</td>\n      <td>27.3</td>\n      <td>27.3</td>\n      <td>27.2</td>\n      <td>0.0</td>\n    </tr>\n    <tr>\n      <th>2</th>\n      <td>3365.003007</td>\n      <td>Coal</td>\n      <td>2007-01-01</td>\n      <td>00:30:00</td>\n      <td>52.0</td>\n      <td>41.3</td>\n      <td>34</td>\n      <td>29</td>\n      <td>27.0</td>\n      <td>25</td>\n      <td>...</td>\n      <td>88</td>\n      <td>65.0</td>\n      <td>41</td>\n      <td>13</td>\n      <td>8.0</td>\n      <td>3</td>\n      <td>27.3</td>\n      <td>27.3</td>\n      <td>27.2</td>\n      <td>0.0</td>\n    </tr>\n    <tr>\n      <th>3</th>\n      <td>3364.700590</td>\n      <td>Coal</td>\n      <td>2007-01-01</td>\n      <td>00:45:00</td>\n      <td>52.0</td>\n      <td>41.3</td>\n      <td>34</td>\n      <td>29</td>\n      <td>27.0</td>\n      <td>25</td>\n      <td>...</td>\n      <td>88</td>\n      <td>65.0</td>\n      <td>41</td>\n      <td>13</td>\n      <td>8.0</td>\n      <td>3</td>\n      <td>27.3</td>\n      <td>27.3</td>\n      <td>27.2</td>\n      <td>0.0</td>\n    </tr>\n    <tr>\n      <th>4</th>\n      <td>3337.219223</td>\n      <td>Coal</td>\n      <td>2007-01-01</td>\n      <td>01:00:00</td>\n      <td>52.0</td>\n      <td>41.3</td>\n      <td>34</td>\n      <td>29</td>\n      <td>27.0</td>\n      <td>25</td>\n      <td>...</td>\n      <td>88</td>\n      <td>65.0</td>\n      <td>41</td>\n      <td>13</td>\n      <td>8.0</td>\n      <td>3</td>\n      <td>27.3</td>\n      <td>27.3</td>\n      <td>27.2</td>\n      <td>0.0</td>\n    </tr>\n  </tbody>\n</table>\n<p>5 rows × 132 columns</p>\n</div>",
      "text/plain": "        Demand  Fuel        Date      Time  Temp Max Dallas North Central  \\\n0  3376.329577  Coal  2007-01-01  00:00:00                           52.0   \n1  3368.077206  Coal  2007-01-01  00:15:00                           52.0   \n2  3365.003007  Coal  2007-01-01  00:30:00                           52.0   \n3  3364.700590  Coal  2007-01-01  00:45:00                           52.0   \n4  3337.219223  Coal  2007-01-01  01:00:00                           52.0   \n\n   Temp Avg Dallas North Central  TempMin Dallas North Central  \\\n0                           41.3                            34   \n1                           41.3                            34   \n2                           41.3                            34   \n3                           41.3                            34   \n4                           41.3                            34   \n\n   Dew Point Max Dallas North Central  Dew Point Avg Dallas North Central  \\\n0                                  29                                27.0   \n1                                  29                                27.0   \n2                                  29                                27.0   \n3                                  29                                27.0   \n4                                  29                                27.0   \n\n   Dew Point Min Dallas North Central  ...  \\\n0                                  25  ...   \n1                                  25  ...   \n2                                  25  ...   \n3                                  25  ...   \n4                                  25  ...   \n\n   Humidity Percent Max Midland Far West  \\\n0                                     88   \n1                                     88   \n2                                     88   \n3                                     88   \n4                                     88   \n\n   Humidity Percent Avg Midland Far West  \\\n0                                   65.0   \n1                                   65.0   \n2                                   65.0   \n3                                   65.0   \n4                                   65.0   \n\n   Humidity Percent Min Midland Far West  Wind Speed Max Midland Far West  \\\n0                                     41                               13   \n1                                     41                               13   \n2                                     41                               13   \n3                                     41                               13   \n4                                     41                               13   \n\n   Wind Speed Avg Midland Far West  Wind Speed Min Midland Far West  \\\n0                              8.0                                3   \n1                              8.0                                3   \n2                              8.0                                3   \n3                              8.0                                3   \n4                              8.0                                3   \n\n   Pressures Inch Max Midland Far West  Pressure InchAvg Midland Far West  \\\n0                                 27.3                               27.3   \n1                                 27.3                               27.3   \n2                                 27.3                               27.3   \n3                                 27.3                               27.3   \n4                                 27.3                               27.3   \n\n   Pressure Inch Min Midland Far West  Precipitation Total Midland Far West  \n0                                27.2                                   0.0  \n1                                27.2                                   0.0  \n2                                27.2                                   0.0  \n3                                27.2                                   0.0  \n4                                27.2                                   0.0  \n\n[5 rows x 132 columns]"
     },
     "execution_count": 3,
     "metadata": {},
     "output_type": "execute_result"
    }
   ],
   "source": [
    "data.head()"
   ]
  },
  {
   "cell_type": "code",
   "execution_count": 23,
   "metadata": {},
   "outputs": [
    {
     "data": {
      "text/html": "<div>\n<style scoped>\n    .dataframe tbody tr th:only-of-type {\n        vertical-align: middle;\n    }\n\n    .dataframe tbody tr th {\n        vertical-align: top;\n    }\n\n    .dataframe thead th {\n        text-align: right;\n    }\n</style>\n<table border=\"1\" class=\"dataframe\">\n  <thead>\n    <tr style=\"text-align: right;\">\n      <th></th>\n      <th>Demand</th>\n      <th>Fuel</th>\n      <th>Date</th>\n      <th>Time</th>\n      <th>Temp Max Dallas North Central</th>\n      <th>Temp Avg Dallas North Central</th>\n      <th>TempMin Dallas North Central</th>\n      <th>Dew Point Max Dallas North Central</th>\n      <th>Dew Point Avg Dallas North Central</th>\n      <th>Dew Point Min Dallas North Central</th>\n      <th>...</th>\n      <th>Humidity Percent Max Midland Far West</th>\n      <th>Humidity Percent Avg Midland Far West</th>\n      <th>Humidity Percent Min Midland Far West</th>\n      <th>Wind Speed Max Midland Far West</th>\n      <th>Wind Speed Avg Midland Far West</th>\n      <th>Wind Speed Min Midland Far West</th>\n      <th>Pressures Inch Max Midland Far West</th>\n      <th>Pressure InchAvg Midland Far West</th>\n      <th>Pressure Inch Min Midland Far West</th>\n      <th>Precipitation Total Midland Far West</th>\n    </tr>\n  </thead>\n  <tbody>\n  </tbody>\n</table>\n<p>0 rows × 132 columns</p>\n</div>",
      "text/plain": "Empty DataFrame\nColumns: [Demand, Fuel, Date, Time, Temp Max Dallas North Central, Temp Avg Dallas North Central, TempMin Dallas North Central, Dew Point Max Dallas North Central, Dew Point Avg Dallas North Central, Dew Point Min Dallas North Central, Humidity Percent Max Dallas North Central, Humidity Percent Avg Dallas North Central, Humidity Percent Min Dallas North Central, Wind Speed Max Dallas North Central, Wind Speed Avg Dallas North Central, Wind Speed Min Dallas North Central, Pressures Inch Max Dallas North Central, Pressure InchAvg Dallas North Central, Pressure Inch Min Dallas North Central, Precipitation Total Dallas North Central, Temp Max Abilene West, Temp Avg Abilene West, TempMin Abilene West, Dew Point Max Abilene West, Dew Point Avg Abilene West, Dew Point Min Abilene West, Humidity Percent Max Abilene West, Humidity Percent Avg Abilene West, Humidity Percent Min Abilene West, Wind Speed Max Abilene West, Wind Speed Avg Abilene West, Wind Speed Min Abilene West, Pressures Inch Max Abilene West, Pressure InchAvg Abilene West, Pressure Inch Min Abilene West, Precipitation Total Abilene West, Temp Max Austin  South Central, Temp Avg Austin  South Central, TempMin Austin  South Central, Dew Point Max Austin  South Central, Dew Point Avg Austin  South Central, Dew Point Min Austin  South Central, Humidity Percent Max Austin  South Central, Humidity Percent Avg Austin  South Central, Humidity Percent Min Austin  South Central, Wind Speed Max Austin  South Central, Wind Speed Avg Austin  South Central, Wind Speed Min Austin  South Central, Pressures Inch Max Austin  South Central, Pressure InchAvg Austin  South Central, Pressure Inch Min Austin  South Central, Precipitation Total Austin  South Central, Temp Max Tyler East, Temp Avg Tyler East, TempMin Tyler East, Dew Point Max Tyler East, Dew Point Avg Tyler East, Dew Point Min Tyler East, Humidity Percent Max Tyler East, Humidity Percent Avg Tyler East, Humidity Percent Min Tyler East, Wind Speed Max Tyler East, Wind Speed Avg Tyler East, Wind Speed Min Tyler East, Pressures Inch Max Tyler East, Pressure InchAvg Tyler East, Pressure Inch Min Tyler East, Precipitation Total Tyler East, Temp Max Houston Coast, Temp Avg Houst Coast, TempMin Houston Coast, Dew Point Max Houston Coast, Dew Point Avg Houston Coast, Dew Point Min Houston Coast, Humidity Percent Max Houston Coast, Humidity Percent Avg Houston Coast, Humidity Percent Min Houston Coast, Wind Speed Max Houston Coast, Wind Speed Avg Houston Coast, Wind Speed Min Houston Coast, Pressures Inch Max Houston Coast, Pressure InchAvg Houston Coast, Pressure Inch Min Houston Coast, Precipitation Total Houston Coast, Temp Max Corpus Christi South, Temp Avg  Corpus Christi South, TempMin  Corpus Christi South, Dew Point Max  Corpus Christi South, Dew Point Avg  Corpus Christi South, Dew Point Min  Corpus Christi South, Humidity Percent Max Corpus Christi South, Humidity Percent Avg Corpus Christi South, Humidity Percent Min Corpus Christi South, Wind Speed Max Corpus Christi South, Wind Speed Avg Corpus Christi South, Wind Speed Min Corpus Christi South, Pressures Inch Max Corpus Christi South, Pressure InchAvg Corpus Christi South, Pressure Inch Min Corpus Christi South, Precipitation Total Corpus Christi South, ...]\nIndex: []\n\n[0 rows x 132 columns]"
     },
     "execution_count": 23,
     "metadata": {},
     "output_type": "execute_result"
    }
   ],
   "source": [
    "q = data[data['Date'] == '2011-06-02']\r\n",
    "q"
   ]
  },
  {
   "cell_type": "markdown",
   "metadata": {},
   "source": [
    "seperate data by fueltype "
   ]
  },
  {
   "cell_type": "code",
   "execution_count": 4,
   "metadata": {},
   "outputs": [
    {
     "name": "stdout",
     "output_type": "stream",
     "text": [
      "['Coal' 'Gas' 'Hydro' 'Nuclear' ' Oth' 'Wind' 'Other' 'Biomass' 'Solar']\n"
     ]
    }
   ],
   "source": [
    "#get unique fuel types\r\n",
    "fuel_types = data['Fuel'].unique()\r\n",
    "print(fuel_types)"
   ]
  },
  {
   "cell_type": "code",
   "execution_count": 5,
   "metadata": {},
   "outputs": [],
   "source": [
    "#create a dict for dataframes to be stored \r\n",
    "dataframes = {}\r\n",
    "\r\n",
    "#create a for loop to create all the data frames\r\n",
    "for fuel_type in fuel_types:\r\n",
    "    df_name = f\"{fuel_type.lower()}_data\"\r\n",
    "    dataframes[df_name] = data[data[\"Fuel\"] == fuel_type]\r\n",
    "    dataframes[df_name] = dataframes[df_name].drop(columns= 'Fuel')"
   ]
  },
  {
   "cell_type": "code",
   "execution_count": 6,
   "metadata": {},
   "outputs": [
    {
     "data": {
      "text/plain": "dict_keys(['coal_data', 'gas_data', 'hydro_data', 'nuclear_data', ' oth_data', 'wind_data', 'other_data', 'biomass_data', 'solar_data'])"
     },
     "execution_count": 6,
     "metadata": {},
     "output_type": "execute_result"
    }
   ],
   "source": [
    "#check that the df names are filled correctly\r\n",
    "dataframes.keys()"
   ]
  },
  {
   "cell_type": "code",
   "execution_count": 7,
   "metadata": {},
   "outputs": [],
   "source": [
    "#create a variable for easier ref\r\n",
    "coal_data = dataframes['coal_data']"
   ]
  },
  {
   "cell_type": "code",
   "execution_count": 8,
   "metadata": {},
   "outputs": [],
   "source": [
    "# Handling missing values (if any)\r\n",
    "coal_data.fillna(method='ffill', inplace=True)"
   ]
  },
  {
   "cell_type": "code",
   "execution_count": 9,
   "metadata": {},
   "outputs": [],
   "source": [
    "#save feeatures t0 a list for scaling\r\n",
    "# features = dataframes['coal_data'].columns\r\n",
    "\r\n",
    "# feature_list = []\r\n",
    "# for feature in features:\r\n",
    "#     feature_list.append(feature)\r\n",
    "\r\n",
    "# print(feature_list)"
   ]
  },
  {
   "cell_type": "code",
   "execution_count": 10,
   "metadata": {},
   "outputs": [],
   "source": [
    "#features = dataframes['coal_data'][['Demand', 'Fuel', 'Date', 'Time', 'Temp Max Dallas North Central', 'Temp Avg Dallas North Central', 'TempMin Dallas North Central', 'Dew Point Max Dallas North Central', 'Dew Point Avg Dallas North Central', 'Dew Point Min Dallas North Central', 'Humidity Percent Max Dallas North Central', 'Humidity Percent Avg Dallas North Central', 'Humidity Percent Min Dallas North Central', 'Wind Speed Max Dallas North Central', 'Wind Speed Avg Dallas North Central', 'Wind Speed Min Dallas North Central', 'Pressures Inch Max Dallas North Central', 'Pressure InchAvg Dallas North Central', 'Pressure Inch Min Dallas North Central', 'Precipitation Total Dallas North Central', 'Temp Max Abilene West', 'Temp Avg Abilene West', 'TempMin Abilene West', 'Dew Point Max Abilene West', 'Dew Point Avg Abilene West', 'Dew Point Min Abilene West', 'Humidity Percent Max Abilene West', 'Humidity Percent Avg Abilene West', 'Humidity Percent Min Abilene West', 'Wind Speed Max Abilene West', 'Wind Speed Avg Abilene West', 'Wind Speed Min Abilene West', 'Pressures Inch Max Abilene West', 'Pressure InchAvg Abilene West', 'Pressure Inch Min Abilene West', 'Precipitation Total Abilene West', 'Temp Max Austin  South Central', 'Temp Avg Austin  South Central', 'TempMin Austin  South Central', 'Dew Point Max Austin  South Central', 'Dew Point Avg Austin  South Central', 'Dew Point Min Austin  South Central', 'Humidity Percent Max Austin  South Central', 'Humidity Percent Avg Austin  South Central', 'Humidity Percent Min Austin  South Central', 'Wind Speed Max Austin  South Central', 'Wind Speed Avg Austin  South Central', 'Wind Speed Min Austin  South Central', 'Pressures Inch Max Austin  South Central', 'Pressure InchAvg Austin  South Central', 'Pressure Inch Min Austin  South Central', 'Precipitation Total Austin  South Central', 'Temp Max Tyler East', 'Temp Avg Tyler East', 'TempMin Tyler East', 'Dew Point Max Tyler East', 'Dew Point Avg Tyler East', 'Dew Point Min Tyler East', 'Humidity Percent Max Tyler East', 'Humidity Percent Avg Tyler East', 'Humidity Percent Min Tyler East', 'Wind Speed Max Tyler East', 'Wind Speed Avg Tyler East', 'Wind Speed Min Tyler East', 'Pressures Inch Max Tyler East', 'Pressure InchAvg Tyler East', 'Pressure Inch Min Tyler East', 'Precipitation Total Tyler East', 'Temp Max Houston Coast', 'Temp Avg Houst Coast', 'TempMin Houston Coast', 'Dew Point Max Houston Coast', 'Dew Point Avg Houston Coast', 'Dew Point Min Houston Coast', 'Humidity Percent Max Houston Coast', 'Humidity Percent Avg Houston Coast', 'Humidity Percent Min Houston Coast', 'Wind Speed Max Houston Coast', 'Wind Speed Avg Houston Coast', 'Wind Speed Min Houston Coast', 'Pressures Inch Max Houston Coast', 'Pressure InchAvg Houston Coast', 'Pressure Inch Min Houston Coast', 'Precipitation Total Houston Coast', 'Temp Max Corpus Christi South', 'Temp Avg  Corpus Christi South', 'TempMin  Corpus Christi South', 'Dew Point Max  Corpus Christi South', 'Dew Point Avg  Corpus Christi South', 'Dew Point Min  Corpus Christi South', 'Humidity Percent Max Corpus Christi South', 'Humidity Percent Avg Corpus Christi South', 'Humidity Percent Min Corpus Christi South', 'Wind Speed Max Corpus Christi South', 'Wind Speed Avg Corpus Christi South', 'Wind Speed Min Corpus Christi South', 'Pressures Inch Max Corpus Christi South', 'Pressure InchAvg Corpus Christi South', 'Pressure Inch Min Corpus Christi South', 'Precipitation Total Corpus Christi South', 'Temp Max Lubbock North', 'Temp Avg Lubbock North', 'TempMin Lubbock North', 'Dew Point Max Lubbock North', 'Dew Point Avg Lubbock North', 'Dew Point Min Lubbock North', 'Humidity Percent Max Lubbock North', 'Humidity Percent Avg Lubbock North', 'Humidity Percent Min Lubbock North', 'Wind Speed Max Lubbock North', 'Wind Speed Avg Lubbock North', 'Wind Speed Min Lubbock North', 'Pressures Inch Max Lubbock North', 'Pressure InchAvg Lubbock North', 'Pressure Inch Min Lubbock North', 'Precipitation Total Lubbock North', 'Temp Max Midland Far West', 'Temp Avg Midland Far West', 'TempMin Midland Far West', 'Dew Point Max Midland Far West', 'Dew Point Avg Midland Far West', 'Dew Point Min Midland Far West', 'Humidity Percent Max Midland Far West', 'Humidity Percent Avg Midland Far West', 'Humidity Percent Min Midland Far West', 'Wind Speed Max Midland Far West', 'Wind Speed Avg Midland Far West', 'Wind Speed Min Midland Far West', 'Pressures Inch Max Midland Far West', 'Pressure InchAvg Midland Far West', 'Pressure Inch Min Midland Far West', 'Precipitation Total Midland Far West']]"
   ]
  },
  {
   "cell_type": "code",
   "execution_count": 11,
   "metadata": {},
   "outputs": [],
   "source": [
    "#normilize the data \r\n",
    "\r\n",
    "#Combine Date and Time into a single column\r\n",
    "coal_data['Datetime'] = coal_data['Date'] + ' ' + coal_data['Time']\r\n",
    "\r\n",
    "#Convert the combined column to datetime\r\n",
    "coal_data['Datetime'] = pd.to_datetime(coal_data['Datetime'])\r\n",
    "\r\n",
    "#UTC\r\n",
    "coal_data['Datetime'] = pd.to_datetime(coal_data['Datetime']).dt.tz_localize('UTC')\r\n",
    "\r\n",
    "#Convert datetime to timestamp (numeric)\r\n",
    "coal_data['Timestamp'] = coal_data['Datetime'].astype('int64') // 10**9  # Convert to seconds since epoch\r\n",
    "\r\n",
    "\r\n",
    "num_col =coal_data.select_dtypes(include=['float64', 'int64', 'float32'])\r\n",
    "scaler = MinMaxScaler(feature_range=(0, 1))\r\n",
    "scaled_features = scaler.fit_transform(num_col)"
   ]
  },
  {
   "cell_type": "code",
   "execution_count": 12,
   "metadata": {},
   "outputs": [],
   "source": [
    "# Splitting data into train and test sets\r\n",
    "train_data, test_data = train_test_split(scaled_features, test_size=0.2, random_state=10)\r\n",
    "\r\n",
    "# Splitting train data into features and labels\r\n",
    "train_labels = train_data[:, 0]   # All rows, only the first column\r\n",
    "train_features = train_data[:, 1:]  # All rows, all columns except the first\r\n",
    "\r\n",
    "# Do the same for test_data if it's also a NumPy array\r\n",
    "test_labels = test_data[:, 0]   # All rows, only the first column\r\n",
    "test_features = test_data[:, 1:]  # All rows, all columns except the first"
   ]
  },
  {
   "cell_type": "code",
   "execution_count": 13,
   "metadata": {},
   "outputs": [],
   "source": [
    "# Reshape data for LSTM input\r\n",
    "train_features = train_features.reshape((train_features.shape[0], 1, train_features.shape[1]))\r\n",
    "test_features = test_features.reshape((test_features.shape[0], 1, test_features.shape[1]))\r\n",
    "\r\n",
    "\r\n"
   ]
  },
  {
   "cell_type": "code",
   "execution_count": 14,
   "metadata": {},
   "outputs": [],
   "source": [
    "# Define LSTM model\r\n",
    "model = Sequential()\r\n",
    "model.add(LSTM(units=50, return_sequences=True, input_shape=(1, train_features.shape[2])))\r\n",
    "model.add(LSTM(units=50))\r\n",
    "model.add(Dense(1))\r\n",
    "\r\n",
    "# model = Sequential()\r\n",
    "\r\n",
    "# First LSTM layer with more units and return_sequences=True for stacking\r\n",
    "# model.add(LSTM(units=50, return_sequences=True, input_shape=(1, train_features.shape[2])))\r\n",
    "# model.add(Dropout(0.2))  # Dropout for regularization\r\n",
    "\r\n",
    "# # Additional LSTM Layer\r\n",
    "# model.add(LSTM(units=50, return_sequences=True))\r\n",
    "# model.add(Dropout(0.2))  # Dropout for regularization\r\n",
    "\r\n",
    "# # Another LSTM Layer\r\n",
    "# model.add(LSTM(units=50, return_sequences=True))\r\n",
    "# model.add(Dropout(0.2))  # Dropout for regularization\r\n",
    "\r\n",
    "# # Final LSTM Layer - return_sequences is False by default\r\n",
    "# model.add(LSTM(units=50))\r\n",
    "# model.add(Dropout(0.2))  # Dropout for regularization\r\n",
    "\r\n",
    "# Adding more Dense layers\r\n",
    "# model.add(Dense(units=50, activation='relu'))\r\n",
    "# model.add(Dense(units=25, activation='relu'))\r\n",
    "\r\n",
    "# Output Layer\r\n",
    "# model.add(Dense(1))"
   ]
  },
  {
   "cell_type": "code",
   "execution_count": 15,
   "metadata": {},
   "outputs": [],
   "source": [
    "# Compile the model\r\n",
    "model.compile(optimizer=Adam(learning_rate=0.01), loss='mean_squared_error')\r\n"
   ]
  },
  {
   "cell_type": "code",
   "execution_count": 16,
   "metadata": {},
   "outputs": [
    {
     "name": "stdout",
     "output_type": "stream",
     "text": [
      "Epoch 1/25\n",
      "13146/13146 [==============================] - 55s 3ms/step - loss: 0.0131 - val_loss: 0.0125\n",
      "Epoch 2/25\n",
      "13146/13146 [==============================] - 40s 3ms/step - loss: 0.0117 - val_loss: 0.0119\n",
      "Epoch 3/25\n",
      "13146/13146 [==============================] - 40s 3ms/step - loss: 0.0115 - val_loss: 0.0107\n",
      "Epoch 4/25\n",
      "13146/13146 [==============================] - 40s 3ms/step - loss: 0.0111 - val_loss: 0.0105\n",
      "Epoch 5/25\n",
      "13146/13146 [==============================] - 40s 3ms/step - loss: 0.0107 - val_loss: 0.0102\n",
      "Epoch 6/25\n",
      "13146/13146 [==============================] - 40s 3ms/step - loss: 0.0104 - val_loss: 0.0106\n",
      "Epoch 7/25\n",
      "13146/13146 [==============================] - 41s 3ms/step - loss: 0.0103 - val_loss: 0.0100\n",
      "Epoch 8/25\n",
      "13146/13146 [==============================] - 40s 3ms/step - loss: 0.0101 - val_loss: 0.0114\n",
      "Epoch 9/25\n",
      "13146/13146 [==============================] - 40s 3ms/step - loss: 0.0101 - val_loss: 0.0094\n",
      "Epoch 10/25\n",
      "13146/13146 [==============================] - 41s 3ms/step - loss: 0.0100 - val_loss: 0.0108\n",
      "Epoch 11/25\n",
      "13146/13146 [==============================] - 41s 3ms/step - loss: 0.0099 - val_loss: 0.0097\n",
      "Epoch 12/25\n",
      "13146/13146 [==============================] - 40s 3ms/step - loss: 0.0098 - val_loss: 0.0101\n",
      "Epoch 13/25\n",
      "13146/13146 [==============================] - 40s 3ms/step - loss: 0.0097 - val_loss: 0.0095\n",
      "Epoch 14/25\n",
      "13146/13146 [==============================] - 41s 3ms/step - loss: 0.0097 - val_loss: 0.0095\n",
      "Epoch 15/25\n",
      "13146/13146 [==============================] - 41s 3ms/step - loss: 0.0096 - val_loss: 0.0091\n",
      "Epoch 16/25\n",
      "13146/13146 [==============================] - 41s 3ms/step - loss: 0.0096 - val_loss: 0.0092\n",
      "Epoch 17/25\n",
      "13146/13146 [==============================] - 40s 3ms/step - loss: 0.0095 - val_loss: 0.0093\n",
      "Epoch 18/25\n",
      "13146/13146 [==============================] - 40s 3ms/step - loss: 0.0095 - val_loss: 0.0091\n",
      "Epoch 19/25\n",
      "13146/13146 [==============================] - 40s 3ms/step - loss: 0.0095 - val_loss: 0.0093\n",
      "Epoch 20/25\n",
      "13146/13146 [==============================] - 39s 3ms/step - loss: 0.0094 - val_loss: 0.0092\n",
      "Epoch 21/25\n",
      "13146/13146 [==============================] - 39s 3ms/step - loss: 0.0094 - val_loss: 0.0095\n",
      "Epoch 22/25\n",
      "13146/13146 [==============================] - 39s 3ms/step - loss: 0.0094 - val_loss: 0.0089\n",
      "Epoch 23/25\n",
      "13146/13146 [==============================] - 39s 3ms/step - loss: 0.0094 - val_loss: 0.0093\n",
      "Epoch 24/25\n",
      "13146/13146 [==============================] - 40s 3ms/step - loss: 0.0094 - val_loss: 0.0092\n",
      "Epoch 25/25\n",
      "13146/13146 [==============================] - 39s 3ms/step - loss: 0.0093 - val_loss: 0.0091\n"
     ]
    },
    {
     "data": {
      "text/plain": "<keras.callbacks.History at 0x24598366910>"
     },
     "execution_count": 16,
     "metadata": {},
     "output_type": "execute_result"
    }
   ],
   "source": [
    "# Train the model\r\n",
    "model.fit(train_features, train_labels, epochs=25, batch_size=32, validation_data=(test_features, test_labels), verbose=1)\r\n"
   ]
  },
  {
   "cell_type": "code",
   "execution_count": null,
   "metadata": {},
   "outputs": [],
   "source": []
  }
 ],
 "metadata": {
  "kernelspec": {
   "display_name": "Python 3.8.5 64-bit ('rwbut': virtualenv)",
   "name": "python385jvsc74a57bd08e49214a560cda078e502002c7b80516a9700d7f09758e242b71eebe169fbdbe"
  },
  "language_info": {
   "name": "python",
   "version": ""
  },
  "orig_nbformat": 3
 },
 "nbformat": 4,
 "nbformat_minor": 2
}