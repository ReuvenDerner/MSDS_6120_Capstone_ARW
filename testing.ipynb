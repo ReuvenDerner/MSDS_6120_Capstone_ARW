{
 "cells": [
  {
   "cell_type": "code",
   "execution_count": 1,
   "metadata": {},
   "outputs": [],
   "source": [
    "#import libraries\r\n",
    "import pandas as pd"
   ]
  },
  {
   "cell_type": "code",
   "execution_count": 5,
   "metadata": {},
   "outputs": [
    {
     "data": {
      "text/html": "<div>\n<style scoped>\n    .dataframe tbody tr th:only-of-type {\n        vertical-align: middle;\n    }\n\n    .dataframe tbody tr th {\n        vertical-align: top;\n    }\n\n    .dataframe thead th {\n        text-align: right;\n    }\n</style>\n<table border=\"1\" class=\"dataframe\">\n  <thead>\n    <tr style=\"text-align: right;\">\n      <th></th>\n      <th>Daily MWH</th>\n      <th>00:15:00</th>\n      <th>00:30:00</th>\n      <th>00:45:00</th>\n      <th>01:00:00</th>\n      <th>01:15:00</th>\n      <th>01:30:00</th>\n      <th>01:45:00</th>\n      <th>02:00:00</th>\n      <th>02:15:00</th>\n      <th>...</th>\n      <th>22:45</th>\n      <th>23:00</th>\n      <th>23:15</th>\n      <th>23:30</th>\n      <th>23:45</th>\n      <th>0:00</th>\n      <th>01:15 (DST)</th>\n      <th>01:30 (DST)</th>\n      <th>01:45 (DST)</th>\n      <th>02:00 (DST)</th>\n    </tr>\n  </thead>\n  <tbody>\n    <tr>\n      <th>01/01/07 - Coal</th>\n      <td>314608.639900</td>\n      <td>3376.329577</td>\n      <td>3368.077206</td>\n      <td>3365.003007</td>\n      <td>3364.700590</td>\n      <td>3337.219223</td>\n      <td>3340.401121</td>\n      <td>3338.779986</td>\n      <td>3341.014301</td>\n      <td>3375.998789</td>\n      <td>...</td>\n      <td>NaN</td>\n      <td>NaN</td>\n      <td>NaN</td>\n      <td>NaN</td>\n      <td>NaN</td>\n      <td>NaN</td>\n      <td>NaN</td>\n      <td>NaN</td>\n      <td>NaN</td>\n      <td>NaN</td>\n    </tr>\n    <tr>\n      <th>01/01/07 - Gas</th>\n      <td>272456.952300</td>\n      <td>2250.333739</td>\n      <td>2252.727205</td>\n      <td>2257.902081</td>\n      <td>2259.768252</td>\n      <td>2204.443372</td>\n      <td>2170.116980</td>\n      <td>2178.863551</td>\n      <td>2179.605680</td>\n      <td>2140.655363</td>\n      <td>...</td>\n      <td>NaN</td>\n      <td>NaN</td>\n      <td>NaN</td>\n      <td>NaN</td>\n      <td>NaN</td>\n      <td>NaN</td>\n      <td>NaN</td>\n      <td>NaN</td>\n      <td>NaN</td>\n      <td>NaN</td>\n    </tr>\n    <tr>\n      <th>01/01/07 - Hydro</th>\n      <td>688.956912</td>\n      <td>3.814499</td>\n      <td>3.809214</td>\n      <td>3.811659</td>\n      <td>3.810560</td>\n      <td>3.810705</td>\n      <td>3.773842</td>\n      <td>3.772936</td>\n      <td>3.637019</td>\n      <td>3.350387</td>\n      <td>...</td>\n      <td>NaN</td>\n      <td>NaN</td>\n      <td>NaN</td>\n      <td>NaN</td>\n      <td>NaN</td>\n      <td>NaN</td>\n      <td>NaN</td>\n      <td>NaN</td>\n      <td>NaN</td>\n      <td>NaN</td>\n    </tr>\n    <tr>\n      <th>01/01/07 - Nuclear</th>\n      <td>120060.021600</td>\n      <td>1250.245128</td>\n      <td>1249.936172</td>\n      <td>1250.009397</td>\n      <td>1250.187850</td>\n      <td>1250.503540</td>\n      <td>1250.240947</td>\n      <td>1250.433454</td>\n      <td>1250.212841</td>\n      <td>1250.094833</td>\n      <td>...</td>\n      <td>NaN</td>\n      <td>NaN</td>\n      <td>NaN</td>\n      <td>NaN</td>\n      <td>NaN</td>\n      <td>NaN</td>\n      <td>NaN</td>\n      <td>NaN</td>\n      <td>NaN</td>\n      <td>NaN</td>\n    </tr>\n    <tr>\n      <th>01/01/07 - Oth</th>\n      <td>3743.903058</td>\n      <td>40.970577</td>\n      <td>41.076414</td>\n      <td>40.996679</td>\n      <td>41.211779</td>\n      <td>39.875432</td>\n      <td>38.641280</td>\n      <td>39.789598</td>\n      <td>39.754927</td>\n      <td>39.909498</td>\n      <td>...</td>\n      <td>NaN</td>\n      <td>NaN</td>\n      <td>NaN</td>\n      <td>NaN</td>\n      <td>NaN</td>\n      <td>NaN</td>\n      <td>NaN</td>\n      <td>NaN</td>\n      <td>NaN</td>\n      <td>NaN</td>\n    </tr>\n    <tr>\n      <th>...</th>\n      <td>...</td>\n      <td>...</td>\n      <td>...</td>\n      <td>...</td>\n      <td>...</td>\n      <td>...</td>\n      <td>...</td>\n      <td>...</td>\n      <td>...</td>\n      <td>...</td>\n      <td>...</td>\n      <td>...</td>\n      <td>...</td>\n      <td>...</td>\n      <td>...</td>\n      <td>...</td>\n      <td>...</td>\n      <td>...</td>\n      <td>...</td>\n      <td>...</td>\n      <td>...</td>\n    </tr>\n    <tr>\n      <th>2022-12-31 00:00:00</th>\n      <td>NaN</td>\n      <td>NaN</td>\n      <td>NaN</td>\n      <td>NaN</td>\n      <td>NaN</td>\n      <td>NaN</td>\n      <td>NaN</td>\n      <td>NaN</td>\n      <td>NaN</td>\n      <td>NaN</td>\n      <td>...</td>\n      <td>1277.521610</td>\n      <td>1277.601614</td>\n      <td>1277.509454</td>\n      <td>1277.312147</td>\n      <td>1277.488193</td>\n      <td>1277.276178</td>\n      <td>NaN</td>\n      <td>NaN</td>\n      <td>NaN</td>\n      <td>NaN</td>\n    </tr>\n    <tr>\n      <th>2022-12-31 00:00:00</th>\n      <td>NaN</td>\n      <td>NaN</td>\n      <td>NaN</td>\n      <td>NaN</td>\n      <td>NaN</td>\n      <td>NaN</td>\n      <td>NaN</td>\n      <td>NaN</td>\n      <td>NaN</td>\n      <td>NaN</td>\n      <td>...</td>\n      <td>7.097469</td>\n      <td>5.219245</td>\n      <td>18.643366</td>\n      <td>15.002416</td>\n      <td>4.763281</td>\n      <td>1.580591</td>\n      <td>NaN</td>\n      <td>NaN</td>\n      <td>NaN</td>\n      <td>NaN</td>\n    </tr>\n    <tr>\n      <th>2022-12-31 00:00:00</th>\n      <td>NaN</td>\n      <td>NaN</td>\n      <td>NaN</td>\n      <td>NaN</td>\n      <td>NaN</td>\n      <td>NaN</td>\n      <td>NaN</td>\n      <td>NaN</td>\n      <td>NaN</td>\n      <td>NaN</td>\n      <td>...</td>\n      <td>0.000000</td>\n      <td>0.000000</td>\n      <td>0.000000</td>\n      <td>0.000000</td>\n      <td>0.000000</td>\n      <td>0.000000</td>\n      <td>NaN</td>\n      <td>NaN</td>\n      <td>NaN</td>\n      <td>NaN</td>\n    </tr>\n    <tr>\n      <th>2022-12-31 00:00:00</th>\n      <td>NaN</td>\n      <td>NaN</td>\n      <td>NaN</td>\n      <td>NaN</td>\n      <td>NaN</td>\n      <td>NaN</td>\n      <td>NaN</td>\n      <td>NaN</td>\n      <td>NaN</td>\n      <td>NaN</td>\n      <td>...</td>\n      <td>-57.648902</td>\n      <td>-52.646814</td>\n      <td>-20.507550</td>\n      <td>-10.509732</td>\n      <td>-10.269654</td>\n      <td>-44.427072</td>\n      <td>NaN</td>\n      <td>NaN</td>\n      <td>NaN</td>\n      <td>NaN</td>\n    </tr>\n    <tr>\n      <th>2022-12-31 00:00:00</th>\n      <td>NaN</td>\n      <td>NaN</td>\n      <td>NaN</td>\n      <td>NaN</td>\n      <td>NaN</td>\n      <td>NaN</td>\n      <td>NaN</td>\n      <td>NaN</td>\n      <td>NaN</td>\n      <td>NaN</td>\n      <td>...</td>\n      <td>5627.661612</td>\n      <td>5613.644307</td>\n      <td>5509.516104</td>\n      <td>5489.178341</td>\n      <td>5450.046703</td>\n      <td>5506.060958</td>\n      <td>NaN</td>\n      <td>NaN</td>\n      <td>NaN</td>\n      <td>NaN</td>\n    </tr>\n  </tbody>\n</table>\n<p>48992 rows × 220 columns</p>\n</div>",
      "text/plain": "                         Daily MWH     00:15:00     00:30:00     00:45:00  \\\n01/01/07 - Coal      314608.639900  3376.329577  3368.077206  3365.003007   \n01/01/07 - Gas       272456.952300  2250.333739  2252.727205  2257.902081   \n01/01/07 - Hydro        688.956912     3.814499     3.809214     3.811659   \n01/01/07 - Nuclear   120060.021600  1250.245128  1249.936172  1250.009397   \n01/01/07 - Oth         3743.903058    40.970577    41.076414    40.996679   \n...                            ...          ...          ...          ...   \n2022-12-31 00:00:00            NaN          NaN          NaN          NaN   \n2022-12-31 00:00:00            NaN          NaN          NaN          NaN   \n2022-12-31 00:00:00            NaN          NaN          NaN          NaN   \n2022-12-31 00:00:00            NaN          NaN          NaN          NaN   \n2022-12-31 00:00:00            NaN          NaN          NaN          NaN   \n\n                        01:00:00     01:15:00     01:30:00     01:45:00  \\\n01/01/07 - Coal      3364.700590  3337.219223  3340.401121  3338.779986   \n01/01/07 - Gas       2259.768252  2204.443372  2170.116980  2178.863551   \n01/01/07 - Hydro        3.810560     3.810705     3.773842     3.772936   \n01/01/07 - Nuclear   1250.187850  1250.503540  1250.240947  1250.433454   \n01/01/07 - Oth         41.211779    39.875432    38.641280    39.789598   \n...                          ...          ...          ...          ...   \n2022-12-31 00:00:00          NaN          NaN          NaN          NaN   \n2022-12-31 00:00:00          NaN          NaN          NaN          NaN   \n2022-12-31 00:00:00          NaN          NaN          NaN          NaN   \n2022-12-31 00:00:00          NaN          NaN          NaN          NaN   \n2022-12-31 00:00:00          NaN          NaN          NaN          NaN   \n\n                        02:00:00     02:15:00  ...        22:45        23:00  \\\n01/01/07 - Coal      3341.014301  3375.998789  ...          NaN          NaN   \n01/01/07 - Gas       2179.605680  2140.655363  ...          NaN          NaN   \n01/01/07 - Hydro        3.637019     3.350387  ...          NaN          NaN   \n01/01/07 - Nuclear   1250.212841  1250.094833  ...          NaN          NaN   \n01/01/07 - Oth         39.754927    39.909498  ...          NaN          NaN   \n...                          ...          ...  ...          ...          ...   \n2022-12-31 00:00:00          NaN          NaN  ...  1277.521610  1277.601614   \n2022-12-31 00:00:00          NaN          NaN  ...     7.097469     5.219245   \n2022-12-31 00:00:00          NaN          NaN  ...     0.000000     0.000000   \n2022-12-31 00:00:00          NaN          NaN  ...   -57.648902   -52.646814   \n2022-12-31 00:00:00          NaN          NaN  ...  5627.661612  5613.644307   \n\n                           23:15        23:30        23:45         0:00  \\\n01/01/07 - Coal              NaN          NaN          NaN          NaN   \n01/01/07 - Gas               NaN          NaN          NaN          NaN   \n01/01/07 - Hydro             NaN          NaN          NaN          NaN   \n01/01/07 - Nuclear           NaN          NaN          NaN          NaN   \n01/01/07 - Oth               NaN          NaN          NaN          NaN   \n...                          ...          ...          ...          ...   \n2022-12-31 00:00:00  1277.509454  1277.312147  1277.488193  1277.276178   \n2022-12-31 00:00:00    18.643366    15.002416     4.763281     1.580591   \n2022-12-31 00:00:00     0.000000     0.000000     0.000000     0.000000   \n2022-12-31 00:00:00   -20.507550   -10.509732   -10.269654   -44.427072   \n2022-12-31 00:00:00  5509.516104  5489.178341  5450.046703  5506.060958   \n\n                     01:15 (DST)  01:30 (DST)  01:45 (DST)  02:00 (DST)  \n01/01/07 - Coal              NaN          NaN          NaN          NaN  \n01/01/07 - Gas               NaN          NaN          NaN          NaN  \n01/01/07 - Hydro             NaN          NaN          NaN          NaN  \n01/01/07 - Nuclear           NaN          NaN          NaN          NaN  \n01/01/07 - Oth               NaN          NaN          NaN          NaN  \n...                          ...          ...          ...          ...  \n2022-12-31 00:00:00          NaN          NaN          NaN          NaN  \n2022-12-31 00:00:00          NaN          NaN          NaN          NaN  \n2022-12-31 00:00:00          NaN          NaN          NaN          NaN  \n2022-12-31 00:00:00          NaN          NaN          NaN          NaN  \n2022-12-31 00:00:00          NaN          NaN          NaN          NaN  \n\n[48992 rows x 220 columns]"
     },
     "execution_count": 5,
     "metadata": {},
     "output_type": "execute_result"
    }
   ],
   "source": [
    "# Create an empty DataFrame to store the data\r\n",
    "all_data = pd.DataFrame()\r\n",
    "\r\n",
    "# Loop through years from 2007 to 2008\r\n",
    "#file naming structure changes in 2009 so that will be done in a diffrent loop\r\n",
    "for year in range(2007, 2023):\r\n",
    "    path = f'data/IntGenByFuel{year}.xls'\r\n",
    "    months = ('Jan', 'Feb', 'Mar', 'Apr', 'May', 'Jun', 'Jul', 'Aug', 'Sep', 'Oct', 'Nov', 'Dec')\r\n",
    "    year_data = pd.DataFrame()\r\n",
    "\r\n",
    "    # Loop through months for the current year\r\n",
    "    for month in months:\r\n",
    "\r\n",
    "        #account for misslabeling in october of 2007\r\n",
    "        if month == 'Oct' and year == 2007:\r\n",
    "            fuel_month = pd.read_excel(path, sheet_name=f'{month}{year}', index_col=0)\r\n",
    "            col_list = list(year_data.columns)\r\n",
    "            miss_label = list(fuel_month.columns)\r\n",
    "            #correct misslabel\r\n",
    "            fuel_month.columns = col_list\r\n",
    "            fuel_month['Fuel'] = fuel_month.index.str.split(' - ').str[1]\r\n",
    "            year_data = year_data.append(fuel_month)\r\n",
    "\r\n",
    "        elif year == 2011:\r\n",
    "            fuel_month = pd.read_excel(path, sheet_name=f'{month}{str(year)[-2:]}', index_col=0)\r\n",
    "            #rename the index to match naming pattern\r\n",
    "            fuel_month.index = fuel_month.index.strftime('%Y-%m-%d') + ' - ' + fuel_month['Fuel']\r\n",
    "            fuel_month = fuel_month.drop(columns=['Fuel'])\r\n",
    "            #filter out old index records\r\n",
    "            fuel_month = fuel_month[fuel_month.index.str.contains('-')]\r\n",
    "            year_data = year_data.append(fuel_month)            \r\n",
    "\r\n",
    "        elif year > 2008 and year < 2016 and year != 2011:\r\n",
    "            fuel_month = pd.read_excel(path, sheet_name=f'{month}{str(year)[-2:]}', index_col=0)\r\n",
    "            fuel_month['Fuel'] = fuel_month.index.str.split(' - ').str[1]\r\n",
    "            year_data = year_data.append(fuel_month)\r\n",
    "\r\n",
    "        elif year == 2016:\r\n",
    "            path = f'data/IntGenByFuel{year}.xlsx'\r\n",
    "            fuel_month = pd.read_excel(path, sheet_name=f'{month}{str(year)[-2:]}', index_col=0)\r\n",
    "            fuel_month['Fuel'] = fuel_month.index.str.split(' - ').str[1]\r\n",
    "            year_data = year_data.append(fuel_month)\r\n",
    "\r\n",
    "        elif year > 2016:\r\n",
    "            path = f'data/IntGenByFuel{year}.xlsx'\r\n",
    "            fuel_month = pd.read_excel(path, sheet_name=f'{month}', index_col=0)\r\n",
    "            year_data = year_data.append(fuel_month)\r\n",
    "        \r\n",
    "\r\n",
    "        else:   \r\n",
    "            fuel_month = pd.read_excel(path, sheet_name=f'{month}{year}', index_col=0)\r\n",
    "            year_data = year_data.append(fuel_month)\r\n",
    "        \r\n",
    "    # Append the data for the current year to the all_data DataFrame\r\n",
    "    all_data = all_data.append(year_data)\r\n",
    "\r\n",
    "# The all_data DataFrame now contains the data from all months and years\r\n",
    "all_data\r\n",
    "\r\n",
    "\r\n",
    "\r\n",
    "\r\n"
   ]
  },
  {
   "cell_type": "code",
   "execution_count": null,
   "metadata": {},
   "outputs": [],
   "source": []
  },
  {
   "cell_type": "code",
   "execution_count": 3,
   "metadata": {},
   "outputs": [],
   "source": [
    "all_data['Total'] = all_data['Total'].fillna(all_data['Daily MWH'])\r\n",
    "all_data[all_data.columns[96]] = all_data[all_data.columns[96]].fillna(all_data[all_data.columns[97]])\r\n",
    "all_data = all_data.drop(columns=['Daily MWH',all_data.columns[97]])"
   ]
  },
  {
   "cell_type": "code",
   "execution_count": 4,
   "metadata": {},
   "outputs": [],
   "source": [
    "\r\n",
    "all_data.to_csv('test_output.csv', index=True)"
   ]
  },
  {
   "cell_type": "code",
   "execution_count": null,
   "metadata": {},
   "outputs": [],
   "source": []
  },
  {
   "cell_type": "code",
   "execution_count": null,
   "metadata": {},
   "outputs": [],
   "source": []
  }
 ],
 "metadata": {
  "kernelspec": {
   "display_name": "Python 3.8.5 64-bit ('rwbut': virtualenv)",
   "name": "python385jvsc74a57bd08e49214a560cda078e502002c7b80516a9700d7f09758e242b71eebe169fbdbe"
  },
  "language_info": {
   "codemirror_mode": {
    "name": "ipython",
    "version": 3
   },
   "file_extension": ".py",
   "mimetype": "text/x-python",
   "name": "python",
   "nbconvert_exporter": "python",
   "pygments_lexer": "ipython3",
   "version": "3.8.5"
  },
  "orig_nbformat": 2
 },
 "nbformat": 4,
 "nbformat_minor": 2
}