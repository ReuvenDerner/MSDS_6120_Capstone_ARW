{
 "cells": [
  {
   "cell_type": "code",
   "execution_count": 16,
   "metadata": {},
   "outputs": [],
   "source": [
    "#import libraries\r\n",
    "import pandas as pd"
   ]
  },
  {
   "cell_type": "code",
   "execution_count": 15,
   "metadata": {},
   "outputs": [],
   "source": [
    "path = 'data/IntGenByFuel2007.xls'\r\n",
    "months = ('Jan','Feb','Mar','Apr','May','Jun','Jul','Aug','Sep','Oct','Nov','Dec')\r\n",
    "\r\n",
    "\r\n",
    "fuel_2007 = pd.DataFrame()\r\n",
    "\r\n",
    "for month in months:\r\n",
    "    fuel_month = pd.read_excel(path,sheet_name=f'{month}2007',index_col=0)\r\n",
    "    fuel_2007 = fuel_2007.append(fuel_month)\r\n",
    "\r\n",
    "\r\n",
    "#fuel_2007\r\n",
    "\r\n",
    "fuel_2007.to_csv('test_output.csv', index=True)\r\n"
   ]
  },
  {
   "cell_type": "code",
   "execution_count": 24,
   "metadata": {},
   "outputs": [
    {
     "data": {
      "text/html": "<div>\n<style scoped>\n    .dataframe tbody tr th:only-of-type {\n        vertical-align: middle;\n    }\n\n    .dataframe tbody tr th {\n        vertical-align: top;\n    }\n\n    .dataframe thead th {\n        text-align: right;\n    }\n</style>\n<table border=\"1\" class=\"dataframe\">\n  <thead>\n    <tr style=\"text-align: right;\">\n      <th></th>\n      <th>Daily MWH</th>\n      <th>00:15:00</th>\n      <th>00:30:00</th>\n      <th>00:45:00</th>\n      <th>01:00:00</th>\n      <th>01:15:00</th>\n      <th>01:30:00</th>\n      <th>01:45:00</th>\n      <th>02:00:00</th>\n      <th>02:15:00</th>\n      <th>...</th>\n      <th>22:00:00</th>\n      <th>22:15:00</th>\n      <th>22:30:00</th>\n      <th>22:45:00</th>\n      <th>23:00:00</th>\n      <th>23:15:00</th>\n      <th>23:30:00</th>\n      <th>23:45:00</th>\n      <th>1900-01-01 00:00:00</th>\n      <th>Total</th>\n    </tr>\n  </thead>\n  <tbody>\n    <tr>\n      <th>01/01/08 - Coal</th>\n      <td>339372.429300</td>\n      <td>3404.533580</td>\n      <td>3374.630529</td>\n      <td>3301.911372</td>\n      <td>3261.613219</td>\n      <td>3288.803572</td>\n      <td>3303.384605</td>\n      <td>3311.973296</td>\n      <td>3326.819369</td>\n      <td>3455.276891</td>\n      <td>...</td>\n      <td>3502.165337</td>\n      <td>3549.792347</td>\n      <td>3550.876593</td>\n      <td>3537.379010</td>\n      <td>3513.904143</td>\n      <td>3508.113675</td>\n      <td>3515.887981</td>\n      <td>3544.553621</td>\n      <td>3546.848403</td>\n      <td>NaN</td>\n    </tr>\n    <tr>\n      <th>01/01/08 - Gas</th>\n      <td>276619.641500</td>\n      <td>1903.848839</td>\n      <td>1924.976097</td>\n      <td>1981.468588</td>\n      <td>2056.427185</td>\n      <td>2038.527391</td>\n      <td>2037.782663</td>\n      <td>2044.793647</td>\n      <td>2047.330735</td>\n      <td>1998.122229</td>\n      <td>...</td>\n      <td>3909.524583</td>\n      <td>3768.977472</td>\n      <td>3715.293127</td>\n      <td>3638.667159</td>\n      <td>3555.422346</td>\n      <td>3468.293007</td>\n      <td>3359.934485</td>\n      <td>3295.795029</td>\n      <td>3229.623708</td>\n      <td>NaN</td>\n    </tr>\n    <tr>\n      <th>01/01/08 - Hydro</th>\n      <td>1412.214637</td>\n      <td>12.613451</td>\n      <td>16.785928</td>\n      <td>16.555397</td>\n      <td>16.583607</td>\n      <td>11.988934</td>\n      <td>8.931032</td>\n      <td>8.923337</td>\n      <td>8.925711</td>\n      <td>22.645949</td>\n      <td>...</td>\n      <td>17.117810</td>\n      <td>11.170575</td>\n      <td>8.886809</td>\n      <td>8.822955</td>\n      <td>8.802790</td>\n      <td>8.801122</td>\n      <td>8.812061</td>\n      <td>8.801055</td>\n      <td>8.788432</td>\n      <td>NaN</td>\n    </tr>\n    <tr>\n      <th>01/01/08 - Nuclear</th>\n      <td>121984.037300</td>\n      <td>1269.974310</td>\n      <td>1270.258137</td>\n      <td>1269.705270</td>\n      <td>1269.831950</td>\n      <td>1270.067861</td>\n      <td>1269.973788</td>\n      <td>1269.927915</td>\n      <td>1270.134620</td>\n      <td>1270.441414</td>\n      <td>...</td>\n      <td>1270.667483</td>\n      <td>1271.101743</td>\n      <td>1270.604567</td>\n      <td>1270.853273</td>\n      <td>1271.238813</td>\n      <td>1271.901956</td>\n      <td>1272.245606</td>\n      <td>1271.960144</td>\n      <td>1272.192722</td>\n      <td>NaN</td>\n    </tr>\n    <tr>\n      <th>01/01/08 - Oth</th>\n      <td>15057.486190</td>\n      <td>73.197452</td>\n      <td>75.471370</td>\n      <td>78.455400</td>\n      <td>76.270397</td>\n      <td>84.836193</td>\n      <td>94.078547</td>\n      <td>95.168241</td>\n      <td>91.887518</td>\n      <td>93.816436</td>\n      <td>...</td>\n      <td>217.902477</td>\n      <td>216.888418</td>\n      <td>216.264041</td>\n      <td>214.638235</td>\n      <td>214.152028</td>\n      <td>209.254285</td>\n      <td>205.932713</td>\n      <td>205.169873</td>\n      <td>204.610309</td>\n      <td>NaN</td>\n    </tr>\n    <tr>\n      <th>...</th>\n      <td>...</td>\n      <td>...</td>\n      <td>...</td>\n      <td>...</td>\n      <td>...</td>\n      <td>...</td>\n      <td>...</td>\n      <td>...</td>\n      <td>...</td>\n      <td>...</td>\n      <td>...</td>\n      <td>...</td>\n      <td>...</td>\n      <td>...</td>\n      <td>...</td>\n      <td>...</td>\n      <td>...</td>\n      <td>...</td>\n      <td>...</td>\n      <td>...</td>\n      <td>...</td>\n    </tr>\n    <tr>\n      <th>12/31/08-Gas_GT</th>\n      <td>NaN</td>\n      <td>320.106602</td>\n      <td>316.465331</td>\n      <td>301.338574</td>\n      <td>304.209012</td>\n      <td>298.801076</td>\n      <td>312.904322</td>\n      <td>293.602901</td>\n      <td>279.835582</td>\n      <td>270.426851</td>\n      <td>...</td>\n      <td>590.690969</td>\n      <td>702.111246</td>\n      <td>682.112361</td>\n      <td>675.011354</td>\n      <td>646.608217</td>\n      <td>661.991225</td>\n      <td>630.075729</td>\n      <td>554.271983</td>\n      <td>497.850853</td>\n      <td>49652.529411</td>\n    </tr>\n    <tr>\n      <th>12/31/08-Hydro</th>\n      <td>NaN</td>\n      <td>4.449232</td>\n      <td>5.060863</td>\n      <td>5.055748</td>\n      <td>5.063564</td>\n      <td>5.290445</td>\n      <td>5.275093</td>\n      <td>5.263472</td>\n      <td>5.308443</td>\n      <td>5.256775</td>\n      <td>...</td>\n      <td>4.007231</td>\n      <td>4.027017</td>\n      <td>4.025495</td>\n      <td>4.020993</td>\n      <td>4.016164</td>\n      <td>4.041265</td>\n      <td>4.034489</td>\n      <td>4.017723</td>\n      <td>4.076322</td>\n      <td>516.272998</td>\n    </tr>\n    <tr>\n      <th>12/31/08-Nuclear</th>\n      <td>NaN</td>\n      <td>1281.415193</td>\n      <td>1281.787146</td>\n      <td>1281.877205</td>\n      <td>1281.806360</td>\n      <td>1281.643251</td>\n      <td>1281.637059</td>\n      <td>1281.742056</td>\n      <td>1281.643981</td>\n      <td>1281.714299</td>\n      <td>...</td>\n      <td>1283.134557</td>\n      <td>1283.181093</td>\n      <td>1283.480000</td>\n      <td>1283.718352</td>\n      <td>1283.519053</td>\n      <td>1283.484562</td>\n      <td>1283.391063</td>\n      <td>1283.412556</td>\n      <td>1283.294441</td>\n      <td>123103.471718</td>\n    </tr>\n    <tr>\n      <th>12/31/08-Oth</th>\n      <td>NaN</td>\n      <td>83.332126</td>\n      <td>83.732321</td>\n      <td>83.095110</td>\n      <td>83.474506</td>\n      <td>83.469210</td>\n      <td>82.963600</td>\n      <td>83.577136</td>\n      <td>83.546554</td>\n      <td>83.379622</td>\n      <td>...</td>\n      <td>78.673701</td>\n      <td>79.218274</td>\n      <td>79.033469</td>\n      <td>79.618131</td>\n      <td>79.055882</td>\n      <td>79.515137</td>\n      <td>78.880434</td>\n      <td>78.878993</td>\n      <td>80.420095</td>\n      <td>8052.442880</td>\n    </tr>\n    <tr>\n      <th>12/31/08-Wnd</th>\n      <td>NaN</td>\n      <td>806.919147</td>\n      <td>756.449395</td>\n      <td>781.012355</td>\n      <td>776.499222</td>\n      <td>789.254184</td>\n      <td>817.964294</td>\n      <td>914.519610</td>\n      <td>954.745620</td>\n      <td>952.103764</td>\n      <td>...</td>\n      <td>286.186683</td>\n      <td>330.300563</td>\n      <td>355.724750</td>\n      <td>388.871377</td>\n      <td>437.618101</td>\n      <td>484.672525</td>\n      <td>545.290935</td>\n      <td>629.179374</td>\n      <td>735.838128</td>\n      <td>53238.548950</td>\n    </tr>\n  </tbody>\n</table>\n<p>2228 rows × 98 columns</p>\n</div>",
      "text/plain": "                        Daily MWH     00:15:00     00:30:00     00:45:00  \\\n01/01/08 - Coal     339372.429300  3404.533580  3374.630529  3301.911372   \n01/01/08 - Gas      276619.641500  1903.848839  1924.976097  1981.468588   \n01/01/08 - Hydro      1412.214637    12.613451    16.785928    16.555397   \n01/01/08 - Nuclear  121984.037300  1269.974310  1270.258137  1269.705270   \n01/01/08 - Oth       15057.486190    73.197452    75.471370    78.455400   \n...                           ...          ...          ...          ...   \n12/31/08-Gas_GT               NaN   320.106602   316.465331   301.338574   \n12/31/08-Hydro                NaN     4.449232     5.060863     5.055748   \n12/31/08-Nuclear              NaN  1281.415193  1281.787146  1281.877205   \n12/31/08-Oth                  NaN    83.332126    83.732321    83.095110   \n12/31/08-Wnd                  NaN   806.919147   756.449395   781.012355   \n\n                       01:00:00     01:15:00     01:30:00     01:45:00  \\\n01/01/08 - Coal     3261.613219  3288.803572  3303.384605  3311.973296   \n01/01/08 - Gas      2056.427185  2038.527391  2037.782663  2044.793647   \n01/01/08 - Hydro      16.583607    11.988934     8.931032     8.923337   \n01/01/08 - Nuclear  1269.831950  1270.067861  1269.973788  1269.927915   \n01/01/08 - Oth        76.270397    84.836193    94.078547    95.168241   \n...                         ...          ...          ...          ...   \n12/31/08-Gas_GT      304.209012   298.801076   312.904322   293.602901   \n12/31/08-Hydro         5.063564     5.290445     5.275093     5.263472   \n12/31/08-Nuclear    1281.806360  1281.643251  1281.637059  1281.742056   \n12/31/08-Oth          83.474506    83.469210    82.963600    83.577136   \n12/31/08-Wnd         776.499222   789.254184   817.964294   914.519610   \n\n                       02:00:00     02:15:00  ...     22:00:00     22:15:00  \\\n01/01/08 - Coal     3326.819369  3455.276891  ...  3502.165337  3549.792347   \n01/01/08 - Gas      2047.330735  1998.122229  ...  3909.524583  3768.977472   \n01/01/08 - Hydro       8.925711    22.645949  ...    17.117810    11.170575   \n01/01/08 - Nuclear  1270.134620  1270.441414  ...  1270.667483  1271.101743   \n01/01/08 - Oth        91.887518    93.816436  ...   217.902477   216.888418   \n...                         ...          ...  ...          ...          ...   \n12/31/08-Gas_GT      279.835582   270.426851  ...   590.690969   702.111246   \n12/31/08-Hydro         5.308443     5.256775  ...     4.007231     4.027017   \n12/31/08-Nuclear    1281.643981  1281.714299  ...  1283.134557  1283.181093   \n12/31/08-Oth          83.546554    83.379622  ...    78.673701    79.218274   \n12/31/08-Wnd         954.745620   952.103764  ...   286.186683   330.300563   \n\n                       22:30:00     22:45:00     23:00:00     23:15:00  \\\n01/01/08 - Coal     3550.876593  3537.379010  3513.904143  3508.113675   \n01/01/08 - Gas      3715.293127  3638.667159  3555.422346  3468.293007   \n01/01/08 - Hydro       8.886809     8.822955     8.802790     8.801122   \n01/01/08 - Nuclear  1270.604567  1270.853273  1271.238813  1271.901956   \n01/01/08 - Oth       216.264041   214.638235   214.152028   209.254285   \n...                         ...          ...          ...          ...   \n12/31/08-Gas_GT      682.112361   675.011354   646.608217   661.991225   \n12/31/08-Hydro         4.025495     4.020993     4.016164     4.041265   \n12/31/08-Nuclear    1283.480000  1283.718352  1283.519053  1283.484562   \n12/31/08-Oth          79.033469    79.618131    79.055882    79.515137   \n12/31/08-Wnd         355.724750   388.871377   437.618101   484.672525   \n\n                       23:30:00     23:45:00  1900-01-01 00:00:00  \\\n01/01/08 - Coal     3515.887981  3544.553621          3546.848403   \n01/01/08 - Gas      3359.934485  3295.795029          3229.623708   \n01/01/08 - Hydro       8.812061     8.801055             8.788432   \n01/01/08 - Nuclear  1272.245606  1271.960144          1272.192722   \n01/01/08 - Oth       205.932713   205.169873           204.610309   \n...                         ...          ...                  ...   \n12/31/08-Gas_GT      630.075729   554.271983           497.850853   \n12/31/08-Hydro         4.034489     4.017723             4.076322   \n12/31/08-Nuclear    1283.391063  1283.412556          1283.294441   \n12/31/08-Oth          78.880434    78.878993            80.420095   \n12/31/08-Wnd         545.290935   629.179374           735.838128   \n\n                            Total  \n01/01/08 - Coal               NaN  \n01/01/08 - Gas                NaN  \n01/01/08 - Hydro              NaN  \n01/01/08 - Nuclear            NaN  \n01/01/08 - Oth                NaN  \n...                           ...  \n12/31/08-Gas_GT      49652.529411  \n12/31/08-Hydro         516.272998  \n12/31/08-Nuclear    123103.471718  \n12/31/08-Oth          8052.442880  \n12/31/08-Wnd         53238.548950  \n\n[2228 rows x 98 columns]"
     },
     "execution_count": 24,
     "metadata": {},
     "output_type": "execute_result"
    }
   ],
   "source": [
    "path = 'data/IntGenByFuel2008.xls'\r\n",
    "\r\n",
    "fuel_2008 = pd.DataFrame()\r\n",
    "\r\n",
    "for month in months:\r\n",
    "    fuel_month = pd.read_excel(path,sheet_name=f'{month}2008',index_col=0)\r\n",
    "    fuel_2008 = fuel_2008.append(fuel_month)\r\n",
    "\r\n",
    "fuel_2008\r\n",
    "\r\n"
   ]
  },
  {
   "cell_type": "code",
   "execution_count": 19,
   "metadata": {},
   "outputs": [
    {
     "data": {
      "text/html": "<div>\n<style scoped>\n    .dataframe tbody tr th:only-of-type {\n        vertical-align: middle;\n    }\n\n    .dataframe tbody tr th {\n        vertical-align: top;\n    }\n\n    .dataframe thead th {\n        text-align: right;\n    }\n</style>\n<table border=\"1\" class=\"dataframe\">\n  <thead>\n    <tr style=\"text-align: right;\">\n      <th></th>\n      <th>Total</th>\n      <th>00:15:00</th>\n      <th>00:30:00</th>\n      <th>00:45:00</th>\n      <th>01:00:00</th>\n      <th>01:15:00</th>\n      <th>01:30:00</th>\n      <th>01:45:00</th>\n      <th>02:00:00</th>\n      <th>02:15:00</th>\n      <th>...</th>\n      <th>23:15:00</th>\n      <th>23:30:00</th>\n      <th>23:45:00</th>\n      <th>1900-01-01 00:00:00</th>\n      <th>08:15:00.1</th>\n      <th>15:45:00.1</th>\n      <th>01:15:00.1</th>\n      <th>01:30:00.1</th>\n      <th>01:45:00.1</th>\n      <th>02:00:00.1</th>\n    </tr>\n  </thead>\n  <tbody>\n    <tr>\n      <th>01/01/09-Coal</th>\n      <td>304691.558714</td>\n      <td>3020.487264</td>\n      <td>3056.906920</td>\n      <td>3082.262173</td>\n      <td>3098.584427</td>\n      <td>3065.087090</td>\n      <td>3052.853255</td>\n      <td>2979.038714</td>\n      <td>2931.779420</td>\n      <td>2950.484918</td>\n      <td>...</td>\n      <td>3083.940354</td>\n      <td>3045.295414</td>\n      <td>2986.681957</td>\n      <td>2914.336574</td>\n      <td>NaN</td>\n      <td>NaN</td>\n      <td>NaN</td>\n      <td>NaN</td>\n      <td>NaN</td>\n      <td>NaN</td>\n    </tr>\n    <tr>\n      <th>01/01/09-Gas_CC</th>\n      <td>129403.009394</td>\n      <td>1325.290258</td>\n      <td>1215.452160</td>\n      <td>1158.773512</td>\n      <td>1170.987733</td>\n      <td>1306.003039</td>\n      <td>1325.337542</td>\n      <td>1338.004038</td>\n      <td>1309.718378</td>\n      <td>1262.679477</td>\n      <td>...</td>\n      <td>1120.740542</td>\n      <td>1085.176990</td>\n      <td>1072.555821</td>\n      <td>1054.434474</td>\n      <td>NaN</td>\n      <td>NaN</td>\n      <td>NaN</td>\n      <td>NaN</td>\n      <td>NaN</td>\n      <td>NaN</td>\n    </tr>\n    <tr>\n      <th>01/01/09-Gas_GT</th>\n      <td>35311.807617</td>\n      <td>445.346120</td>\n      <td>419.033958</td>\n      <td>393.803256</td>\n      <td>398.577992</td>\n      <td>412.819947</td>\n      <td>391.547636</td>\n      <td>364.205960</td>\n      <td>355.659455</td>\n      <td>349.281032</td>\n      <td>...</td>\n      <td>289.225971</td>\n      <td>280.536311</td>\n      <td>256.453816</td>\n      <td>250.612063</td>\n      <td>NaN</td>\n      <td>NaN</td>\n      <td>NaN</td>\n      <td>NaN</td>\n      <td>NaN</td>\n      <td>NaN</td>\n    </tr>\n    <tr>\n      <th>01/01/09-Hydro</th>\n      <td>615.694136</td>\n      <td>4.153304</td>\n      <td>4.145450</td>\n      <td>4.183091</td>\n      <td>4.383364</td>\n      <td>5.080254</td>\n      <td>5.025490</td>\n      <td>5.197667</td>\n      <td>5.185932</td>\n      <td>5.223259</td>\n      <td>...</td>\n      <td>4.597906</td>\n      <td>4.610066</td>\n      <td>4.600840</td>\n      <td>4.593259</td>\n      <td>NaN</td>\n      <td>NaN</td>\n      <td>NaN</td>\n      <td>NaN</td>\n      <td>NaN</td>\n      <td>NaN</td>\n    </tr>\n    <tr>\n      <th>01/01/09-Nuclear</th>\n      <td>123145.831190</td>\n      <td>1283.414104</td>\n      <td>1283.528677</td>\n      <td>1283.463135</td>\n      <td>1283.594266</td>\n      <td>1283.359472</td>\n      <td>1283.094010</td>\n      <td>1283.005867</td>\n      <td>1282.814754</td>\n      <td>1282.853599</td>\n      <td>...</td>\n      <td>1281.383236</td>\n      <td>1281.662580</td>\n      <td>1281.468095</td>\n      <td>1281.494464</td>\n      <td>NaN</td>\n      <td>NaN</td>\n      <td>NaN</td>\n      <td>NaN</td>\n      <td>NaN</td>\n      <td>NaN</td>\n    </tr>\n    <tr>\n      <th>...</th>\n      <td>...</td>\n      <td>...</td>\n      <td>...</td>\n      <td>...</td>\n      <td>...</td>\n      <td>...</td>\n      <td>...</td>\n      <td>...</td>\n      <td>...</td>\n      <td>...</td>\n      <td>...</td>\n      <td>...</td>\n      <td>...</td>\n      <td>...</td>\n      <td>...</td>\n      <td>...</td>\n      <td>...</td>\n      <td>...</td>\n      <td>...</td>\n      <td>...</td>\n      <td>...</td>\n    </tr>\n    <tr>\n      <th>12/31/09-Gas_GT</th>\n      <td>52459.607720</td>\n      <td>385.766523</td>\n      <td>367.975374</td>\n      <td>374.092373</td>\n      <td>369.508249</td>\n      <td>375.750184</td>\n      <td>359.741010</td>\n      <td>355.270537</td>\n      <td>348.324441</td>\n      <td>329.130754</td>\n      <td>...</td>\n      <td>526.676327</td>\n      <td>517.200096</td>\n      <td>497.149870</td>\n      <td>507.556896</td>\n      <td>NaN</td>\n      <td>NaN</td>\n      <td>NaN</td>\n      <td>NaN</td>\n      <td>NaN</td>\n      <td>NaN</td>\n    </tr>\n    <tr>\n      <th>12/31/09-Hydro</th>\n      <td>1165.147782</td>\n      <td>2.857105</td>\n      <td>2.863943</td>\n      <td>2.861736</td>\n      <td>2.856434</td>\n      <td>2.857924</td>\n      <td>2.857057</td>\n      <td>2.858342</td>\n      <td>2.863471</td>\n      <td>2.861898</td>\n      <td>...</td>\n      <td>3.066739</td>\n      <td>3.074199</td>\n      <td>3.071693</td>\n      <td>3.192461</td>\n      <td>NaN</td>\n      <td>NaN</td>\n      <td>NaN</td>\n      <td>NaN</td>\n      <td>NaN</td>\n      <td>NaN</td>\n    </tr>\n    <tr>\n      <th>12/31/09-Nuclear</th>\n      <td>124105.298400</td>\n      <td>1293.176243</td>\n      <td>1293.646372</td>\n      <td>1293.229198</td>\n      <td>1293.069672</td>\n      <td>1292.961319</td>\n      <td>1292.947032</td>\n      <td>1293.222175</td>\n      <td>1292.781225</td>\n      <td>1293.049919</td>\n      <td>...</td>\n      <td>1292.865898</td>\n      <td>1293.128195</td>\n      <td>1292.905271</td>\n      <td>1293.331290</td>\n      <td>NaN</td>\n      <td>NaN</td>\n      <td>NaN</td>\n      <td>NaN</td>\n      <td>NaN</td>\n      <td>NaN</td>\n    </tr>\n    <tr>\n      <th>12/31/09-Oth</th>\n      <td>9516.796092</td>\n      <td>99.860645</td>\n      <td>102.517641</td>\n      <td>102.522089</td>\n      <td>102.477174</td>\n      <td>102.706106</td>\n      <td>101.772551</td>\n      <td>101.705138</td>\n      <td>101.459366</td>\n      <td>102.302190</td>\n      <td>...</td>\n      <td>97.003543</td>\n      <td>99.921518</td>\n      <td>94.084064</td>\n      <td>90.418464</td>\n      <td>NaN</td>\n      <td>NaN</td>\n      <td>NaN</td>\n      <td>NaN</td>\n      <td>NaN</td>\n      <td>NaN</td>\n    </tr>\n    <tr>\n      <th>12/31/09-Wnd</th>\n      <td>55401.717590</td>\n      <td>471.005484</td>\n      <td>446.308656</td>\n      <td>404.704976</td>\n      <td>378.549407</td>\n      <td>386.361289</td>\n      <td>385.892483</td>\n      <td>379.220962</td>\n      <td>369.164434</td>\n      <td>361.591386</td>\n      <td>...</td>\n      <td>355.120902</td>\n      <td>363.184408</td>\n      <td>385.559990</td>\n      <td>351.122086</td>\n      <td>NaN</td>\n      <td>NaN</td>\n      <td>NaN</td>\n      <td>NaN</td>\n      <td>NaN</td>\n      <td>NaN</td>\n    </tr>\n  </tbody>\n</table>\n<p>2555 rows × 103 columns</p>\n</div>",
      "text/plain": "                          Total     00:15:00     00:30:00     00:45:00  \\\n01/01/09-Coal     304691.558714  3020.487264  3056.906920  3082.262173   \n01/01/09-Gas_CC   129403.009394  1325.290258  1215.452160  1158.773512   \n01/01/09-Gas_GT    35311.807617   445.346120   419.033958   393.803256   \n01/01/09-Hydro       615.694136     4.153304     4.145450     4.183091   \n01/01/09-Nuclear  123145.831190  1283.414104  1283.528677  1283.463135   \n...                         ...          ...          ...          ...   \n12/31/09-Gas_GT    52459.607720   385.766523   367.975374   374.092373   \n12/31/09-Hydro      1165.147782     2.857105     2.863943     2.861736   \n12/31/09-Nuclear  124105.298400  1293.176243  1293.646372  1293.229198   \n12/31/09-Oth        9516.796092    99.860645   102.517641   102.522089   \n12/31/09-Wnd       55401.717590   471.005484   446.308656   404.704976   \n\n                     01:00:00     01:15:00     01:30:00     01:45:00  \\\n01/01/09-Coal     3098.584427  3065.087090  3052.853255  2979.038714   \n01/01/09-Gas_CC   1170.987733  1306.003039  1325.337542  1338.004038   \n01/01/09-Gas_GT    398.577992   412.819947   391.547636   364.205960   \n01/01/09-Hydro       4.383364     5.080254     5.025490     5.197667   \n01/01/09-Nuclear  1283.594266  1283.359472  1283.094010  1283.005867   \n...                       ...          ...          ...          ...   \n12/31/09-Gas_GT    369.508249   375.750184   359.741010   355.270537   \n12/31/09-Hydro       2.856434     2.857924     2.857057     2.858342   \n12/31/09-Nuclear  1293.069672  1292.961319  1292.947032  1293.222175   \n12/31/09-Oth       102.477174   102.706106   101.772551   101.705138   \n12/31/09-Wnd       378.549407   386.361289   385.892483   379.220962   \n\n                     02:00:00     02:15:00  ...     23:15:00     23:30:00  \\\n01/01/09-Coal     2931.779420  2950.484918  ...  3083.940354  3045.295414   \n01/01/09-Gas_CC   1309.718378  1262.679477  ...  1120.740542  1085.176990   \n01/01/09-Gas_GT    355.659455   349.281032  ...   289.225971   280.536311   \n01/01/09-Hydro       5.185932     5.223259  ...     4.597906     4.610066   \n01/01/09-Nuclear  1282.814754  1282.853599  ...  1281.383236  1281.662580   \n...                       ...          ...  ...          ...          ...   \n12/31/09-Gas_GT    348.324441   329.130754  ...   526.676327   517.200096   \n12/31/09-Hydro       2.863471     2.861898  ...     3.066739     3.074199   \n12/31/09-Nuclear  1292.781225  1293.049919  ...  1292.865898  1293.128195   \n12/31/09-Oth       101.459366   102.302190  ...    97.003543    99.921518   \n12/31/09-Wnd       369.164434   361.591386  ...   355.120902   363.184408   \n\n                     23:45:00  1900-01-01 00:00:00  08:15:00.1  15:45:00.1  \\\n01/01/09-Coal     2986.681957          2914.336574         NaN         NaN   \n01/01/09-Gas_CC   1072.555821          1054.434474         NaN         NaN   \n01/01/09-Gas_GT    256.453816           250.612063         NaN         NaN   \n01/01/09-Hydro       4.600840             4.593259         NaN         NaN   \n01/01/09-Nuclear  1281.468095          1281.494464         NaN         NaN   \n...                       ...                  ...         ...         ...   \n12/31/09-Gas_GT    497.149870           507.556896         NaN         NaN   \n12/31/09-Hydro       3.071693             3.192461         NaN         NaN   \n12/31/09-Nuclear  1292.905271          1293.331290         NaN         NaN   \n12/31/09-Oth        94.084064            90.418464         NaN         NaN   \n12/31/09-Wnd       385.559990           351.122086         NaN         NaN   \n\n                  01:15:00.1  01:30:00.1  01:45:00.1  02:00:00.1  \n01/01/09-Coal            NaN         NaN         NaN         NaN  \n01/01/09-Gas_CC          NaN         NaN         NaN         NaN  \n01/01/09-Gas_GT          NaN         NaN         NaN         NaN  \n01/01/09-Hydro           NaN         NaN         NaN         NaN  \n01/01/09-Nuclear         NaN         NaN         NaN         NaN  \n...                      ...         ...         ...         ...  \n12/31/09-Gas_GT          NaN         NaN         NaN         NaN  \n12/31/09-Hydro           NaN         NaN         NaN         NaN  \n12/31/09-Nuclear         NaN         NaN         NaN         NaN  \n12/31/09-Oth             NaN         NaN         NaN         NaN  \n12/31/09-Wnd             NaN         NaN         NaN         NaN  \n\n[2555 rows x 103 columns]"
     },
     "execution_count": 19,
     "metadata": {},
     "output_type": "execute_result"
    }
   ],
   "source": [
    "path = 'data/IntGenByFuel2009.xls'\r\n",
    "\r\n",
    "fuel_2009 = pd.DataFrame()\r\n",
    "\r\n",
    "for month in months:\r\n",
    "    fuel_month = pd.read_excel(path,sheet_name=f'{month}09',index_col=0)\r\n",
    "    fuel_2009 = fuel_2009.append(fuel_month)\r\n",
    "\r\n",
    "fuel_2009"
   ]
  },
  {
   "cell_type": "code",
   "execution_count": 23,
   "metadata": {},
   "outputs": [
    {
     "data": {
      "text/html": "<div>\n<style scoped>\n    .dataframe tbody tr th:only-of-type {\n        vertical-align: middle;\n    }\n\n    .dataframe tbody tr th {\n        vertical-align: top;\n    }\n\n    .dataframe thead th {\n        text-align: right;\n    }\n</style>\n<table border=\"1\" class=\"dataframe\">\n  <thead>\n    <tr style=\"text-align: right;\">\n      <th></th>\n      <th>Daily MWH</th>\n      <th>00:15:00</th>\n      <th>00:30:00</th>\n      <th>00:45:00</th>\n      <th>01:00:00</th>\n      <th>01:15:00</th>\n      <th>01:30:00</th>\n      <th>01:45:00</th>\n      <th>02:00:00</th>\n      <th>02:15:00</th>\n      <th>...</th>\n      <th>22:45</th>\n      <th>23:00</th>\n      <th>23:15</th>\n      <th>23:30</th>\n      <th>23:45</th>\n      <th>0:00</th>\n      <th>01:15 (DST)</th>\n      <th>01:30 (DST)</th>\n      <th>01:45 (DST)</th>\n      <th>02:00 (DST)</th>\n    </tr>\n  </thead>\n  <tbody>\n    <tr>\n      <th>01/01/07 - Coal</th>\n      <td>314608.639900</td>\n      <td>3376.329577</td>\n      <td>3368.077206</td>\n      <td>3365.003007</td>\n      <td>3364.700590</td>\n      <td>3337.219223</td>\n      <td>3340.401121</td>\n      <td>3338.779986</td>\n      <td>3341.014301</td>\n      <td>3375.998789</td>\n      <td>...</td>\n      <td>NaN</td>\n      <td>NaN</td>\n      <td>NaN</td>\n      <td>NaN</td>\n      <td>NaN</td>\n      <td>NaN</td>\n      <td>NaN</td>\n      <td>NaN</td>\n      <td>NaN</td>\n      <td>NaN</td>\n    </tr>\n    <tr>\n      <th>01/01/07 - Gas</th>\n      <td>272456.952300</td>\n      <td>2250.333739</td>\n      <td>2252.727205</td>\n      <td>2257.902081</td>\n      <td>2259.768252</td>\n      <td>2204.443372</td>\n      <td>2170.116980</td>\n      <td>2178.863551</td>\n      <td>2179.605680</td>\n      <td>2140.655363</td>\n      <td>...</td>\n      <td>NaN</td>\n      <td>NaN</td>\n      <td>NaN</td>\n      <td>NaN</td>\n      <td>NaN</td>\n      <td>NaN</td>\n      <td>NaN</td>\n      <td>NaN</td>\n      <td>NaN</td>\n      <td>NaN</td>\n    </tr>\n    <tr>\n      <th>01/01/07 - Hydro</th>\n      <td>688.956912</td>\n      <td>3.814499</td>\n      <td>3.809214</td>\n      <td>3.811659</td>\n      <td>3.810560</td>\n      <td>3.810705</td>\n      <td>3.773842</td>\n      <td>3.772936</td>\n      <td>3.637019</td>\n      <td>3.350387</td>\n      <td>...</td>\n      <td>NaN</td>\n      <td>NaN</td>\n      <td>NaN</td>\n      <td>NaN</td>\n      <td>NaN</td>\n      <td>NaN</td>\n      <td>NaN</td>\n      <td>NaN</td>\n      <td>NaN</td>\n      <td>NaN</td>\n    </tr>\n    <tr>\n      <th>01/01/07 - Nuclear</th>\n      <td>120060.021600</td>\n      <td>1250.245128</td>\n      <td>1249.936172</td>\n      <td>1250.009397</td>\n      <td>1250.187850</td>\n      <td>1250.503540</td>\n      <td>1250.240947</td>\n      <td>1250.433454</td>\n      <td>1250.212841</td>\n      <td>1250.094833</td>\n      <td>...</td>\n      <td>NaN</td>\n      <td>NaN</td>\n      <td>NaN</td>\n      <td>NaN</td>\n      <td>NaN</td>\n      <td>NaN</td>\n      <td>NaN</td>\n      <td>NaN</td>\n      <td>NaN</td>\n      <td>NaN</td>\n    </tr>\n    <tr>\n      <th>01/01/07 - Oth</th>\n      <td>3743.903058</td>\n      <td>40.970577</td>\n      <td>41.076414</td>\n      <td>40.996679</td>\n      <td>41.211779</td>\n      <td>39.875432</td>\n      <td>38.641280</td>\n      <td>39.789598</td>\n      <td>39.754927</td>\n      <td>39.909498</td>\n      <td>...</td>\n      <td>NaN</td>\n      <td>NaN</td>\n      <td>NaN</td>\n      <td>NaN</td>\n      <td>NaN</td>\n      <td>NaN</td>\n      <td>NaN</td>\n      <td>NaN</td>\n      <td>NaN</td>\n      <td>NaN</td>\n    </tr>\n    <tr>\n      <th>...</th>\n      <td>...</td>\n      <td>...</td>\n      <td>...</td>\n      <td>...</td>\n      <td>...</td>\n      <td>...</td>\n      <td>...</td>\n      <td>...</td>\n      <td>...</td>\n      <td>...</td>\n      <td>...</td>\n      <td>...</td>\n      <td>...</td>\n      <td>...</td>\n      <td>...</td>\n      <td>...</td>\n      <td>...</td>\n      <td>...</td>\n      <td>...</td>\n      <td>...</td>\n      <td>...</td>\n    </tr>\n    <tr>\n      <th>2022-12-31 00:00:00</th>\n      <td>NaN</td>\n      <td>NaN</td>\n      <td>NaN</td>\n      <td>NaN</td>\n      <td>NaN</td>\n      <td>NaN</td>\n      <td>NaN</td>\n      <td>NaN</td>\n      <td>NaN</td>\n      <td>NaN</td>\n      <td>...</td>\n      <td>1277.521610</td>\n      <td>1277.601614</td>\n      <td>1277.509454</td>\n      <td>1277.312147</td>\n      <td>1277.488193</td>\n      <td>1277.276178</td>\n      <td>NaN</td>\n      <td>NaN</td>\n      <td>NaN</td>\n      <td>NaN</td>\n    </tr>\n    <tr>\n      <th>2022-12-31 00:00:00</th>\n      <td>NaN</td>\n      <td>NaN</td>\n      <td>NaN</td>\n      <td>NaN</td>\n      <td>NaN</td>\n      <td>NaN</td>\n      <td>NaN</td>\n      <td>NaN</td>\n      <td>NaN</td>\n      <td>NaN</td>\n      <td>...</td>\n      <td>7.097469</td>\n      <td>5.219245</td>\n      <td>18.643366</td>\n      <td>15.002416</td>\n      <td>4.763281</td>\n      <td>1.580591</td>\n      <td>NaN</td>\n      <td>NaN</td>\n      <td>NaN</td>\n      <td>NaN</td>\n    </tr>\n    <tr>\n      <th>2022-12-31 00:00:00</th>\n      <td>NaN</td>\n      <td>NaN</td>\n      <td>NaN</td>\n      <td>NaN</td>\n      <td>NaN</td>\n      <td>NaN</td>\n      <td>NaN</td>\n      <td>NaN</td>\n      <td>NaN</td>\n      <td>NaN</td>\n      <td>...</td>\n      <td>0.000000</td>\n      <td>0.000000</td>\n      <td>0.000000</td>\n      <td>0.000000</td>\n      <td>0.000000</td>\n      <td>0.000000</td>\n      <td>NaN</td>\n      <td>NaN</td>\n      <td>NaN</td>\n      <td>NaN</td>\n    </tr>\n    <tr>\n      <th>2022-12-31 00:00:00</th>\n      <td>NaN</td>\n      <td>NaN</td>\n      <td>NaN</td>\n      <td>NaN</td>\n      <td>NaN</td>\n      <td>NaN</td>\n      <td>NaN</td>\n      <td>NaN</td>\n      <td>NaN</td>\n      <td>NaN</td>\n      <td>...</td>\n      <td>-57.648902</td>\n      <td>-52.646814</td>\n      <td>-20.507550</td>\n      <td>-10.509732</td>\n      <td>-10.269654</td>\n      <td>-44.427072</td>\n      <td>NaN</td>\n      <td>NaN</td>\n      <td>NaN</td>\n      <td>NaN</td>\n    </tr>\n    <tr>\n      <th>2022-12-31 00:00:00</th>\n      <td>NaN</td>\n      <td>NaN</td>\n      <td>NaN</td>\n      <td>NaN</td>\n      <td>NaN</td>\n      <td>NaN</td>\n      <td>NaN</td>\n      <td>NaN</td>\n      <td>NaN</td>\n      <td>NaN</td>\n      <td>...</td>\n      <td>5627.661612</td>\n      <td>5613.644307</td>\n      <td>5509.516104</td>\n      <td>5489.178341</td>\n      <td>5450.046703</td>\n      <td>5506.060958</td>\n      <td>NaN</td>\n      <td>NaN</td>\n      <td>NaN</td>\n      <td>NaN</td>\n    </tr>\n  </tbody>\n</table>\n<p>48992 rows × 220 columns</p>\n</div>",
      "text/plain": "                         Daily MWH     00:15:00     00:30:00     00:45:00  \\\n01/01/07 - Coal      314608.639900  3376.329577  3368.077206  3365.003007   \n01/01/07 - Gas       272456.952300  2250.333739  2252.727205  2257.902081   \n01/01/07 - Hydro        688.956912     3.814499     3.809214     3.811659   \n01/01/07 - Nuclear   120060.021600  1250.245128  1249.936172  1250.009397   \n01/01/07 - Oth         3743.903058    40.970577    41.076414    40.996679   \n...                            ...          ...          ...          ...   \n2022-12-31 00:00:00            NaN          NaN          NaN          NaN   \n2022-12-31 00:00:00            NaN          NaN          NaN          NaN   \n2022-12-31 00:00:00            NaN          NaN          NaN          NaN   \n2022-12-31 00:00:00            NaN          NaN          NaN          NaN   \n2022-12-31 00:00:00            NaN          NaN          NaN          NaN   \n\n                        01:00:00     01:15:00     01:30:00     01:45:00  \\\n01/01/07 - Coal      3364.700590  3337.219223  3340.401121  3338.779986   \n01/01/07 - Gas       2259.768252  2204.443372  2170.116980  2178.863551   \n01/01/07 - Hydro        3.810560     3.810705     3.773842     3.772936   \n01/01/07 - Nuclear   1250.187850  1250.503540  1250.240947  1250.433454   \n01/01/07 - Oth         41.211779    39.875432    38.641280    39.789598   \n...                          ...          ...          ...          ...   \n2022-12-31 00:00:00          NaN          NaN          NaN          NaN   \n2022-12-31 00:00:00          NaN          NaN          NaN          NaN   \n2022-12-31 00:00:00          NaN          NaN          NaN          NaN   \n2022-12-31 00:00:00          NaN          NaN          NaN          NaN   \n2022-12-31 00:00:00          NaN          NaN          NaN          NaN   \n\n                        02:00:00     02:15:00  ...        22:45        23:00  \\\n01/01/07 - Coal      3341.014301  3375.998789  ...          NaN          NaN   \n01/01/07 - Gas       2179.605680  2140.655363  ...          NaN          NaN   \n01/01/07 - Hydro        3.637019     3.350387  ...          NaN          NaN   \n01/01/07 - Nuclear   1250.212841  1250.094833  ...          NaN          NaN   \n01/01/07 - Oth         39.754927    39.909498  ...          NaN          NaN   \n...                          ...          ...  ...          ...          ...   \n2022-12-31 00:00:00          NaN          NaN  ...  1277.521610  1277.601614   \n2022-12-31 00:00:00          NaN          NaN  ...     7.097469     5.219245   \n2022-12-31 00:00:00          NaN          NaN  ...     0.000000     0.000000   \n2022-12-31 00:00:00          NaN          NaN  ...   -57.648902   -52.646814   \n2022-12-31 00:00:00          NaN          NaN  ...  5627.661612  5613.644307   \n\n                           23:15        23:30        23:45         0:00  \\\n01/01/07 - Coal              NaN          NaN          NaN          NaN   \n01/01/07 - Gas               NaN          NaN          NaN          NaN   \n01/01/07 - Hydro             NaN          NaN          NaN          NaN   \n01/01/07 - Nuclear           NaN          NaN          NaN          NaN   \n01/01/07 - Oth               NaN          NaN          NaN          NaN   \n...                          ...          ...          ...          ...   \n2022-12-31 00:00:00  1277.509454  1277.312147  1277.488193  1277.276178   \n2022-12-31 00:00:00    18.643366    15.002416     4.763281     1.580591   \n2022-12-31 00:00:00     0.000000     0.000000     0.000000     0.000000   \n2022-12-31 00:00:00   -20.507550   -10.509732   -10.269654   -44.427072   \n2022-12-31 00:00:00  5509.516104  5489.178341  5450.046703  5506.060958   \n\n                     01:15 (DST)  01:30 (DST)  01:45 (DST)  02:00 (DST)  \n01/01/07 - Coal              NaN          NaN          NaN          NaN  \n01/01/07 - Gas               NaN          NaN          NaN          NaN  \n01/01/07 - Hydro             NaN          NaN          NaN          NaN  \n01/01/07 - Nuclear           NaN          NaN          NaN          NaN  \n01/01/07 - Oth               NaN          NaN          NaN          NaN  \n...                          ...          ...          ...          ...  \n2022-12-31 00:00:00          NaN          NaN          NaN          NaN  \n2022-12-31 00:00:00          NaN          NaN          NaN          NaN  \n2022-12-31 00:00:00          NaN          NaN          NaN          NaN  \n2022-12-31 00:00:00          NaN          NaN          NaN          NaN  \n2022-12-31 00:00:00          NaN          NaN          NaN          NaN  \n\n[48992 rows x 220 columns]"
     },
     "execution_count": 23,
     "metadata": {},
     "output_type": "execute_result"
    }
   ],
   "source": [
    "import pandas as pd\r\n",
    "\r\n",
    "# Create an empty DataFrame to store the data\r\n",
    "all_data = pd.DataFrame()\r\n",
    "\r\n",
    "# Loop through years from 2007 to 2008\r\n",
    "#file naming structure changes in 2009 so that will be done in a diffrent loop\r\n",
    "for year in range(2007, 2023):\r\n",
    "    path = f'data/IntGenByFuel{year}.xls'\r\n",
    "    months = ('Jan', 'Feb', 'Mar', 'Apr', 'May', 'Jun', 'Jul', 'Aug', 'Sep', 'Oct', 'Nov', 'Dec')\r\n",
    "    year_data = pd.DataFrame()\r\n",
    "\r\n",
    "    # Loop through months for the current year\r\n",
    "    for month in months:\r\n",
    "\r\n",
    "        #account for misslabeling in october of 2007\r\n",
    "        if month == 'Oct' and year == 2007:\r\n",
    "            fuel_month = pd.read_excel(path, sheet_name=f'{month}{year}', index_col=0)\r\n",
    "            col_list = list(year_data.columns)\r\n",
    "            miss_label = list(fuel_month.columns)\r\n",
    "            #correct misslabel\r\n",
    "            fuel_month.columns = col_list\r\n",
    "            year_data = year_data.append(fuel_month)\r\n",
    "\r\n",
    "        elif year == 2011:\r\n",
    "            fuel_month = pd.read_excel(path, sheet_name=f'{month}{str(year)[-2:]}', index_col=0)\r\n",
    "            #rename the index to match naming pattern\r\n",
    "            fuel_month.index = fuel_month.index.strftime('%Y-%m-%d') + ' - ' + fuel_month['Fuel']\r\n",
    "            fuel_month = fuel_month.drop(columns=['Fuel'])\r\n",
    "            #filter out old index records\r\n",
    "            fuel_month = fuel_month[fuel_month.index.str.contains('-')]\r\n",
    "            year_data = year_data.append(fuel_month)            \r\n",
    "\r\n",
    "        elif year > 2008 and year < 2016 and year != 2011:\r\n",
    "            fuel_month = pd.read_excel(path, sheet_name=f'{month}{str(year)[-2:]}', index_col=0)\r\n",
    "            year_data = year_data.append(fuel_month)\r\n",
    "\r\n",
    "        elif year == 2016:\r\n",
    "            path = f'data/IntGenByFuel{year}.xlsx'\r\n",
    "            fuel_month = pd.read_excel(path, sheet_name=f'{month}{str(year)[-2:]}', index_col=0)\r\n",
    "            year_data = year_data.append(fuel_month)\r\n",
    "\r\n",
    "        elif year > 2016:\r\n",
    "            path = f'data/IntGenByFuel{year}.xlsx'\r\n",
    "            fuel_month = pd.read_excel(path, sheet_name=f'{month}', index_col=0)\r\n",
    "            year_data = year_data.append(fuel_month)\r\n",
    "        \r\n",
    "\r\n",
    "        else:   \r\n",
    "            fuel_month = pd.read_excel(path, sheet_name=f'{month}{year}', index_col=0)\r\n",
    "            year_data = year_data.append(fuel_month)\r\n",
    "        \r\n",
    "    # Append the data for the current year to the all_data DataFrame\r\n",
    "    all_data = all_data.append(year_data)\r\n",
    "\r\n",
    "# The all_data DataFrame now contains the data from all months and years\r\n",
    "all_data\r\n",
    "\r\n",
    "\r\n",
    "\r\n",
    "\r\n"
   ]
  },
  {
   "cell_type": "code",
   "execution_count": null,
   "metadata": {},
   "outputs": [],
   "source": []
  },
  {
   "cell_type": "code",
   "execution_count": 24,
   "metadata": {},
   "outputs": [],
   "source": [
    "all_data['Total'] = all_data['Total'].fillna(all_data['Daily MWH'])\r\n",
    "all_data[all_data.columns[96]] = all_data[all_data.columns[96]].fillna(all_data[all_data.columns[97]])\r\n",
    "all_data = all_data.drop(columns=['Daily MWH',all_data.columns[97]])"
   ]
  },
  {
   "cell_type": "code",
   "execution_count": 25,
   "metadata": {},
   "outputs": [],
   "source": [
    "\r\n",
    "all_data.to_csv('test_output.csv', index=True)"
   ]
  },
  {
   "cell_type": "code",
   "execution_count": null,
   "metadata": {},
   "outputs": [],
   "source": []
  },
  {
   "cell_type": "code",
   "execution_count": null,
   "metadata": {},
   "outputs": [],
   "source": []
  }
 ],
 "metadata": {
  "kernelspec": {
   "display_name": "Python 3.8.5 64-bit ('rwbut': virtualenv)",
   "name": "python385jvsc74a57bd08e49214a560cda078e502002c7b80516a9700d7f09758e242b71eebe169fbdbe"
  },
  "language_info": {
   "codemirror_mode": {
    "name": "ipython",
    "version": 3
   },
   "file_extension": ".py",
   "mimetype": "text/x-python",
   "name": "python",
   "nbconvert_exporter": "python",
   "pygments_lexer": "ipython3",
   "version": "3.8.5"
  },
  "orig_nbformat": 2
 },
 "nbformat": 4,
 "nbformat_minor": 2
}