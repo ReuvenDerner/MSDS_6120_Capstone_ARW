{
 "cells": [
  {
   "cell_type": "code",
   "execution_count": 1,
   "metadata": {},
   "outputs": [],
   "source": [
    "#import libraries\r\n",
    "import pandas as pd\r\n",
    "from datetime import datetime, timedelta\r\n",
    "import hashlib"
   ]
  },
  {
   "cell_type": "code",
   "execution_count": null,
   "metadata": {},
   "outputs": [],
   "source": []
  },
  {
   "cell_type": "code",
   "execution_count": 2,
   "metadata": {},
   "outputs": [
    {
     "data": {
      "text/html": "<div>\n<style scoped>\n    .dataframe tbody tr th:only-of-type {\n        vertical-align: middle;\n    }\n\n    .dataframe tbody tr th {\n        vertical-align: top;\n    }\n\n    .dataframe thead th {\n        text-align: right;\n    }\n</style>\n<table border=\"1\" class=\"dataframe\">\n  <thead>\n    <tr style=\"text-align: right;\">\n      <th></th>\n      <th>Daily MWH</th>\n      <th>00:15:00</th>\n      <th>00:30:00</th>\n      <th>00:45:00</th>\n      <th>01:00:00</th>\n      <th>01:15:00</th>\n      <th>01:30:00</th>\n      <th>01:45:00</th>\n      <th>02:00:00</th>\n      <th>02:15:00</th>\n      <th>...</th>\n      <th>22:45</th>\n      <th>23:00</th>\n      <th>23:15</th>\n      <th>23:30</th>\n      <th>23:45</th>\n      <th>0:00</th>\n      <th>01:15 (DST)</th>\n      <th>01:30 (DST)</th>\n      <th>01:45 (DST)</th>\n      <th>02:00 (DST)</th>\n    </tr>\n  </thead>\n  <tbody>\n    <tr>\n      <th>01/01/07 - Coal</th>\n      <td>314608.639900</td>\n      <td>3376.329577</td>\n      <td>3368.077206</td>\n      <td>3365.003007</td>\n      <td>3364.700590</td>\n      <td>3337.219223</td>\n      <td>3340.401121</td>\n      <td>3338.779986</td>\n      <td>3341.014301</td>\n      <td>3375.998789</td>\n      <td>...</td>\n      <td>NaN</td>\n      <td>NaN</td>\n      <td>NaN</td>\n      <td>NaN</td>\n      <td>NaN</td>\n      <td>NaN</td>\n      <td>NaN</td>\n      <td>NaN</td>\n      <td>NaN</td>\n      <td>NaN</td>\n    </tr>\n    <tr>\n      <th>01/01/07 - Gas</th>\n      <td>272456.952300</td>\n      <td>2250.333739</td>\n      <td>2252.727205</td>\n      <td>2257.902081</td>\n      <td>2259.768252</td>\n      <td>2204.443372</td>\n      <td>2170.116980</td>\n      <td>2178.863551</td>\n      <td>2179.605680</td>\n      <td>2140.655363</td>\n      <td>...</td>\n      <td>NaN</td>\n      <td>NaN</td>\n      <td>NaN</td>\n      <td>NaN</td>\n      <td>NaN</td>\n      <td>NaN</td>\n      <td>NaN</td>\n      <td>NaN</td>\n      <td>NaN</td>\n      <td>NaN</td>\n    </tr>\n    <tr>\n      <th>01/01/07 - Hydro</th>\n      <td>688.956912</td>\n      <td>3.814499</td>\n      <td>3.809214</td>\n      <td>3.811659</td>\n      <td>3.810560</td>\n      <td>3.810705</td>\n      <td>3.773842</td>\n      <td>3.772936</td>\n      <td>3.637019</td>\n      <td>3.350387</td>\n      <td>...</td>\n      <td>NaN</td>\n      <td>NaN</td>\n      <td>NaN</td>\n      <td>NaN</td>\n      <td>NaN</td>\n      <td>NaN</td>\n      <td>NaN</td>\n      <td>NaN</td>\n      <td>NaN</td>\n      <td>NaN</td>\n    </tr>\n    <tr>\n      <th>01/01/07 - Nuclear</th>\n      <td>120060.021600</td>\n      <td>1250.245128</td>\n      <td>1249.936172</td>\n      <td>1250.009397</td>\n      <td>1250.187850</td>\n      <td>1250.503540</td>\n      <td>1250.240947</td>\n      <td>1250.433454</td>\n      <td>1250.212841</td>\n      <td>1250.094833</td>\n      <td>...</td>\n      <td>NaN</td>\n      <td>NaN</td>\n      <td>NaN</td>\n      <td>NaN</td>\n      <td>NaN</td>\n      <td>NaN</td>\n      <td>NaN</td>\n      <td>NaN</td>\n      <td>NaN</td>\n      <td>NaN</td>\n    </tr>\n    <tr>\n      <th>01/01/07 - Oth</th>\n      <td>3743.903058</td>\n      <td>40.970577</td>\n      <td>41.076414</td>\n      <td>40.996679</td>\n      <td>41.211779</td>\n      <td>39.875432</td>\n      <td>38.641280</td>\n      <td>39.789598</td>\n      <td>39.754927</td>\n      <td>39.909498</td>\n      <td>...</td>\n      <td>NaN</td>\n      <td>NaN</td>\n      <td>NaN</td>\n      <td>NaN</td>\n      <td>NaN</td>\n      <td>NaN</td>\n      <td>NaN</td>\n      <td>NaN</td>\n      <td>NaN</td>\n      <td>NaN</td>\n    </tr>\n    <tr>\n      <th>...</th>\n      <td>...</td>\n      <td>...</td>\n      <td>...</td>\n      <td>...</td>\n      <td>...</td>\n      <td>...</td>\n      <td>...</td>\n      <td>...</td>\n      <td>...</td>\n      <td>...</td>\n      <td>...</td>\n      <td>...</td>\n      <td>...</td>\n      <td>...</td>\n      <td>...</td>\n      <td>...</td>\n      <td>...</td>\n      <td>...</td>\n      <td>...</td>\n      <td>...</td>\n      <td>...</td>\n    </tr>\n    <tr>\n      <th>2022-12-31 00:00:00</th>\n      <td>NaN</td>\n      <td>NaN</td>\n      <td>NaN</td>\n      <td>NaN</td>\n      <td>NaN</td>\n      <td>NaN</td>\n      <td>NaN</td>\n      <td>NaN</td>\n      <td>NaN</td>\n      <td>NaN</td>\n      <td>...</td>\n      <td>1277.521610</td>\n      <td>1277.601614</td>\n      <td>1277.509454</td>\n      <td>1277.312147</td>\n      <td>1277.488193</td>\n      <td>1277.276178</td>\n      <td>NaN</td>\n      <td>NaN</td>\n      <td>NaN</td>\n      <td>NaN</td>\n    </tr>\n    <tr>\n      <th>2022-12-31 00:00:00</th>\n      <td>NaN</td>\n      <td>NaN</td>\n      <td>NaN</td>\n      <td>NaN</td>\n      <td>NaN</td>\n      <td>NaN</td>\n      <td>NaN</td>\n      <td>NaN</td>\n      <td>NaN</td>\n      <td>NaN</td>\n      <td>...</td>\n      <td>7.097469</td>\n      <td>5.219245</td>\n      <td>18.643366</td>\n      <td>15.002416</td>\n      <td>4.763281</td>\n      <td>1.580591</td>\n      <td>NaN</td>\n      <td>NaN</td>\n      <td>NaN</td>\n      <td>NaN</td>\n    </tr>\n    <tr>\n      <th>2022-12-31 00:00:00</th>\n      <td>NaN</td>\n      <td>NaN</td>\n      <td>NaN</td>\n      <td>NaN</td>\n      <td>NaN</td>\n      <td>NaN</td>\n      <td>NaN</td>\n      <td>NaN</td>\n      <td>NaN</td>\n      <td>NaN</td>\n      <td>...</td>\n      <td>0.000000</td>\n      <td>0.000000</td>\n      <td>0.000000</td>\n      <td>0.000000</td>\n      <td>0.000000</td>\n      <td>0.000000</td>\n      <td>NaN</td>\n      <td>NaN</td>\n      <td>NaN</td>\n      <td>NaN</td>\n    </tr>\n    <tr>\n      <th>2022-12-31 00:00:00</th>\n      <td>NaN</td>\n      <td>NaN</td>\n      <td>NaN</td>\n      <td>NaN</td>\n      <td>NaN</td>\n      <td>NaN</td>\n      <td>NaN</td>\n      <td>NaN</td>\n      <td>NaN</td>\n      <td>NaN</td>\n      <td>...</td>\n      <td>-57.648902</td>\n      <td>-52.646814</td>\n      <td>-20.507550</td>\n      <td>-10.509732</td>\n      <td>-10.269654</td>\n      <td>-44.427072</td>\n      <td>NaN</td>\n      <td>NaN</td>\n      <td>NaN</td>\n      <td>NaN</td>\n    </tr>\n    <tr>\n      <th>2022-12-31 00:00:00</th>\n      <td>NaN</td>\n      <td>NaN</td>\n      <td>NaN</td>\n      <td>NaN</td>\n      <td>NaN</td>\n      <td>NaN</td>\n      <td>NaN</td>\n      <td>NaN</td>\n      <td>NaN</td>\n      <td>NaN</td>\n      <td>...</td>\n      <td>5627.661612</td>\n      <td>5613.644307</td>\n      <td>5509.516104</td>\n      <td>5489.178341</td>\n      <td>5450.046703</td>\n      <td>5506.060958</td>\n      <td>NaN</td>\n      <td>NaN</td>\n      <td>NaN</td>\n      <td>NaN</td>\n    </tr>\n  </tbody>\n</table>\n<p>48992 rows × 220 columns</p>\n</div>",
      "text/plain": "                         Daily MWH     00:15:00     00:30:00     00:45:00  \\\n01/01/07 - Coal      314608.639900  3376.329577  3368.077206  3365.003007   \n01/01/07 - Gas       272456.952300  2250.333739  2252.727205  2257.902081   \n01/01/07 - Hydro        688.956912     3.814499     3.809214     3.811659   \n01/01/07 - Nuclear   120060.021600  1250.245128  1249.936172  1250.009397   \n01/01/07 - Oth         3743.903058    40.970577    41.076414    40.996679   \n...                            ...          ...          ...          ...   \n2022-12-31 00:00:00            NaN          NaN          NaN          NaN   \n2022-12-31 00:00:00            NaN          NaN          NaN          NaN   \n2022-12-31 00:00:00            NaN          NaN          NaN          NaN   \n2022-12-31 00:00:00            NaN          NaN          NaN          NaN   \n2022-12-31 00:00:00            NaN          NaN          NaN          NaN   \n\n                        01:00:00     01:15:00     01:30:00     01:45:00  \\\n01/01/07 - Coal      3364.700590  3337.219223  3340.401121  3338.779986   \n01/01/07 - Gas       2259.768252  2204.443372  2170.116980  2178.863551   \n01/01/07 - Hydro        3.810560     3.810705     3.773842     3.772936   \n01/01/07 - Nuclear   1250.187850  1250.503540  1250.240947  1250.433454   \n01/01/07 - Oth         41.211779    39.875432    38.641280    39.789598   \n...                          ...          ...          ...          ...   \n2022-12-31 00:00:00          NaN          NaN          NaN          NaN   \n2022-12-31 00:00:00          NaN          NaN          NaN          NaN   \n2022-12-31 00:00:00          NaN          NaN          NaN          NaN   \n2022-12-31 00:00:00          NaN          NaN          NaN          NaN   \n2022-12-31 00:00:00          NaN          NaN          NaN          NaN   \n\n                        02:00:00     02:15:00  ...        22:45        23:00  \\\n01/01/07 - Coal      3341.014301  3375.998789  ...          NaN          NaN   \n01/01/07 - Gas       2179.605680  2140.655363  ...          NaN          NaN   \n01/01/07 - Hydro        3.637019     3.350387  ...          NaN          NaN   \n01/01/07 - Nuclear   1250.212841  1250.094833  ...          NaN          NaN   \n01/01/07 - Oth         39.754927    39.909498  ...          NaN          NaN   \n...                          ...          ...  ...          ...          ...   \n2022-12-31 00:00:00          NaN          NaN  ...  1277.521610  1277.601614   \n2022-12-31 00:00:00          NaN          NaN  ...     7.097469     5.219245   \n2022-12-31 00:00:00          NaN          NaN  ...     0.000000     0.000000   \n2022-12-31 00:00:00          NaN          NaN  ...   -57.648902   -52.646814   \n2022-12-31 00:00:00          NaN          NaN  ...  5627.661612  5613.644307   \n\n                           23:15        23:30        23:45         0:00  \\\n01/01/07 - Coal              NaN          NaN          NaN          NaN   \n01/01/07 - Gas               NaN          NaN          NaN          NaN   \n01/01/07 - Hydro             NaN          NaN          NaN          NaN   \n01/01/07 - Nuclear           NaN          NaN          NaN          NaN   \n01/01/07 - Oth               NaN          NaN          NaN          NaN   \n...                          ...          ...          ...          ...   \n2022-12-31 00:00:00  1277.509454  1277.312147  1277.488193  1277.276178   \n2022-12-31 00:00:00    18.643366    15.002416     4.763281     1.580591   \n2022-12-31 00:00:00     0.000000     0.000000     0.000000     0.000000   \n2022-12-31 00:00:00   -20.507550   -10.509732   -10.269654   -44.427072   \n2022-12-31 00:00:00  5509.516104  5489.178341  5450.046703  5506.060958   \n\n                     01:15 (DST)  01:30 (DST)  01:45 (DST)  02:00 (DST)  \n01/01/07 - Coal              NaN          NaN          NaN          NaN  \n01/01/07 - Gas               NaN          NaN          NaN          NaN  \n01/01/07 - Hydro             NaN          NaN          NaN          NaN  \n01/01/07 - Nuclear           NaN          NaN          NaN          NaN  \n01/01/07 - Oth               NaN          NaN          NaN          NaN  \n...                          ...          ...          ...          ...  \n2022-12-31 00:00:00          NaN          NaN          NaN          NaN  \n2022-12-31 00:00:00          NaN          NaN          NaN          NaN  \n2022-12-31 00:00:00          NaN          NaN          NaN          NaN  \n2022-12-31 00:00:00          NaN          NaN          NaN          NaN  \n2022-12-31 00:00:00          NaN          NaN          NaN          NaN  \n\n[48992 rows x 220 columns]"
     },
     "execution_count": 2,
     "metadata": {},
     "output_type": "execute_result"
    }
   ],
   "source": [
    "# Create an empty DataFrame to store the data\r\n",
    "all_data = pd.DataFrame()\r\n",
    "\r\n",
    "# Loop through years from 2007 to 2008\r\n",
    "#file naming structure changes in 2009 so that will be done in a diffrent loop\r\n",
    "for year in range(2007, 2023):\r\n",
    "    path = f'data/IntGenByFuel{year}.xls'\r\n",
    "    months = ('Jan', 'Feb', 'Mar', 'Apr', 'May', 'Jun', 'Jul', 'Aug', 'Sep', 'Oct', 'Nov', 'Dec')\r\n",
    "    year_data = pd.DataFrame()\r\n",
    "\r\n",
    "    # Loop through months for the current year\r\n",
    "    for month in months:\r\n",
    "\r\n",
    "        #account for misslabeling in october of 2007\r\n",
    "        if month == 'Oct' and year == 2007:\r\n",
    "            fuel_month = pd.read_excel(path, sheet_name=f'{month}{year}', index_col=0)\r\n",
    "            col_list = list(year_data.columns)\r\n",
    "            miss_label = list(fuel_month.columns)\r\n",
    "            #correct misslabel\r\n",
    "            fuel_month.columns = col_list\r\n",
    "            fuel_month['Fuel'] = fuel_month.index.str.split(' - ').str[1]\r\n",
    "            year_data = year_data.append(fuel_month)\r\n",
    "\r\n",
    "        elif year == 2011:\r\n",
    "            fuel_month = pd.read_excel(path, sheet_name=f'{month}{str(year)[-2:]}', index_col=0)\r\n",
    "            #rename the index to match naming pattern\r\n",
    "            fuel_month.index = fuel_month.index.strftime('%Y-%m-%d') + ' - ' + fuel_month['Fuel']\r\n",
    "            fuel_month = fuel_month.drop(columns=['Fuel'])\r\n",
    "            #filter out old index records\r\n",
    "            fuel_month = fuel_month[fuel_month.index.str.contains('-')]\r\n",
    "            year_data = year_data.append(fuel_month)            \r\n",
    "\r\n",
    "        elif year > 2008 and year < 2016 and year != 2011:\r\n",
    "            fuel_month = pd.read_excel(path, sheet_name=f'{month}{str(year)[-2:]}', index_col=0)\r\n",
    "            fuel_month['Fuel'] = fuel_month.index.str.split(' - ').str[1]\r\n",
    "            year_data = year_data.append(fuel_month)\r\n",
    "\r\n",
    "        elif year == 2016:\r\n",
    "            path = f'data/IntGenByFuel{year}.xlsx'\r\n",
    "            fuel_month = pd.read_excel(path, sheet_name=f'{month}{str(year)[-2:]}', index_col=0)\r\n",
    "            fuel_month['Fuel'] = fuel_month.index.str.split(' - ').str[1]\r\n",
    "            year_data = year_data.append(fuel_month)\r\n",
    "\r\n",
    "        elif year > 2016:\r\n",
    "            path = f'data/IntGenByFuel{year}.xlsx'\r\n",
    "            fuel_month = pd.read_excel(path, sheet_name=f'{month}', index_col=0)\r\n",
    "            year_data = year_data.append(fuel_month)\r\n",
    "        \r\n",
    "\r\n",
    "        else:   \r\n",
    "            fuel_month = pd.read_excel(path, sheet_name=f'{month}{year}', index_col=0)\r\n",
    "            year_data = year_data.append(fuel_month)\r\n",
    "        \r\n",
    "    # Append the data for the current year to the all_data DataFrame\r\n",
    "    all_data = all_data.append(year_data)\r\n",
    "\r\n",
    "# The all_data DataFrame now contains the data from all months and years\r\n",
    "all_data\r\n",
    "\r\n",
    "\r\n",
    "\r\n",
    "\r\n"
   ]
  },
  {
   "cell_type": "code",
   "execution_count": 10,
   "metadata": {},
   "outputs": [
    {
     "name": "stdout",
     "output_type": "stream",
     "text": [
      "    Date - Fuel  Fuel         Demand DateFuel Date-Fuel  \\\n",
      "0           NaT   NaN  629217.279792      NaT       NaT   \n",
      "1           NaT   NaN  544913.904602      NaT       NaT   \n",
      "2           NaT   NaN    1377.913824      NaT       NaT   \n",
      "3           NaT   NaN  240120.043186      NaT       NaT   \n",
      "4           NaT   NaN    7487.806116      NaT       NaT   \n",
      "..          ...   ...            ...      ...       ...   \n",
      "305         NaT   NaN  245402.146536      NaT       NaT   \n",
      "306         NaT   NaN    3164.960676      NaT       NaT   \n",
      "307         NaT   NaN   72936.609972      NaT       NaT   \n",
      "308         NaT   NaN   -4026.867786      NaT       NaT   \n",
      "309         NaT   NaN  895599.084165      NaT       NaT   \n",
      "\n",
      "                         Date  \n",
      "0                         NaT  \n",
      "1                         NaT  \n",
      "2                         NaT  \n",
      "3                         NaT  \n",
      "4                         NaT  \n",
      "..                        ...  \n",
      "305 2022-12-31 00:00:00+00:00  \n",
      "306 2022-12-31 00:00:00+00:00  \n",
      "307 2022-12-31 00:00:00+00:00  \n",
      "308 2022-12-31 00:00:00+00:00  \n",
      "309 2022-12-31 00:00:00+00:00  \n",
      "\n",
      "[48992 rows x 6 columns]\n"
     ]
    }
   ],
   "source": [
    "# Create an empty DataFrame to store the data\r\n",
    "all_data = pd.DataFrame()\r\n",
    "\r\n",
    "# Loop through years from 2007 to 2022\r\n",
    "for year in range(2007, 2023):\r\n",
    "    path = f'data/IntGenByFuel{year}.xls'\r\n",
    "    months = ('Jan', 'Feb', 'Mar', 'Apr', 'May', 'Jun', 'Jul', 'Aug', 'Sep', 'Oct', 'Nov', 'Dec')\r\n",
    "    year_data = pd.DataFrame()\r\n",
    "\r\n",
    "    # Loop through months for the current year\r\n",
    "    for month in months:\r\n",
    "        if month == 'Oct' and year == 2007:\r\n",
    "            fuel_month = pd.read_excel(path, sheet_name=f'{month}{year}', index_col=0)\r\n",
    "            col_list = fuel_month.columns.tolist()\r\n",
    "            fuel_month.columns = col_list\r\n",
    "            fuel_month.index = pd.to_datetime(fuel_month.index, errors='coerce', format='%m/%d/%y - %H:%M %p').tz_localize('UTC')\r\n",
    "            fuel_month['Fuel'] = fuel_month.index.astype(str).str.split(' - ').str[1]\r\n",
    "            fuel_month['Demand'] = fuel_month[col_list].sum(axis=1)\r\n",
    "            fuel_month = fuel_month[['Fuel', 'Demand']].reset_index()\r\n",
    "            year_data = year_data.append(fuel_month)\r\n",
    "\r\n",
    "        elif year == 2011:\r\n",
    "            fuel_month = pd.read_excel(path, sheet_name=f'{month}{str(year)[-2:]}', index_col=0)\r\n",
    "            col_list = fuel_month.columns.tolist()\r\n",
    "            fuel_month.index = pd.to_datetime(fuel_month.index, errors='coerce', format='%m/%d/%y - %H:%M %p').tz_localize('UTC')\r\n",
    "            fuel_month['Fuel'] = fuel_month['Fuel']\r\n",
    "            fuel_month['Demand'] = fuel_month[col_list].sum(axis=1)\r\n",
    "            fuel_month = fuel_month[['Fuel', 'Demand']].reset_index()\r\n",
    "            year_data = year_data.append(fuel_month)\r\n",
    "\r\n",
    "        elif year > 2008 and year < 2016 and year != 2011:\r\n",
    "            fuel_month = pd.read_excel(path, sheet_name=f'{month}{str(year)[-2:]}', index_col=0)\r\n",
    "            col_list = fuel_month.columns.tolist()\r\n",
    "            fuel_month['Fuel'] = fuel_month.index.astype(str).str.split(' - ').str[1]\r\n",
    "            fuel_month.index = pd.to_datetime(fuel_month.index, errors='coerce', format='%m/%d/%y - %H:%M %p').tz_localize('UTC')\r\n",
    "            fuel_month['Demand'] = fuel_month[col_list].sum(axis=1)\r\n",
    "            fuel_month = fuel_month[['Fuel', 'Demand']].reset_index()\r\n",
    "            year_data = year_data.append(fuel_month)\r\n",
    "\r\n",
    "        elif year == 2016:\r\n",
    "            path = f'data/IntGenByFuel{year}.xlsx'\r\n",
    "            fuel_month = pd.read_excel(path, sheet_name=f'{month}{str(year)[-2:]}', index_col=0)\r\n",
    "            col_list = fuel_month.columns.tolist()\r\n",
    "            fuel_month['Fuel'] = fuel_month.index.astype(str).str.split(' - ').str[1]\r\n",
    "            fuel_month.index = pd.to_datetime(fuel_month.index, errors='coerce', format='%m/%d/%y - %H:%M %p').tz_localize('UTC')\r\n",
    "            fuel_month['Demand'] = fuel_month[col_list].sum(axis=1)\r\n",
    "            fuel_month = fuel_month[['Fuel', 'Demand']].reset_index()\r\n",
    "            year_data = year_data.append(fuel_month)\r\n",
    "\r\n",
    "        elif year > 2016:\r\n",
    "            path = f'data/IntGenByFuel{year}.xlsx'\r\n",
    "            fuel_month = pd.read_excel(path, sheet_name=f'{month}', index_col=0)\r\n",
    "            col_list = fuel_month.columns.tolist()\r\n",
    "            fuel_month.index = pd.to_datetime(fuel_month.index, errors='coerce', format='%m/%d/%y - %H:%M %p').tz_localize('UTC')\r\n",
    "            fuel_month['Fuel'] = fuel_month.index.astype(str).str.split(' - ').str[1]\r\n",
    "            fuel_month['Demand'] = fuel_month[col_list].sum(axis=1)\r\n",
    "            fuel_month = fuel_month[['Fuel', 'Demand']].reset_index()\r\n",
    "            year_data = year_data.append(fuel_month)\r\n",
    "\r\n",
    "        else:   \r\n",
    "            fuel_month = pd.read_excel(path, sheet_name=f'{month}{year}', index_col=0)\r\n",
    "            col_list = fuel_month.columns.tolist()\r\n",
    "            fuel_month.index = pd.to_datetime(fuel_month.index, errors='coerce', format='%m/%d/%y - %H:%M %p').tz_localize('UTC')\r\n",
    "            fuel_month['Fuel'] = fuel_month.index.astype(str).str.split(' - ').str[1]\r\n",
    "            fuel_month['Demand'] = fuel_month[col_list].sum(axis=1)\r\n",
    "            fuel_month = fuel_month[['Fuel', 'Demand']].reset_index()\r\n",
    "            year_data = year_data.append(fuel_month)\r\n",
    "        \r\n",
    "    # Append the data for the current year to the all_data DataFrame\r\n",
    "    all_data = all_data.append(year_data)\r\n",
    "\r\n",
    "# The all_data DataFrame now contains the reshaped data with columns for Date and Time, Fuel, and Demand\r\n",
    "print(all_data)"
   ]
  },
  {
   "cell_type": "code",
   "execution_count": 3,
   "metadata": {},
   "outputs": [],
   "source": [
    "#all_data['Total'] = all_data['Total'].fillna(all_data['Daily MWH'])\r\n",
    "#all_data[all_data.columns[96]] = all_data[all_data.columns[96]].fillna(all_data[all_data.columns[97]])\r\n",
    "#all_data = all_data.drop(columns=['Daily MWH',all_data.columns[97]])"
   ]
  },
  {
   "cell_type": "code",
   "execution_count": 11,
   "metadata": {},
   "outputs": [],
   "source": [
    "\r\n",
    "all_data.to_csv('test_output.csv', index=True)"
   ]
  },
  {
   "cell_type": "code",
   "execution_count": 3,
   "metadata": {},
   "outputs": [
    {
     "name": "stdout",
     "output_type": "stream",
     "text": [
      "Empty DataFrame\n",
      "Columns: []\n",
      "Index: []\n"
     ]
    }
   ],
   "source": [
    "# Create an empty DataFrame to store the data\r\n",
    "all_data = pd.DataFrame()\r\n",
    "\r\n",
    "# Loop through years from 2007 to 2022\r\n",
    "for year in range(2007, 2023):\r\n",
    "    path = f'data/IntGenByFuel{year}.xls'\r\n",
    "    months = ('Jan', 'Feb', 'Mar', 'Apr', 'May', 'Jun', 'Jul', 'Aug', 'Sep', 'Oct', 'Nov', 'Dec')\r\n",
    "    year_data = pd.DataFrame()\r\n",
    "\r\n",
    "    # Loop through months for the current year\r\n",
    "    for month in months:\r\n",
    "        if month == 'Oct' and year == 2007:\r\n",
    "            fuel_month = pd.read_excel(path, sheet_name=f'{month}{year}', index_col=0)\r\n",
    "            data_pivot = fuel_month.pivot\r\n",
    "            #col_list = fuel_month.columns.tolist()\r\n",
    "            #fuel_month.columns = col_list\r\n",
    "            #fuel_month.index = pd.to_datetime(fuel_month.index, errors='coerce', format='%m/%d/%y - %H:%M %p').tz_localize('UTC')\r\n",
    "            #fuel_month['Fuel'] = fuel_month.index.astype(str).str.split(' - ').str[1]\r\n",
    "            #fuel_month['Demand'] = fuel_month[col_list].sum(axis=1)\r\n",
    "            #fuel_month = fuel_month[['Fuel', 'Demand']].reset_index()\r\n",
    "            #year_data = year_data.append(fuel_month)\r\n",
    "\r\n",
    "\r\n",
    "                # Append the data for the current year to the all_data DataFrame\r\n",
    "    all_data = all_data.append(year_data)\r\n",
    "\r\n",
    "# The all_data DataFrame now contains the reshaped data with columns for Date and Time, Fuel, and Demand\r\n",
    "print(all_data)"
   ]
  },
  {
   "cell_type": "code",
   "execution_count": 4,
   "metadata": {},
   "outputs": [
    {
     "name": "stdout",
     "output_type": "stream",
     "text": [
      "Original DataFrame:\n"
     ]
    },
    {
     "data": {
      "text/html": "<div>\n<style scoped>\n    .dataframe tbody tr th:only-of-type {\n        vertical-align: middle;\n    }\n\n    .dataframe tbody tr th {\n        vertical-align: top;\n    }\n\n    .dataframe thead th {\n        text-align: right;\n    }\n</style>\n<table border=\"1\" class=\"dataframe\">\n  <thead>\n    <tr style=\"text-align: right;\">\n      <th></th>\n      <th>Date</th>\n      <th>Category</th>\n      <th>Value</th>\n    </tr>\n  </thead>\n  <tbody>\n    <tr>\n      <th>0</th>\n      <td>2022-01-01</td>\n      <td>A</td>\n      <td>10</td>\n    </tr>\n    <tr>\n      <th>1</th>\n      <td>2022-01-01</td>\n      <td>B</td>\n      <td>20</td>\n    </tr>\n    <tr>\n      <th>2</th>\n      <td>2022-01-02</td>\n      <td>A</td>\n      <td>30</td>\n    </tr>\n    <tr>\n      <th>3</th>\n      <td>2022-01-02</td>\n      <td>B</td>\n      <td>40</td>\n    </tr>\n  </tbody>\n</table>\n</div>",
      "text/plain": "         Date Category  Value\n0  2022-01-01        A     10\n1  2022-01-01        B     20\n2  2022-01-02        A     30\n3  2022-01-02        B     40"
     },
     "execution_count": 4,
     "metadata": {},
     "output_type": "execute_result"
    }
   ],
   "source": [
    "# Create a sample DataFrame\r\n",
    "data = {\r\n",
    "    'Date': ['2022-01-01', '2022-01-01', '2022-01-02', '2022-01-02'],\r\n",
    "    'Category': ['A', 'B', 'A', 'B'],\r\n",
    "    'Value': [10, 20, 30, 40]\r\n",
    "}\r\n",
    "\r\n",
    "df = pd.DataFrame(data)\r\n",
    "\r\n",
    "# Display the original DataFrame\r\n",
    "print(\"Original DataFrame:\")\r\n",
    "df\r\n",
    "\r\n"
   ]
  },
  {
   "cell_type": "code",
   "execution_count": 5,
   "metadata": {},
   "outputs": [
    {
     "name": "stdout",
     "output_type": "stream",
     "text": [
      "\n",
      "Pivoted DataFrame:\n"
     ]
    },
    {
     "data": {
      "text/html": "<div>\n<style scoped>\n    .dataframe tbody tr th:only-of-type {\n        vertical-align: middle;\n    }\n\n    .dataframe tbody tr th {\n        vertical-align: top;\n    }\n\n    .dataframe thead th {\n        text-align: right;\n    }\n</style>\n<table border=\"1\" class=\"dataframe\">\n  <thead>\n    <tr style=\"text-align: right;\">\n      <th>Category</th>\n      <th>A</th>\n      <th>B</th>\n    </tr>\n    <tr>\n      <th>Date</th>\n      <th></th>\n      <th></th>\n    </tr>\n  </thead>\n  <tbody>\n    <tr>\n      <th>2022-01-01</th>\n      <td>10</td>\n      <td>20</td>\n    </tr>\n    <tr>\n      <th>2022-01-02</th>\n      <td>30</td>\n      <td>40</td>\n    </tr>\n  </tbody>\n</table>\n</div>",
      "text/plain": "Category     A   B\nDate              \n2022-01-01  10  20\n2022-01-02  30  40"
     },
     "execution_count": 5,
     "metadata": {},
     "output_type": "execute_result"
    }
   ],
   "source": [
    "# Pivot the DataFrame\r\n",
    "pivot_df = df.pivot(index='Date', columns='Category', values='Value')\r\n",
    "\r\n",
    "# Display the pivoted DataFrame\r\n",
    "print(\"\\nPivoted DataFrame:\")\r\n",
    "pivot_df"
   ]
  },
  {
   "cell_type": "code",
   "execution_count": 143,
   "metadata": {},
   "outputs": [
    {
     "data": {
      "text/html": "<div>\n<style scoped>\n    .dataframe tbody tr th:only-of-type {\n        vertical-align: middle;\n    }\n\n    .dataframe tbody tr th {\n        vertical-align: top;\n    }\n\n    .dataframe thead th {\n        text-align: right;\n    }\n</style>\n<table border=\"1\" class=\"dataframe\">\n  <thead>\n    <tr style=\"text-align: right;\">\n      <th></th>\n      <th>1</th>\n      <th>2</th>\n      <th>3</th>\n      <th>4</th>\n      <th>5</th>\n      <th>6</th>\n      <th>7</th>\n      <th>8</th>\n      <th>9</th>\n      <th>10</th>\n      <th>...</th>\n      <th>90</th>\n      <th>91</th>\n      <th>92</th>\n      <th>93</th>\n      <th>94</th>\n      <th>95</th>\n      <th>96</th>\n      <th>97</th>\n      <th>Date</th>\n      <th>Fuel</th>\n    </tr>\n    <tr>\n      <th>0</th>\n      <th></th>\n      <th></th>\n      <th></th>\n      <th></th>\n      <th></th>\n      <th></th>\n      <th></th>\n      <th></th>\n      <th></th>\n      <th></th>\n      <th></th>\n      <th></th>\n      <th></th>\n      <th></th>\n      <th></th>\n      <th></th>\n      <th></th>\n      <th></th>\n      <th></th>\n      <th></th>\n      <th></th>\n    </tr>\n  </thead>\n  <tbody>\n    <tr>\n      <th>Date - Fuel</th>\n      <td>Daily MWH</td>\n      <td>00:15:00</td>\n      <td>00:30:00</td>\n      <td>00:45:00</td>\n      <td>01:00:00</td>\n      <td>01:15:00</td>\n      <td>01:30:00</td>\n      <td>01:45:00</td>\n      <td>02:00:00</td>\n      <td>02:15:00</td>\n      <td>...</td>\n      <td>22:15:00</td>\n      <td>22:30:00</td>\n      <td>22:45:00</td>\n      <td>23:00:00</td>\n      <td>23:15:00</td>\n      <td>23:30:00</td>\n      <td>23:45:00</td>\n      <td>00:00:00</td>\n      <td>Date</td>\n      <td>Fuel</td>\n    </tr>\n    <tr>\n      <th>01/01/07 - Coal</th>\n      <td>314609</td>\n      <td>3376.33</td>\n      <td>3368.08</td>\n      <td>3365</td>\n      <td>3364.7</td>\n      <td>3337.22</td>\n      <td>3340.4</td>\n      <td>3338.78</td>\n      <td>3341.01</td>\n      <td>3376</td>\n      <td>...</td>\n      <td>3330.98</td>\n      <td>3346.76</td>\n      <td>3361.06</td>\n      <td>3360.44</td>\n      <td>3367.97</td>\n      <td>3357.61</td>\n      <td>3362.5</td>\n      <td>3362.49</td>\n      <td>01/01/07</td>\n      <td>Coal</td>\n    </tr>\n    <tr>\n      <th>01/01/07 - Gas</th>\n      <td>272457</td>\n      <td>2250.33</td>\n      <td>2252.73</td>\n      <td>2257.9</td>\n      <td>2259.77</td>\n      <td>2204.44</td>\n      <td>2170.12</td>\n      <td>2178.86</td>\n      <td>2179.61</td>\n      <td>2140.66</td>\n      <td>...</td>\n      <td>3261.76</td>\n      <td>3170.22</td>\n      <td>3063.44</td>\n      <td>2953.63</td>\n      <td>2849.74</td>\n      <td>2773.19</td>\n      <td>2711.46</td>\n      <td>2627.17</td>\n      <td>01/01/07</td>\n      <td>Gas</td>\n    </tr>\n    <tr>\n      <th>01/01/07 - Hydro</th>\n      <td>688.957</td>\n      <td>3.8145</td>\n      <td>3.80921</td>\n      <td>3.81166</td>\n      <td>3.81056</td>\n      <td>3.81071</td>\n      <td>3.77384</td>\n      <td>3.77294</td>\n      <td>3.63702</td>\n      <td>3.35039</td>\n      <td>...</td>\n      <td>2.33929</td>\n      <td>2.34166</td>\n      <td>2.34897</td>\n      <td>2.56396</td>\n      <td>2.62091</td>\n      <td>2.61463</td>\n      <td>2.62372</td>\n      <td>2.73706</td>\n      <td>01/01/07</td>\n      <td>Hydro</td>\n    </tr>\n    <tr>\n      <th>01/01/07 - Nuclear</th>\n      <td>120060</td>\n      <td>1250.25</td>\n      <td>1249.94</td>\n      <td>1250.01</td>\n      <td>1250.19</td>\n      <td>1250.5</td>\n      <td>1250.24</td>\n      <td>1250.43</td>\n      <td>1250.21</td>\n      <td>1250.09</td>\n      <td>...</td>\n      <td>1251.51</td>\n      <td>1251.7</td>\n      <td>1251.78</td>\n      <td>1251.52</td>\n      <td>1251.72</td>\n      <td>1251.53</td>\n      <td>1251.65</td>\n      <td>1251.45</td>\n      <td>01/01/07</td>\n      <td>Nuclear</td>\n    </tr>\n    <tr>\n      <th>...</th>\n      <td>...</td>\n      <td>...</td>\n      <td>...</td>\n      <td>...</td>\n      <td>...</td>\n      <td>...</td>\n      <td>...</td>\n      <td>...</td>\n      <td>...</td>\n      <td>...</td>\n      <td>...</td>\n      <td>...</td>\n      <td>...</td>\n      <td>...</td>\n      <td>...</td>\n      <td>...</td>\n      <td>...</td>\n      <td>...</td>\n      <td>...</td>\n      <td>...</td>\n      <td>...</td>\n    </tr>\n    <tr>\n      <th>12/31/08-Gas_GT</th>\n      <td>49652.5</td>\n      <td>320.107</td>\n      <td>316.465</td>\n      <td>301.339</td>\n      <td>304.209</td>\n      <td>298.801</td>\n      <td>312.904</td>\n      <td>293.603</td>\n      <td>279.836</td>\n      <td>270.427</td>\n      <td>...</td>\n      <td>702.111</td>\n      <td>682.112</td>\n      <td>675.011</td>\n      <td>646.608</td>\n      <td>661.991</td>\n      <td>630.076</td>\n      <td>554.272</td>\n      <td>497.851</td>\n      <td>12/31/08</td>\n      <td>Gas_GT</td>\n    </tr>\n    <tr>\n      <th>12/31/08-Hydro</th>\n      <td>516.273</td>\n      <td>4.44923</td>\n      <td>5.06086</td>\n      <td>5.05575</td>\n      <td>5.06356</td>\n      <td>5.29045</td>\n      <td>5.27509</td>\n      <td>5.26347</td>\n      <td>5.30844</td>\n      <td>5.25678</td>\n      <td>...</td>\n      <td>4.02702</td>\n      <td>4.0255</td>\n      <td>4.02099</td>\n      <td>4.01616</td>\n      <td>4.04127</td>\n      <td>4.03449</td>\n      <td>4.01772</td>\n      <td>4.07632</td>\n      <td>12/31/08</td>\n      <td>Hydro</td>\n    </tr>\n    <tr>\n      <th>12/31/08-Nuclear</th>\n      <td>123103</td>\n      <td>1281.42</td>\n      <td>1281.79</td>\n      <td>1281.88</td>\n      <td>1281.81</td>\n      <td>1281.64</td>\n      <td>1281.64</td>\n      <td>1281.74</td>\n      <td>1281.64</td>\n      <td>1281.71</td>\n      <td>...</td>\n      <td>1283.18</td>\n      <td>1283.48</td>\n      <td>1283.72</td>\n      <td>1283.52</td>\n      <td>1283.48</td>\n      <td>1283.39</td>\n      <td>1283.41</td>\n      <td>1283.29</td>\n      <td>12/31/08</td>\n      <td>Nuclear</td>\n    </tr>\n    <tr>\n      <th>12/31/08-Oth</th>\n      <td>8052.44</td>\n      <td>83.3321</td>\n      <td>83.7323</td>\n      <td>83.0951</td>\n      <td>83.4745</td>\n      <td>83.4692</td>\n      <td>82.9636</td>\n      <td>83.5771</td>\n      <td>83.5466</td>\n      <td>83.3796</td>\n      <td>...</td>\n      <td>79.2183</td>\n      <td>79.0335</td>\n      <td>79.6181</td>\n      <td>79.0559</td>\n      <td>79.5151</td>\n      <td>78.8804</td>\n      <td>78.879</td>\n      <td>80.4201</td>\n      <td>12/31/08</td>\n      <td>Oth</td>\n    </tr>\n    <tr>\n      <th>12/31/08-Wnd</th>\n      <td>53238.5</td>\n      <td>806.919</td>\n      <td>756.449</td>\n      <td>781.012</td>\n      <td>776.499</td>\n      <td>789.254</td>\n      <td>817.964</td>\n      <td>914.52</td>\n      <td>954.746</td>\n      <td>952.104</td>\n      <td>...</td>\n      <td>330.301</td>\n      <td>355.725</td>\n      <td>388.871</td>\n      <td>437.618</td>\n      <td>484.673</td>\n      <td>545.291</td>\n      <td>629.179</td>\n      <td>735.838</td>\n      <td>12/31/08</td>\n      <td>Wnd</td>\n    </tr>\n  </tbody>\n</table>\n<p>4442 rows × 99 columns</p>\n</div>",
      "text/plain": "                            1         2         3         4         5  \\\n0                                                                       \nDate - Fuel         Daily MWH  00:15:00  00:30:00  00:45:00  01:00:00   \n01/01/07 - Coal        314609   3376.33   3368.08      3365    3364.7   \n01/01/07 - Gas         272457   2250.33   2252.73    2257.9   2259.77   \n01/01/07 - Hydro      688.957    3.8145   3.80921   3.81166   3.81056   \n01/01/07 - Nuclear     120060   1250.25   1249.94   1250.01   1250.19   \n...                       ...       ...       ...       ...       ...   \n12/31/08-Gas_GT       49652.5   320.107   316.465   301.339   304.209   \n12/31/08-Hydro        516.273   4.44923   5.06086   5.05575   5.06356   \n12/31/08-Nuclear       123103   1281.42   1281.79   1281.88   1281.81   \n12/31/08-Oth          8052.44   83.3321   83.7323   83.0951   83.4745   \n12/31/08-Wnd          53238.5   806.919   756.449   781.012   776.499   \n\n                           6         7         8         9        10  ...  \\\n0                                                                     ...   \nDate - Fuel         01:15:00  01:30:00  01:45:00  02:00:00  02:15:00  ...   \n01/01/07 - Coal      3337.22    3340.4   3338.78   3341.01      3376  ...   \n01/01/07 - Gas       2204.44   2170.12   2178.86   2179.61   2140.66  ...   \n01/01/07 - Hydro     3.81071   3.77384   3.77294   3.63702   3.35039  ...   \n01/01/07 - Nuclear    1250.5   1250.24   1250.43   1250.21   1250.09  ...   \n...                      ...       ...       ...       ...       ...  ...   \n12/31/08-Gas_GT      298.801   312.904   293.603   279.836   270.427  ...   \n12/31/08-Hydro       5.29045   5.27509   5.26347   5.30844   5.25678  ...   \n12/31/08-Nuclear     1281.64   1281.64   1281.74   1281.64   1281.71  ...   \n12/31/08-Oth         83.4692   82.9636   83.5771   83.5466   83.3796  ...   \n12/31/08-Wnd         789.254   817.964    914.52   954.746   952.104  ...   \n\n                          90        91        92        93        94  \\\n0                                                                      \nDate - Fuel         22:15:00  22:30:00  22:45:00  23:00:00  23:15:00   \n01/01/07 - Coal      3330.98   3346.76   3361.06   3360.44   3367.97   \n01/01/07 - Gas       3261.76   3170.22   3063.44   2953.63   2849.74   \n01/01/07 - Hydro     2.33929   2.34166   2.34897   2.56396   2.62091   \n01/01/07 - Nuclear   1251.51    1251.7   1251.78   1251.52   1251.72   \n...                      ...       ...       ...       ...       ...   \n12/31/08-Gas_GT      702.111   682.112   675.011   646.608   661.991   \n12/31/08-Hydro       4.02702    4.0255   4.02099   4.01616   4.04127   \n12/31/08-Nuclear     1283.18   1283.48   1283.72   1283.52   1283.48   \n12/31/08-Oth         79.2183   79.0335   79.6181   79.0559   79.5151   \n12/31/08-Wnd         330.301   355.725   388.871   437.618   484.673   \n\n                          95        96        97       Date      Fuel  \n0                                                                      \nDate - Fuel         23:30:00  23:45:00  00:00:00      Date       Fuel  \n01/01/07 - Coal      3357.61    3362.5   3362.49  01/01/07       Coal  \n01/01/07 - Gas       2773.19   2711.46   2627.17  01/01/07        Gas  \n01/01/07 - Hydro     2.61463   2.62372   2.73706  01/01/07      Hydro  \n01/01/07 - Nuclear   1251.53   1251.65   1251.45  01/01/07    Nuclear  \n...                      ...       ...       ...        ...       ...  \n12/31/08-Gas_GT      630.076   554.272   497.851   12/31/08    Gas_GT  \n12/31/08-Hydro       4.03449   4.01772   4.07632   12/31/08     Hydro  \n12/31/08-Nuclear     1283.39   1283.41   1283.29   12/31/08   Nuclear  \n12/31/08-Oth         78.8804    78.879   80.4201   12/31/08       Oth  \n12/31/08-Wnd         545.291   629.179   735.838   12/31/08       Wnd  \n\n[4442 rows x 99 columns]"
     },
     "execution_count": 143,
     "metadata": {},
     "output_type": "execute_result"
    }
   ],
   "source": [
    "months = ['Jan', 'Feb', 'Mar', 'Apr', 'May', 'Jun', 'Jul', 'Aug', 'Sep', 'Oct', 'Nov', 'Dec']\r\n",
    "#months = ['Jan', 'Feb']\r\n",
    "years = [2007, 2008]\r\n",
    "#years = [2008]\r\n",
    "fuel_year = pd.DataFrame()\r\n",
    "for year in years:\r\n",
    "    path = f'data/IntGenByFuel{year}.xls'\r\n",
    "\r\n",
    "    for month in months :\r\n",
    "        fuel_month = pd.read_excel(path, sheet_name=f'{month}{year}', index_col=0, header=None)\r\n",
    "        fuel_month['Date'] = fuel_month.index.str.split('-', 1).str[0]\r\n",
    "        fuel_month['Fuel'] = fuel_month.index.str.split('-', 1).str[1]\r\n",
    "        fuel_year = fuel_year.append(fuel_month)\r\n",
    "    \r\n",
    "\r\n",
    "\r\n",
    "fuel_year"
   ]
  },
  {
   "cell_type": "code",
   "execution_count": 144,
   "metadata": {},
   "outputs": [],
   "source": [
    "# Define a hash function using hashlib.sha256\r\n",
    "def hash_value(value):\r\n",
    "    return hashlib.sha256(value.encode()).hexdigest()"
   ]
  },
  {
   "cell_type": "code",
   "execution_count": 145,
   "metadata": {},
   "outputs": [
    {
     "ename": "KeyError",
     "evalue": "'[nan] not found in axis'",
     "output_type": "error",
     "traceback": [
      "\u001b[1;31m---------------------------------------------------------------------------\u001b[0m",
      "\u001b[1;31mKeyError\u001b[0m                                  Traceback (most recent call last)",
      "\u001b[1;32m<ipython-input-145-04c2d68cfda9>\u001b[0m in \u001b[0;36m<module>\u001b[1;34m\u001b[0m\n\u001b[0;32m      6\u001b[0m     \u001b[1;32mif\u001b[0m \u001b[0mindex\u001b[0m \u001b[1;33m!=\u001b[0m \u001b[1;34m'Date - Fuel'\u001b[0m \u001b[1;32mand\u001b[0m \u001b[0mindex\u001b[0m \u001b[1;33m!=\u001b[0m \u001b[1;34m'DateFuel'\u001b[0m \u001b[1;33m:\u001b[0m\u001b[1;33m\u001b[0m\u001b[1;33m\u001b[0m\u001b[0m\n\u001b[0;32m      7\u001b[0m \u001b[1;33m\u001b[0m\u001b[0m\n\u001b[1;32m----> 8\u001b[1;33m         \u001b[0mmodified_df\u001b[0m \u001b[1;33m=\u001b[0m \u001b[0mfuel_year\u001b[0m\u001b[1;33m.\u001b[0m\u001b[0mdrop\u001b[0m\u001b[1;33m(\u001b[0m\u001b[0mindex\u001b[0m\u001b[1;33m)\u001b[0m\u001b[1;33m\u001b[0m\u001b[1;33m\u001b[0m\u001b[0m\n\u001b[0m\u001b[0;32m      9\u001b[0m         \u001b[0mfuel_type\u001b[0m \u001b[1;33m=\u001b[0m \u001b[0mrow\u001b[0m\u001b[1;33m[\u001b[0m\u001b[1;34m'Fuel'\u001b[0m\u001b[1;33m]\u001b[0m\u001b[1;33m\u001b[0m\u001b[1;33m\u001b[0m\u001b[0m\n\u001b[0;32m     10\u001b[0m         \u001b[0mfuel_date\u001b[0m \u001b[1;33m=\u001b[0m \u001b[0mrow\u001b[0m\u001b[1;33m[\u001b[0m\u001b[1;34m'Date'\u001b[0m\u001b[1;33m]\u001b[0m\u001b[1;31m#.astype(str)\u001b[0m\u001b[1;33m\u001b[0m\u001b[1;33m\u001b[0m\u001b[0m\n",
      "\u001b[1;32m~\\anaconda3\\lib\\site-packages\\pandas\\core\\frame.py\u001b[0m in \u001b[0;36mdrop\u001b[1;34m(self, labels, axis, index, columns, level, inplace, errors)\u001b[0m\n\u001b[0;32m   4161\u001b[0m                 \u001b[0mweight\u001b[0m  \u001b[1;36m1.0\u001b[0m     \u001b[1;36m0.8\u001b[0m\u001b[1;33m\u001b[0m\u001b[1;33m\u001b[0m\u001b[0m\n\u001b[0;32m   4162\u001b[0m         \"\"\"\n\u001b[1;32m-> 4163\u001b[1;33m         return super().drop(\n\u001b[0m\u001b[0;32m   4164\u001b[0m             \u001b[0mlabels\u001b[0m\u001b[1;33m=\u001b[0m\u001b[0mlabels\u001b[0m\u001b[1;33m,\u001b[0m\u001b[1;33m\u001b[0m\u001b[1;33m\u001b[0m\u001b[0m\n\u001b[0;32m   4165\u001b[0m             \u001b[0maxis\u001b[0m\u001b[1;33m=\u001b[0m\u001b[0maxis\u001b[0m\u001b[1;33m,\u001b[0m\u001b[1;33m\u001b[0m\u001b[1;33m\u001b[0m\u001b[0m\n",
      "\u001b[1;32m~\\anaconda3\\lib\\site-packages\\pandas\\core\\generic.py\u001b[0m in \u001b[0;36mdrop\u001b[1;34m(self, labels, axis, index, columns, level, inplace, errors)\u001b[0m\n\u001b[0;32m   3885\u001b[0m         \u001b[1;32mfor\u001b[0m \u001b[0maxis\u001b[0m\u001b[1;33m,\u001b[0m \u001b[0mlabels\u001b[0m \u001b[1;32min\u001b[0m \u001b[0maxes\u001b[0m\u001b[1;33m.\u001b[0m\u001b[0mitems\u001b[0m\u001b[1;33m(\u001b[0m\u001b[1;33m)\u001b[0m\u001b[1;33m:\u001b[0m\u001b[1;33m\u001b[0m\u001b[1;33m\u001b[0m\u001b[0m\n\u001b[0;32m   3886\u001b[0m             \u001b[1;32mif\u001b[0m \u001b[0mlabels\u001b[0m \u001b[1;32mis\u001b[0m \u001b[1;32mnot\u001b[0m \u001b[1;32mNone\u001b[0m\u001b[1;33m:\u001b[0m\u001b[1;33m\u001b[0m\u001b[1;33m\u001b[0m\u001b[0m\n\u001b[1;32m-> 3887\u001b[1;33m                 \u001b[0mobj\u001b[0m \u001b[1;33m=\u001b[0m \u001b[0mobj\u001b[0m\u001b[1;33m.\u001b[0m\u001b[0m_drop_axis\u001b[0m\u001b[1;33m(\u001b[0m\u001b[0mlabels\u001b[0m\u001b[1;33m,\u001b[0m \u001b[0maxis\u001b[0m\u001b[1;33m,\u001b[0m \u001b[0mlevel\u001b[0m\u001b[1;33m=\u001b[0m\u001b[0mlevel\u001b[0m\u001b[1;33m,\u001b[0m \u001b[0merrors\u001b[0m\u001b[1;33m=\u001b[0m\u001b[0merrors\u001b[0m\u001b[1;33m)\u001b[0m\u001b[1;33m\u001b[0m\u001b[1;33m\u001b[0m\u001b[0m\n\u001b[0m\u001b[0;32m   3888\u001b[0m \u001b[1;33m\u001b[0m\u001b[0m\n\u001b[0;32m   3889\u001b[0m         \u001b[1;32mif\u001b[0m \u001b[0minplace\u001b[0m\u001b[1;33m:\u001b[0m\u001b[1;33m\u001b[0m\u001b[1;33m\u001b[0m\u001b[0m\n",
      "\u001b[1;32m~\\anaconda3\\lib\\site-packages\\pandas\\core\\generic.py\u001b[0m in \u001b[0;36m_drop_axis\u001b[1;34m(self, labels, axis, level, errors)\u001b[0m\n\u001b[0;32m   3938\u001b[0m                 \u001b[0mlabels_missing\u001b[0m \u001b[1;33m=\u001b[0m \u001b[1;33m(\u001b[0m\u001b[0maxis\u001b[0m\u001b[1;33m.\u001b[0m\u001b[0mget_indexer_for\u001b[0m\u001b[1;33m(\u001b[0m\u001b[0mlabels\u001b[0m\u001b[1;33m)\u001b[0m \u001b[1;33m==\u001b[0m \u001b[1;33m-\u001b[0m\u001b[1;36m1\u001b[0m\u001b[1;33m)\u001b[0m\u001b[1;33m.\u001b[0m\u001b[0many\u001b[0m\u001b[1;33m(\u001b[0m\u001b[1;33m)\u001b[0m\u001b[1;33m\u001b[0m\u001b[1;33m\u001b[0m\u001b[0m\n\u001b[0;32m   3939\u001b[0m                 \u001b[1;32mif\u001b[0m \u001b[0merrors\u001b[0m \u001b[1;33m==\u001b[0m \u001b[1;34m\"raise\"\u001b[0m \u001b[1;32mand\u001b[0m \u001b[0mlabels_missing\u001b[0m\u001b[1;33m:\u001b[0m\u001b[1;33m\u001b[0m\u001b[1;33m\u001b[0m\u001b[0m\n\u001b[1;32m-> 3940\u001b[1;33m                     \u001b[1;32mraise\u001b[0m \u001b[0mKeyError\u001b[0m\u001b[1;33m(\u001b[0m\u001b[1;34mf\"{labels} not found in axis\"\u001b[0m\u001b[1;33m)\u001b[0m\u001b[1;33m\u001b[0m\u001b[1;33m\u001b[0m\u001b[0m\n\u001b[0m\u001b[0;32m   3941\u001b[0m \u001b[1;33m\u001b[0m\u001b[0m\n\u001b[0;32m   3942\u001b[0m             \u001b[0mslicer\u001b[0m \u001b[1;33m=\u001b[0m \u001b[1;33m[\u001b[0m\u001b[0mslice\u001b[0m\u001b[1;33m(\u001b[0m\u001b[1;32mNone\u001b[0m\u001b[1;33m)\u001b[0m\u001b[1;33m]\u001b[0m \u001b[1;33m*\u001b[0m \u001b[0mself\u001b[0m\u001b[1;33m.\u001b[0m\u001b[0mndim\u001b[0m\u001b[1;33m\u001b[0m\u001b[1;33m\u001b[0m\u001b[0m\n",
      "\u001b[1;31mKeyError\u001b[0m: '[nan] not found in axis'"
     ]
    }
   ],
   "source": [
    "\r\n",
    "\r\n",
    "# Create an empty DataFrame to store transposed rows\r\n",
    "full_data = pd.DataFrame()\r\n",
    "# Iterate over each row in the original DataFrame\r\n",
    "for index, row in fuel_year.iterrows():\r\n",
    "    # Remove the current row from the original DataFrame\r\n",
    "    if index != 'Date - Fuel' and index != 'DateFuel' :\r\n",
    "\r\n",
    "        modified_df = fuel_year.drop(index)\r\n",
    "        fuel_type = row['Fuel']\r\n",
    "        fuel_date = row['Date']#.astype(str)\r\n",
    "        # Transpose the row and convert it to a DataFrame\r\n",
    "        transposed_row = row.transpose()\r\n",
    "        transposed_df = pd.DataFrame(transposed_row)\r\n",
    "\r\n",
    "        # Concatenate the transposed row with the modified DataFrame\r\n",
    "        #transposed_df = pd.concat([full_data, transposed_row], ignore_index=False)\r\n",
    "        transposed_df['Fuel'] = fuel_type\r\n",
    "        transposed_df['Date'] = fuel_date\r\n",
    "        #transposed_df['Date'] = transposed_df['Date'].astype(str)\r\n",
    "\r\n",
    "        transposed_df = transposed_df.drop('Fuel', axis=0)\r\n",
    "        transposed_df = transposed_df.drop('Date', axis=0)\r\n",
    "\r\n",
    "        # Reset the index to ensure that index 0 is present in the columns\r\n",
    "        transposed_df.reset_index(drop=True, inplace=True)\r\n",
    "        transposed_df.rename(columns={transposed_df.columns[0]: 'Demand'}, inplace=True)\r\n",
    "        MWH = transposed_df.loc[0, 'Demand']\r\n",
    "        transposed_df['Daily MWH'] = MWH\r\n",
    "        # Drop the first row of the DataFrame\r\n",
    "        transposed_df.drop(transposed_df.index[0], inplace=True)\r\n",
    "\r\n",
    "        # Reset the index after dropping the first row\r\n",
    "        transposed_df.reset_index(drop=True, inplace=True)\r\n",
    "\r\n",
    "        transposed_df['Time'] = pd.to_datetime(transposed_df['Date']) + pd.to_timedelta((transposed_df.groupby('Date').cumcount() * 15), unit='minutes')\r\n",
    "        transposed_df['Time'] = transposed_df['Time'].dt.time\r\n",
    "\r\n",
    "\r\n",
    "        # Combine 'Date', 'Time', and 'Fuel' columns to create a new column 'Combined'\r\n",
    "        transposed_df['Combined'] = transposed_df['Date'] + transposed_df['Time'].astype(str) + transposed_df['Fuel']\r\n",
    "        # Apply the hash function to the 'Combined' column to create a new column 'HashedIndex'\r\n",
    "        transposed_df['HashedIndex'] = transposed_df['Combined'].apply(hash_value)\r\n",
    "\r\n",
    "        # Set the 'HashedIndex' column as the DataFrame index\r\n",
    "        transposed_df.set_index('HashedIndex', inplace=True)\r\n",
    "\r\n",
    "        full_data = full_data.append(transposed_df, ignore_index=False)\r\n",
    "       \r\n",
    "\r\n",
    "#transposed_df\r\n",
    "full_data\r\n",
    "#transposed_row\r\n",
    "\r\n"
   ]
  },
  {
   "cell_type": "code",
   "execution_count": 24,
   "metadata": {},
   "outputs": [],
   "source": [
    "melted_df.to_csv('test_output.csv', index=True)"
   ]
  },
  {
   "cell_type": "code",
   "execution_count": null,
   "metadata": {},
   "outputs": [],
   "source": []
  }
 ],
 "metadata": {
  "kernelspec": {
   "display_name": "Python 3.8.5 64-bit (conda)",
   "name": "python385jvsc74a57bd08e49214a560cda078e502002c7b80516a9700d7f09758e242b71eebe169fbdbe"
  },
  "language_info": {
   "codemirror_mode": {
    "name": "ipython",
    "version": 3
   },
   "file_extension": ".py",
   "mimetype": "text/x-python",
   "name": "python",
   "nbconvert_exporter": "python",
   "pygments_lexer": "ipython3",
   "version": "3.8.5"
  },
  "orig_nbformat": 2
 },
 "nbformat": 4,
 "nbformat_minor": 2
}