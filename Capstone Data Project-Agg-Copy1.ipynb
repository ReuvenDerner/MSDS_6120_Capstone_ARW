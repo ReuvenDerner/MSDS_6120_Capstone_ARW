{
 "cells": [
  {
   "cell_type": "markdown",
   "id": "b4ce481a",
   "metadata": {},
   "source": [
    "__Title:__ Capstone Project: All Methods\n",
    "\n",
    "__Authors:__ Will Butler, Robert (Reuven) Derner "
   ]
  },
  {
   "cell_type": "code",
   "execution_count": null,
   "id": "6e3de256",
   "metadata": {},
   "outputs": [],
   "source": [
    "# Import data fr1om github (next phase)\n",
    "# url = 'https://raw.githubusercontent.com/ReuvenDerner/MSDS_QuantifyingTheWorld/main/log2.csv'\n",
    "# data = pd.read_csv(url, encoding = \"utf-8\")"
   ]
  },
  {
   "cell_type": "code",
   "execution_count": null,
   "id": "166f58b3",
   "metadata": {},
   "outputs": [],
   "source": [
    "# Create a DataFrame from the data\n",
    "#df = pd.read_csv(file_path, encoding = \"utf-8\")"
   ]
  },
  {
   "cell_type": "markdown",
   "id": "694b8616",
   "metadata": {},
   "source": [
    "## Data Quality\n",
    "Verify data quality: Explain any missing values, duplicate data, and outliers. Are those mistakes? How do you deal with these problems? Give justifications for your methods."
   ]
  },
  {
   "cell_type": "code",
   "execution_count": null,
   "id": "5b014753",
   "metadata": {},
   "outputs": [],
   "source": [
    "#import libraries\n",
    "import pandas as pd\n",
    "from datetime import datetime, timedelta\n",
    "import numpy as np\n",
    "\n",
    "file_path = 'C:/Users/19405/MSDS_QuantifyingTheWorld/Case Study Seven/clean_data.csv'\n",
    "\n",
    "df = pd.read_csv(file_path)"
   ]
  },
  {
   "cell_type": "code",
   "execution_count": null,
   "id": "ab451ca9",
   "metadata": {},
   "outputs": [],
   "source": [
    "df.shape"
   ]
  },
  {
   "cell_type": "code",
   "execution_count": null,
   "id": "9c58fed2",
   "metadata": {},
   "outputs": [],
   "source": [
    "df.describe()"
   ]
  },
  {
   "cell_type": "code",
   "execution_count": null,
   "id": "41e0c772",
   "metadata": {},
   "outputs": [],
   "source": [
    "df.isnull().sum()"
   ]
  },
  {
   "cell_type": "code",
   "execution_count": null,
   "id": "18aed61f",
   "metadata": {},
   "outputs": [],
   "source": [
    "# Features with Null Values and Percent missing\n",
    "null_df = pd.DataFrame(df[df.columns[df.isnull().any()]].isnull().sum()).reset_index()\n",
    "null_df.columns = ['Feature', 'Value']\n",
    "null_df['Percent'] = round((null_df['Value'] / df.shape[0] * 100),2)\n",
    "\n",
    "null_df"
   ]
  },
  {
   "cell_type": "code",
   "execution_count": null,
   "id": "a3128649",
   "metadata": {},
   "outputs": [],
   "source": [
    "#See the dataframes datatypes\n",
    "df.dtypes"
   ]
  },
  {
   "cell_type": "code",
   "execution_count": null,
   "id": "0867d7de",
   "metadata": {},
   "outputs": [],
   "source": [
    "import matplotlib.pyplot as plt\n",
    "import seaborn as sns\n",
    "\n",
    "# Set a larger figure size\n",
    "plt.figure(figsize=(12, 6))\n",
    "\n",
    "# Create a line plot to show the trend of energy demand by year\n",
    "sns.lineplot(x='Year', y='Demand', hue='Fuel', data=df, marker='o')\n",
    "\n",
    "# Customize the plot\n",
    "plt.title('Total Energy Demand by Year')\n",
    "plt.xlabel('Year')\n",
    "plt.ylabel('Total Energy Demand (MWH)')\n",
    "plt.grid(True)\n",
    "\n",
    "plt.show()\n"
   ]
  },
  {
   "cell_type": "code",
   "execution_count": null,
   "id": "db37e5d4",
   "metadata": {},
   "outputs": [],
   "source": [
    "import matplotlib.pyplot as plt\n",
    "import seaborn as sns\n",
    "\n",
    "# Set a larger figure size\n",
    "plt.figure(figsize=(12, 6))\n",
    "\n",
    "# Create a line plot to show the trend of energy demand by year\n",
    "sns.lineplot(x='Year', y='Daily MWH', hue='Fuel', data=df, marker='o')\n",
    "\n",
    "# Customize the plot\n",
    "plt.title('Total Energy Demand by Year')\n",
    "plt.xlabel('Year')\n",
    "plt.ylabel('Total Energy Demand (MWH)')\n",
    "plt.grid(True)\n",
    "\n",
    "plt.show()"
   ]
  },
  {
   "cell_type": "markdown",
   "id": "ec3706c9",
   "metadata": {},
   "source": [
    "##### there a problem in 2011 with our ERCOT data so we will just curb the data for 2012 onward"
   ]
  },
  {
   "cell_type": "markdown",
   "id": "a363433d",
   "metadata": {},
   "source": [
    "### Now lets see how the data prepares with an aggreate vs 15 min intervals"
   ]
  },
  {
   "cell_type": "code",
   "execution_count": null,
   "id": "6e389ea4",
   "metadata": {},
   "outputs": [],
   "source": [
    "# Filter the DataFrame to include only data from 2012 onward\n",
    "clean_df = df[df['Date'] >= '2012-01-01']"
   ]
  },
  {
   "cell_type": "code",
   "execution_count": null,
   "id": "438540de",
   "metadata": {},
   "outputs": [],
   "source": [
    "# Drop unnecessary columns\n",
    "columns_to_drop = ['Time', 'Combined']\n",
    "df_cleaned = clean_df.drop(columns=columns_to_drop)"
   ]
  },
  {
   "cell_type": "code",
   "execution_count": null,
   "id": "7c371ec5",
   "metadata": {},
   "outputs": [],
   "source": [
    "# Identify numeric and categorical columns\n",
    "numeric_columns = df_cleaned.select_dtypes(include='number').columns.tolist()\n",
    "categorical_columns = df_cleaned.select_dtypes(include='category').columns.tolist()\n"
   ]
  },
  {
   "cell_type": "code",
   "execution_count": null,
   "id": "addee3da",
   "metadata": {},
   "outputs": [],
   "source": [
    "# Custom aggregation function for numeric columns (sum)\n",
    "def custom_sum(series):\n",
    "    return series.sum()\n",
    "\n",
    "# Custom aggregation function for categorical columns (join unique values)\n",
    "def custom_category(series):\n",
    "    return ', '.join(series.unique())\n",
    "\n",
    "# Custom aggregation function for 'Fuel' column (join unique values)\n",
    "def custom_fuel(series):\n",
    "    return ', '.join(series.unique())"
   ]
  },
  {
   "cell_type": "code",
   "execution_count": null,
   "id": "60dbdb8a",
   "metadata": {},
   "outputs": [],
   "source": [
    "# Define aggregation functions for each column type\n",
    "aggregation_dict = {\n",
    "    'Demand': custom_sum,\n",
    "    'Daily MWH': custom_sum,\n",
    "    'Fuel': custom_fuel,\n",
    "    **{col: custom_category for col in categorical_columns},\n",
    "    **{col: 'first' for col in df_cleaned.columns if col not in ['Date', 'Demand', 'Daily MWH', 'Fuel'] + categorical_columns}\n",
    "}"
   ]
  },
  {
   "cell_type": "code",
   "execution_count": null,
   "id": "855f7cf7",
   "metadata": {},
   "outputs": [],
   "source": [
    "# Aggregate the data\n",
    "aggregated_df = df_cleaned.groupby('Date').agg(aggregation_dict).reset_index()\n"
   ]
  },
  {
   "cell_type": "code",
   "execution_count": null,
   "id": "dfd388f9",
   "metadata": {},
   "outputs": [],
   "source": [
    "aggregated_df.head()"
   ]
  },
  {
   "cell_type": "code",
   "execution_count": null,
   "id": "884c3464",
   "metadata": {},
   "outputs": [],
   "source": [
    "#save clean data to csv\n",
    "aggregated_df.to_csv('aggregated_data.csv', index=True)"
   ]
  },
  {
   "cell_type": "markdown",
   "id": "f5092d0e",
   "metadata": {},
   "source": [
    "## Agg data cleaned start here"
   ]
  },
  {
   "cell_type": "code",
   "execution_count": null,
   "id": "8241e60d",
   "metadata": {},
   "outputs": [],
   "source": [
    "# Begin Script from here \n",
    "\n",
    "import pandas as pd\n",
    "\n",
    "# Replace 'your_file.csv' with the actual path to your CSV file\n",
    "file_path = 'C:/Users/19405/MSDS_QuantifyingTheWorld/Case Study Seven/aggregated_data.csv'\n",
    "\n",
    "# Read the CSV file into a DataFrame\n",
    "aggregated_df = pd.read_csv(file_path)\n",
    "\n",
    "# Display the first few rows of the DataFrame\n",
    "aggregated_df.head()"
   ]
  },
  {
   "cell_type": "code",
   "execution_count": null,
   "id": "b4d8b6e4",
   "metadata": {},
   "outputs": [],
   "source": [
    "# Drop unnecessary columns\n",
    "columns_to_drop = ['Unnamed: 0.1', 'Unnamed: 0', 'HashedIndex']\n",
    "agg_df = aggregated_df.drop(columns=columns_to_drop)"
   ]
  },
  {
   "cell_type": "code",
   "execution_count": null,
   "id": "0f898ce0",
   "metadata": {},
   "outputs": [],
   "source": [
    "# Display the first few rows of the DataFrame\n",
    "agg_df.head()"
   ]
  },
  {
   "cell_type": "markdown",
   "id": "b8e62fa5",
   "metadata": {},
   "source": [
    "### We've handled aggregation, now i got to get rid of the extra columns then to correlations now"
   ]
  },
  {
   "cell_type": "markdown",
   "id": "70506cb4",
   "metadata": {},
   "source": [
    "### Examine any Correlations "
   ]
  },
  {
   "cell_type": "code",
   "execution_count": null,
   "id": "2eab81e3",
   "metadata": {},
   "outputs": [],
   "source": [
    "import numpy as np\n",
    "import seaborn as sns\n",
    "import matplotlib.pyplot as plt\n",
    "import matplotlib.ticker as mtick\n"
   ]
  },
  {
   "cell_type": "code",
   "execution_count": null,
   "id": "9b63c8b2",
   "metadata": {},
   "outputs": [],
   "source": [
    "correlation_matrix = agg_df.corr()"
   ]
  },
  {
   "cell_type": "code",
   "execution_count": null,
   "id": "c0297480",
   "metadata": {},
   "outputs": [],
   "source": [
    "correlation_matrix"
   ]
  },
  {
   "cell_type": "code",
   "execution_count": null,
   "id": "93f2642d",
   "metadata": {
    "scrolled": false
   },
   "outputs": [],
   "source": [
    "# Select correlations above 0.4 or below -0.4 for the target variable\n",
    "target_corr = correlation_matrix['Demand']\n",
    "target_corr = target_corr[(target_corr > 0.52) | (target_corr < -0.45)].sort_values(ascending=False)\n",
    "\n",
    "# Create a mask to hide the upper triangle of the correlation matrix\n",
    "mask = np.zeros((len(target_corr), len(target_corr)))\n",
    "\n",
    "# Set up the matplotlib figure\n",
    "plt.figure(figsize=(10, 8))\n",
    "\n",
    "# Customize the color palette if desired\n",
    "cmap = sns.diverging_palette(220, 10, as_cmap=True)\n",
    "\n",
    "# Create a heatmap for the selected correlations\n",
    "sns.heatmap(correlation_matrix.loc[target_corr.index, target_corr.index], \n",
    "            annot=True, fmt=\".2f\", cmap=cmap, mask=mask, linewidths=.5)\n",
    "\n",
    "\n",
    "plt.show()"
   ]
  },
  {
   "cell_type": "markdown",
   "id": "0ba313f8",
   "metadata": {},
   "source": [
    "There are a number of correlations now that we have refitted the dataframe across vs long, there is a high degree of correlation among the dw point and the temperature data across Texas, however that is a likely scenario."
   ]
  },
  {
   "cell_type": "markdown",
   "id": "5546b3c4",
   "metadata": {},
   "source": [
    "## EDA Exploratory Data Analysis"
   ]
  },
  {
   "cell_type": "code",
   "execution_count": null,
   "id": "9e88f827",
   "metadata": {},
   "outputs": [],
   "source": [
    "#Visualize the distribution of the target variable\n",
    "\n",
    "#ax = sns.countplot(x='Demand', data=merged_df)\n",
    "#plt.title('Distribution of Demand Feature')\n",
    "\n",
    "# Add annotations for the count of each class\n",
    "\n",
    "#for p in ax.patches:\n",
    "#    count = p.get_height()\n",
    "#    ax.annotate(f'{count:,.0f}', (p.get_x() + p.get_width() / 2., p.get_height()), ha='center', va='baseline')\n",
    "\n",
    "# Format y-axis labels with commas\n",
    "\n",
    "#ax.yaxis.set_major_formatter(mtick.StrMethodFormatter('{x:,.0f}'))\n",
    "\n",
    "#plt.show()\n"
   ]
  },
  {
   "cell_type": "code",
   "execution_count": null,
   "id": "61727c15",
   "metadata": {},
   "outputs": [],
   "source": [
    "# Plot the bar chart\n",
    "agg_df.groupby('Fuel')['Demand'].sum().plot(kind='bar', color='skyblue')\n",
    "plt.title('Proportional Demand by Fuel')\n",
    "plt.xlabel('Fuel')\n",
    "plt.ylabel('Daily Demand')\n",
    "plt.show()"
   ]
  },
  {
   "cell_type": "markdown",
   "id": "f6bc3b01",
   "metadata": {},
   "source": [
    "### Univariate Analysis"
   ]
  },
  {
   "cell_type": "code",
   "execution_count": null,
   "id": "91ef7f3e",
   "metadata": {},
   "outputs": [],
   "source": [
    "# Plotting the histogram\n",
    "plt.figure(figsize=(10, 6))\n",
    "plt.hist(agg_df['Demand'], bins='auto', edgecolor='black')  # You can adjust the number of bins as needed\n",
    "plt.title('Histogram of Demand_daily')\n",
    "plt.xlabel('')\n",
    "plt.ylabel('Frequency')\n",
    "plt.show()"
   ]
  },
  {
   "cell_type": "code",
   "execution_count": null,
   "id": "0177da31",
   "metadata": {},
   "outputs": [],
   "source": [
    "# Plotting the histogram\n",
    "plt.figure(figsize=(10, 6))\n",
    "plt.hist(agg_df['Dew Point Min Lubbock North'], bins='auto', edgecolor='black')  # You can adjust the number of bins as needed\n",
    "plt.title('Histogram of Lubbock Dew Point Min')\n",
    "plt.xlabel('')\n",
    "plt.ylabel('Frequency')\n",
    "plt.show()"
   ]
  },
  {
   "cell_type": "code",
   "execution_count": null,
   "id": "ed26708a",
   "metadata": {},
   "outputs": [],
   "source": [
    "# Plotting the histogram\n",
    "plt.figure(figsize=(10, 6))\n",
    "plt.hist(agg_df['Dew Point Avg Lubbock North'], bins='auto', edgecolor='black')  # You can adjust the number of bins as needed\n",
    "plt.title('Histogram of Dew Point Lubbock Avg')\n",
    "plt.xlabel('')\n",
    "plt.ylabel('Frequency')\n",
    "plt.show()"
   ]
  },
  {
   "cell_type": "code",
   "execution_count": null,
   "id": "ae566bfa",
   "metadata": {},
   "outputs": [],
   "source": [
    "# Plotting the histogram\n",
    "plt.figure(figsize=(10, 6))\n",
    "plt.hist(agg_df['TempMin Lubbock North'], bins='auto', edgecolor='black')  # You can adjust the number of bins as needed\n",
    "plt.title('Histogram of Min Temp of Lubbock TX')\n",
    "plt.xlabel('')\n",
    "plt.ylabel('Frequency')\n",
    "plt.show()"
   ]
  },
  {
   "cell_type": "code",
   "execution_count": null,
   "id": "c952eb04",
   "metadata": {},
   "outputs": [],
   "source": [
    "# Plotting the histogram\n",
    "plt.figure(figsize=(10, 6))\n",
    "plt.hist(agg_df['Dew Point Avg Midland Far West'], bins='auto', edgecolor='black')  # You can adjust the number of bins as needed\n",
    "plt.title('Dew Point Avg for Midland TX')\n",
    "plt.xlabel('')\n",
    "plt.ylabel('Frequency')\n",
    "plt.show()"
   ]
  },
  {
   "cell_type": "code",
   "execution_count": null,
   "id": "89bbd0c0",
   "metadata": {},
   "outputs": [],
   "source": [
    "# Plotting the histogram\n",
    "plt.figure(figsize=(10, 6))\n",
    "plt.hist(agg_df['Dew Point Min Midland Far West'], bins='auto', edgecolor='black')  # You can adjust the number of bins as needed\n",
    "plt.title('Histogram of Dew Point Min for Midland TX')\n",
    "plt.xlabel('')\n",
    "plt.ylabel('Frequency')\n",
    "plt.show()"
   ]
  },
  {
   "cell_type": "code",
   "execution_count": null,
   "id": "d4e49380",
   "metadata": {},
   "outputs": [],
   "source": [
    "# Plotting the histogram\n",
    "plt.figure(figsize=(10, 6))\n",
    "plt.hist(agg_df['TempMin Dallas North Central'], bins='auto', edgecolor='black')  # You can adjust the number of bins as needed\n",
    "plt.title('Histogram of Min Temp of Dallas TX')\n",
    "plt.xlabel('')\n",
    "plt.ylabel('Frequency')\n",
    "plt.show()"
   ]
  },
  {
   "cell_type": "code",
   "execution_count": null,
   "id": "d1da2477",
   "metadata": {},
   "outputs": [],
   "source": [
    "# Plotting the histogram\n",
    "plt.figure(figsize=(10, 6))\n",
    "plt.hist(agg_df['Dew Point Avg Abilene West'], bins='auto', edgecolor='black')  # You can adjust the number of bins as needed\n",
    "plt.title('Histogram of Dew Point Avg in Abline TX')\n",
    "plt.xlabel('')\n",
    "plt.ylabel('Frequency')\n",
    "plt.show()"
   ]
  },
  {
   "cell_type": "code",
   "execution_count": null,
   "id": "cd199bdb",
   "metadata": {},
   "outputs": [],
   "source": [
    "# Plotting the histogram\n",
    "plt.figure(figsize=(10, 6))\n",
    "plt.hist(agg_df['TempMin Tyler East'], bins='auto', edgecolor='black')  # You can adjust the number of bins as needed\n",
    "plt.title('Histogram of Min Temperature of Tyler TX')\n",
    "plt.xlabel('')\n",
    "plt.ylabel('Frequency')\n",
    "plt.show()"
   ]
  },
  {
   "cell_type": "code",
   "execution_count": null,
   "id": "2c630aa0",
   "metadata": {},
   "outputs": [],
   "source": [
    "# Plotting the histogram\n",
    "plt.figure(figsize=(10, 6))\n",
    "plt.hist(agg_df['Dew Point Max Midland Far West'], bins='auto', edgecolor='black')  # You can adjust the number of bins as needed\n",
    "plt.title('Histogram of Maximum Dew Point Midland TX')\n",
    "plt.xlabel('')\n",
    "plt.ylabel('Frequency')\n",
    "plt.show()"
   ]
  },
  {
   "cell_type": "code",
   "execution_count": null,
   "id": "b982835b",
   "metadata": {},
   "outputs": [],
   "source": [
    "# Plotting the histogram\n",
    "plt.figure(figsize=(10, 6))\n",
    "plt.hist(agg_df['Temp Avg Lubbock North'], bins='auto', edgecolor='black')  # You can adjust the number of bins as needed\n",
    "plt.title('Histogram of Avg Temp of Lubbock TX')\n",
    "plt.xlabel('')\n",
    "plt.ylabel('Frequency')\n",
    "plt.show()"
   ]
  },
  {
   "cell_type": "markdown",
   "id": "2d0e5b48",
   "metadata": {},
   "source": [
    " "
   ]
  },
  {
   "cell_type": "markdown",
   "id": "79e9965a",
   "metadata": {},
   "source": [
    "### Imputation"
   ]
  },
  {
   "cell_type": "code",
   "execution_count": null,
   "id": "f21ef642",
   "metadata": {},
   "outputs": [],
   "source": [
    "# List of categorical columns to one-hot encode\n",
    "categorical_columns = ['Fuel']#, 'Weather Station', 'ERCOT Region']\n",
    "\n",
    "# Use pd.get_dummies to create dummy variables\n",
    "imputation_df = pd.get_dummies(agg_df, columns=categorical_columns, prefix=categorical_columns)\n",
    "\n",
    "imputation_df.head()"
   ]
  },
  {
   "cell_type": "code",
   "execution_count": null,
   "id": "4e684037",
   "metadata": {},
   "outputs": [],
   "source": [
    "print(aggregated_df.columns)"
   ]
  },
  {
   "cell_type": "code",
   "execution_count": null,
   "id": "7872f940",
   "metadata": {},
   "outputs": [],
   "source": [
    "print(aggregated_df.dtypes)"
   ]
  },
  {
   "cell_type": "markdown",
   "id": "5e6903a6",
   "metadata": {},
   "source": [
    "### Modeling "
   ]
  },
  {
   "cell_type": "markdown",
   "id": "fcd668dc",
   "metadata": {},
   "source": [
    "### Linear Regression"
   ]
  },
  {
   "cell_type": "code",
   "execution_count": null,
   "id": "2431fadb",
   "metadata": {},
   "outputs": [],
   "source": [
    "from sklearn.model_selection import train_test_split\n",
    "from sklearn.linear_model import LinearRegression\n",
    "from sklearn.metrics import mean_squared_error, mean_absolute_error, r2_score, mean_squared_error, explained_variance_score\n",
    "\n",
    "\n",
    "# List of targets to drop\n",
    "features_to_drop = ['Demand','Date']\n",
    "\n",
    "# Split the data into features (X) and target variable (y)\n",
    "X = imputation_df.drop(features_to_drop, axis=1)  # Remove the target variable from features\n",
    "y = imputation_df['Demand']"
   ]
  },
  {
   "cell_type": "code",
   "execution_count": null,
   "id": "12dd18e0",
   "metadata": {},
   "outputs": [],
   "source": [
    "# Split the data into training and testing sets\n",
    "X_train, X_test, y_train, y_test = train_test_split(X, y, test_size=0.2, random_state=117)"
   ]
  },
  {
   "cell_type": "code",
   "execution_count": null,
   "id": "b7e8a774",
   "metadata": {},
   "outputs": [],
   "source": [
    "# Create and train the linear regression model\n",
    "model = LinearRegression()\n",
    "model.fit(X_train, y_train)"
   ]
  },
  {
   "cell_type": "code",
   "execution_count": null,
   "id": "690ac34b",
   "metadata": {},
   "outputs": [],
   "source": [
    "# Make predictions on the test set\n",
    "y_pred = model.predict(X_test)"
   ]
  },
  {
   "cell_type": "code",
   "execution_count": null,
   "id": "88677f16",
   "metadata": {},
   "outputs": [],
   "source": [
    "# Evaluate the model\n",
    "mse = mean_squared_error(y_test, y_pred)\n",
    "print(f'Mean Squared Error: {mse}')\n",
    "\n",
    "mae = mean_absolute_error(y_test, y_pred)\n",
    "print(f'Mean Absolute Error: {mae}')\n",
    "\n",
    "r2 = r2_score(y_test, y_pred)\n",
    "print(f'R^2 Score: {r2}')\n",
    "\n",
    "rmse = mean_squared_error(y_test, y_pred, squared=False)\n",
    "print(f'Root Mean Squared Error: {rmse}')\n",
    "\n",
    "evs = explained_variance_score(y_test, y_pred)\n",
    "print(f'Explained Variance Score: {evs}')"
   ]
  },
  {
   "cell_type": "markdown",
   "id": "dcf7403c",
   "metadata": {},
   "source": [
    "Mean Squared Error (MSE):\n",
    "\n",
    "Interpretation: In the context of energy demand prediction, the MSE measures the average of the squared differences between the predicted and actual energy demand values. The units of MSE are squared, which might be less intuitive, but it heavily penalizes large errors. A lower MSE indicates that, on average, your model's predictions are closer to the actual energy demand values.\n",
    "\n",
    "Example: A MSE of \n",
    "97582863.19434269\n",
    "97582863.19434269 means that, on average, the squared difference between predicted and actual energy demand is around \n",
    "97582863\n",
    "97582863 MWH².\n",
    "\n",
    "Mean Absolute Error (MAE):\n",
    "\n",
    "Interpretation: The MAE represents the average absolute difference between predicted and actual energy demand. It gives a sense of the average magnitude of errors, without considering their direction.\n",
    "\n",
    "Example: A MAE of \n",
    "7092.042626345343\n",
    "7092.042626345343 means that, on average, your model's predictions deviate by approximately \n",
    "7092\n",
    "7092 MWH from the actual energy demand.\n",
    "\n",
    "R-squared (R²) Score:\n",
    "\n",
    "Interpretation: The R² score provides a measure of how well your model explains the variance in the total energy demand. It represents the proportion of the variance in the dependent variable (energy demand) that is predictable from the independent variables (features).\n",
    "\n",
    "Example: An R² score of \n",
    "0.9968489058069655\n",
    "0.9968489058069655 means that approximately \n",
    "99.68\n",
    "%\n",
    "99.68% of the variance in the energy demand is explained by your model. This is exceptionally high and suggests a very good fit.\n",
    "\n",
    "Root Mean Squared Error (RMSE):\n",
    "\n",
    "Interpretation: RMSE is the square root of the MSE and is in the same unit as the target variable. It provides an easily interpretable measure of the average magnitude of errors.\n",
    "\n",
    "Example: An RMSE of \n",
    "9878.403878883606\n",
    "9878.403878883606 means that, on average, your model's predictions deviate by approximately \n",
    "9878\n",
    "9878 MWH from the actual energy demand.\n",
    "\n",
    "Explained Variance Score:\n",
    "\n",
    "Interpretation: Similar to R², the explained variance score measures the proportion of variance in the energy demand that is explained by your model.\n",
    "\n",
    "Example: An explained variance score of \n",
    "0.9968536637240049\n",
    "0.9968536637240049 means that approximately \n",
    "99.69\n",
    "%\n",
    "99.69% of the variance in the energy demand is explained by your model.\n",
    "\n",
    "In summary, your regression model is performing exceptionally well. The high R² score and explained variance suggest that your model captures a significant portion of the variability in total energy demand. The MSE, MAE, and RMSE values indicate that, on average, your model's predictions are very close to the actual energy demand values. These metrics collectively suggest that your model is accurate and reliable for predicting daily total energy demand."
   ]
  },
  {
   "cell_type": "code",
   "execution_count": null,
   "id": "76bc6fd1",
   "metadata": {},
   "outputs": [],
   "source": [
    "y2_true = y_test"
   ]
  },
  {
   "cell_type": "code",
   "execution_count": null,
   "id": "735fb730",
   "metadata": {},
   "outputs": [],
   "source": [
    "# Assuming y_pred and y_true are your predicted and actual values\n",
    "plt.scatter(y2_true, y_pred, alpha=0.5)\n",
    "plt.plot([min(y2_true), max(y2_true)], [min(y2_true), max(y2_true)], color='red', linestyle='--', linewidth=2)\n",
    "plt.xlabel('Actual Values')\n",
    "plt.ylabel('Predicted Values')\n",
    "plt.title('Scatter Plot for MSE and RMSE')\n",
    "plt.show()\n"
   ]
  },
  {
   "cell_type": "code",
   "execution_count": null,
   "id": "91219880",
   "metadata": {},
   "outputs": [],
   "source": [
    "plt.scatter(y2_true, np.abs(y2_true - y_pred), alpha=0.5)\n",
    "plt.xlabel('Actual Values')\n",
    "plt.ylabel('Absolute Errors')\n",
    "plt.title('Scatter Plot for MAE')\n",
    "plt.show()\n"
   ]
  },
  {
   "cell_type": "code",
   "execution_count": null,
   "id": "e9ee2016",
   "metadata": {},
   "outputs": [],
   "source": [
    "residuals = y2_true - y_pred\n",
    "plt.scatter(y_pred, residuals, alpha=0.5)\n",
    "plt.axhline(y=0, color='red', linestyle='--', linewidth=2)\n",
    "plt.xlabel('Predicted Values')\n",
    "plt.ylabel('Residuals')\n",
    "plt.title('Residual Plot')\n",
    "plt.show()\n"
   ]
  },
  {
   "cell_type": "code",
   "execution_count": null,
   "id": "ec9a2c84",
   "metadata": {},
   "outputs": [],
   "source": [
    "residuals = y2_true - y_pred\n",
    "plt.scatter(y_pred, residuals, alpha=0.5)\n",
    "plt.axhline(y=0, color='red', linestyle='--', linewidth=2)\n",
    "plt.xlabel('Predicted Values')\n",
    "plt.ylabel('Residuals')\n",
    "plt.title('Residual Plot')\n",
    "plt.show()\n"
   ]
  },
  {
   "cell_type": "markdown",
   "id": "13f822d7",
   "metadata": {},
   "source": [
    "MAPE= \n",
    "n\n",
    "1\n",
    "​\n",
    " ∑ \n",
    "i=1\n",
    "n\n",
    "​\n",
    "  \n",
    "∣\n",
    "∣\n",
    "​\n",
    "  \n",
    "y \n",
    "true,i\n",
    "​\n",
    " \n",
    "y \n",
    "true,i\n",
    "​\n",
    " −y \n",
    "pred,i\n",
    "​\n",
    " \n",
    "​\n",
    "  \n",
    "∣\n",
    "∣\n",
    "​\n",
    " ×100"
   ]
  },
  {
   "attachments": {
    "image.png": {
     "image/png": "[encoded data removed]"
    }
   },
   "cell_type": "markdown",
   "id": "3134023f",
   "metadata": {},
   "source": [
    "![image.png](attachment:image.png)"
   ]
  },
  {
   "cell_type": "code",
   "execution_count": null,
   "id": "ce1b6a7a",
   "metadata": {},
   "outputs": [],
   "source": [
    "import time\n",
    "\n",
    "# Record the start time\n",
    "start_time = time.time()\n",
    "\n",
    "# Ensure that y2_true and y_pred2 have the same length\n",
    "if len(y2_true) == len(y_pred):\n",
    "    # Calculate absolute errors and percentage errors\n",
    "    abs_errors = np.abs(y2_true - y_pred)\n",
    "    percentage_errors = (abs_errors / y2_true) * 100\n",
    "\n",
    "    # Set a larger figure size\n",
    "    plt.figure(figsize=(12, 6))\n",
    "    \n",
    "    # Plot side-by-side bar chart for actual and predicted values\n",
    "    bar_width = 0.35\n",
    "    index = np.arange(len(y2_true))\n",
    "    \n",
    "    plt.bar(index, y2_true, width=bar_width, label='Actual', color='blue')\n",
    "    plt.bar(index + bar_width, y_pred, width=bar_width, label='Predicted', color='orange')\n",
    "    \n",
    "    # Display Mean Absolute Error Percentage on the graph\n",
    "    mean_absolute_error_percentage = np.mean(percentage_errors)\n",
    "    plt.text(0.5, 0.88, f'Mean Absolute Error Percentage: {mean_absolute_error_percentage:.2f}%', \n",
    "             transform=plt.gca().transAxes, fontsize=10, ha='center', va='center')\n",
    "    \n",
    "    # Position the legend outside the plot area\n",
    "    plt.legend(loc='upper center', bbox_to_anchor=(0.5, -0.15), fancybox=True, shadow=True, ncol=2)\n",
    "    \n",
    "    plt.xlabel('Data Points')\n",
    "    plt.ylabel('Values')\n",
    "    plt.title('Actual vs Predicted Values')\n",
    "    plt.show()\n",
    "    \n",
    "    # Alternatively, print it below the graph\n",
    "    print(f'Mean Absolute Error Percentage: {mean_absolute_error_percentage:.2f}%')\n",
    "else:\n",
    "    print(\"Error: y2_true and y_pred must have the same length.\")\n",
    "    \n",
    "    \n",
    "# Record the end time\n",
    "end_time = time.time()\n",
    "\n",
    "# Calculate and print the elapsed time\n",
    "elapsed_time = end_time - start_time\n",
    "print(f'The code block took {elapsed_time:.4f} seconds to execute.')\n"
   ]
  },
  {
   "cell_type": "markdown",
   "id": "39cc31d3",
   "metadata": {},
   "source": [
    "The Mean Absolute Error Percentage (MAEP) is a metric used to evaluate the accuracy of a model's predictions, particularly in the context of regression problems. It represents the average percentage difference between the predicted values and the actual values. In your case, a MAEP of 15.98% means, on average, your model's predictions are off by approximately 0.75% relative to the actual values.\n",
    "\n",
    "Here's how you interpret it:\n",
    "\n",
    "If MAEP is 0%, it indicates perfect predictions, meaning the model's predictions match the actual values exactly.\n",
    "\n",
    "A lower MAEP is generally better, as it signifies that, on average, the model's predictions are closer to the actual values.\n",
    "\n",
    "A higher MAEP suggests that, on average, the model's predictions have a larger percentage difference from the actual values.\n",
    "\n",
    "Interpretation of MAEP (0.75%):\n",
    "\n",
    "\n",
    "This is a small percentage, suggesting that your model is accurate and provides reliable predictions for daily total energy demand.\n",
    "Implications:\n",
    "\n",
    "A low MAEP is particularly important in energy demand prediction, where precise forecasts are crucial for efficient resource planning and utilization.\n",
    "With a MAEP of 0.75%, your model's predictions align closely with the actual energy demand, indicating high accuracy.\n",
    "Considerations:\n",
    "\n",
    "It's always essential to consider the specific requirements of your application. Depending on the context, a 0.75% error might be more than acceptable or may need further improvement.\n",
    "Next Steps:\n",
    "\n",
    "Given the excellent performance indicated by a low MAEP, you might consider using this model for operational planning, resource allocation, or decision-making related to energy demand.\n",
    "Additionally, you may want to monitor the model's performance over time and across different scenarios to ensure its continued accuracy.\n",
    "Overall, achieving a MAEP of 0.75% is a notable achievement and suggests that your linear regression model is well-suited for predicting daily total energy demand. "
   ]
  },
  {
   "cell_type": "markdown",
   "id": "565a70cd",
   "metadata": {},
   "source": [
    "#### Time Series Models Python"
   ]
  },
  {
   "cell_type": "code",
   "execution_count": null,
   "id": "e13a1816",
   "metadata": {},
   "outputs": [],
   "source": [
    "import pandas as pd\n",
    "import matplotlib.pyplot as plt\n",
    "\n",
    "# Assuming your time series data is in a CSV file, adjust the file path accordingly\n",
    "file_path = 'C:/Users/19405/MSDS_QuantifyingTheWorld/Case Study Seven/aggregated_data.csv'\n",
    "\n",
    "# Load the time series data\n",
    "time_series_df = pd.read_csv(file_path)\n",
    "\n",
    "# Convert the 'Date' column to a datetime object\n",
    "time_series_df['Date'] = pd.to_datetime(time_series_df['Date'])\n",
    "\n",
    "# Set the 'Date' column as the index\n",
    "time_series_df.set_index('Date', inplace=True)\n",
    "\n",
    "# Plot the time series\n",
    "plt.figure(figsize=(18, 6))\n",
    "plt.plot(time_series_df.index, time_series_df['Demand'], label='Original Time Series')\n",
    "plt.title('Original Time Series Data')\n",
    "plt.xlabel('Date')\n",
    "plt.ylabel('Demand')\n",
    "plt.legend()\n",
    "plt.show()\n"
   ]
  },
  {
   "cell_type": "code",
   "execution_count": null,
   "id": "a4dd2484",
   "metadata": {},
   "outputs": [],
   "source": [
    "# Split the data into training and testing sets\n",
    "train_size = int(len(time_series_df) * 0.8)\n",
    "train, test = time_series_df[:train_size], time_series_df[train_size:]"
   ]
  },
  {
   "cell_type": "code",
   "execution_count": null,
   "id": "ca3041ff",
   "metadata": {},
   "outputs": [],
   "source": [
    "# Plot the training and testing sets\n",
    "plt.figure(figsize=(18, 6))\n",
    "plt.plot(train.index, train['Demand'], label='Training Data')\n",
    "plt.plot(test.index, test['Demand'], label='Testing Data')\n",
    "plt.title('Training and Testing Data')\n",
    "plt.xlabel('Date')\n",
    "plt.ylabel('Demand')\n",
    "plt.legend()\n",
    "plt.show()"
   ]
  },
  {
   "cell_type": "code",
   "execution_count": null,
   "id": "bdf6215b",
   "metadata": {},
   "outputs": [],
   "source": [
    "from pmdarima import auto_arima\n",
    "from statsmodels.tsa.arima.model import ARIMA\n",
    "\n",
    "# Fit auto ARIMA model\n",
    "auto_model = auto_arima(train['Demand'], suppress_warnings=True, seasonal=False)\n",
    "\n",
    "# Get the best order\n",
    "best_order = auto_model.get_params()['order']\n",
    "print(f'Best ARIMA Order: {best_order}')"
   ]
  },
  {
   "cell_type": "markdown",
   "id": "8659e297",
   "metadata": {},
   "source": [
    "\n",
    "The \"Best ARIMA Order\" represents the optimal set of parameters for an ARIMA (AutoRegressive Integrated Moving Average) model. The order is usually denoted as (p, d, q), where:\n",
    "\n",
    "p: The order of the autoregressive (AR) component, representing the number of lag observations included in the model.\n",
    "d: The order of differencing needed to make the time series stationary. In other words, it represents the number of times the series needs to be differenced to achieve stationarity.\n",
    "q: The order of the moving average (MA) component, representing the size of the moving average window.\n",
    "In your case, a \"Best ARIMA Order\" of (2, 1, 2) means:\n",
    "\n",
    "p (AR): 2\n",
    "d (Differencing): 1\n",
    "q (MA): 2\n",
    "Interpretation:\n",
    "\n",
    "AR (Autoregressive) Component (p=2):\n",
    "\n",
    "There are two lag observations included in the model. The current value of the time series is assumed to be dependent on the two previous values.\n",
    "Differencing (d=1):\n",
    "\n",
    "One differencing step is applied to make the time series stationary. This suggests that first-order differencing is required to achieve stationarity.\n",
    "MA (Moving Average) Component (q=2):\n",
    "\n",
    "The moving average component has a size of 2, meaning the model considers the errors from the two previous time steps.\n",
    "In summary, an ARIMA(2, 1, 2) model has been identified as the best-fitting model for your time series data based on the auto_arima function's optimization process. This model configuration is often determined through methods like grid search or automated algorithms to find the parameters that minimize a chosen criterion (e.g., AIC, BIC) and provide the best fit to the data."
   ]
  },
  {
   "cell_type": "code",
   "execution_count": null,
   "id": "aa018830",
   "metadata": {},
   "outputs": [],
   "source": [
    "# Fit the best model\n",
    "best_model = ARIMA(train['Demand'], order=best_order).fit()"
   ]
  },
  {
   "cell_type": "code",
   "execution_count": null,
   "id": "bae92100",
   "metadata": {},
   "outputs": [],
   "source": [
    "# Define the number of steps to forecast for different time horizons\n",
    "forecast_steps_1_month = 31\n",
    "forecast_steps_3_months = 91\n",
    "forecast_steps_6_months = 182\n",
    "forecast_steps_12_months = 364\n",
    "\n",
    "# Forecast for different time horizons\n",
    "forecast_1_month = best_model.get_forecast(steps=forecast_steps_1_month)\n",
    "forecast_3_months = best_model.get_forecast(steps=forecast_steps_3_months)\n",
    "forecast_6_months = best_model.get_forecast(steps=forecast_steps_6_months)\n",
    "forecast_12_months = best_model.get_forecast(steps=forecast_steps_12_months)"
   ]
  },
  {
   "cell_type": "code",
   "execution_count": null,
   "id": "200687a1",
   "metadata": {},
   "outputs": [],
   "source": [
    "# Set a larger figure size\n",
    "plt.figure(figsize=(18, 10))\n",
    "\n",
    "# Plot the original time series\n",
    "plt.plot(train['Demand'], label='Training Data')\n",
    "plt.plot(test['Demand'], label='Testing Data')\n",
    "\n",
    "# Plot the forecasts for different time horizons\n",
    "plt.plot(forecast_1_month.predicted_mean.index, forecast_1_month.predicted_mean.values, label='1 Month Forecast', linestyle='dashed')\n",
    "plt.plot(forecast_3_months.predicted_mean.index, forecast_3_months.predicted_mean.values, label='3 Months Forecast', linestyle='dashed')\n",
    "plt.plot(forecast_6_months.predicted_mean.index, forecast_6_months.predicted_mean.values, label='6 Months Forecast', linestyle='dashed')\n",
    "plt.plot(forecast_12_months.predicted_mean.index, forecast_12_months.predicted_mean.values, label='12 Months Forecast', linestyle='dashed')\n",
    "\n",
    "# Plot confidence intervals if available\n",
    "plt.fill_between(forecast_1_month.predicted_mean.index, forecast_1_month.conf_int()['lower Demand'], forecast_1_month.conf_int()['upper Demand'], color='gray', alpha=0.5)\n",
    "plt.fill_between(forecast_3_months.predicted_mean.index, forecast_3_months.conf_int()['lower Demand'], forecast_3_months.conf_int()['upper Demand'], color='gray', alpha=0.5)\n",
    "plt.fill_between(forecast_6_months.predicted_mean.index, forecast_6_months.conf_int()['lower Demand'], forecast_6_months.conf_int()['upper Demand'], color='gray', alpha=0.5)\n",
    "plt.fill_between(forecast_12_months.predicted_mean.index, forecast_12_months.conf_int()['lower Demand'], forecast_12_months.conf_int()['upper Demand'], color='gray', alpha=0.5)\n",
    "\n",
    "# Adjust the Y-axis range if needed\n",
    "plt.ylim([min(train['Demand']), max(test['Demand']) * 1.25])\n",
    "\n",
    "# Set labels and title\n",
    "plt.xlabel('Date')\n",
    "plt.ylabel('Demand')\n",
    "plt.title('ARIMA Forecast for Different Time Horizons')\n",
    "plt.legend()\n",
    "plt.show()\n"
   ]
  },
  {
   "cell_type": "code",
   "execution_count": null,
   "id": "cd1e1c57",
   "metadata": {},
   "outputs": [],
   "source": [
    "# Extract forecasted values for the testing period\n",
    "forecast_value_1_month = forecast_1_month.predicted_mean\n",
    "forecast_value_3_months = forecast_3_months.predicted_mean\n",
    "forecast_value_6_months = forecast_6_months.predicted_mean\n",
    "\n",
    "# Access the forecasted values for specific dates\n",
    "forecast_value_1_month_at_date = forecast_value_1_month  # Use the specific date for the one-month forecast\n",
    "forecast_value_3_months_at_date = forecast_value_3_months  # Use the specific date for the three-month forecast\n",
    "forecast_value_6_months_at_date = forecast_value_6_months  # Use the specific date for the six-month forecast\n"
   ]
  },
  {
   "cell_type": "code",
   "execution_count": null,
   "id": "9c55fd46",
   "metadata": {},
   "outputs": [],
   "source": [
    "# Extract forecasted values for the testing period\n",
    "forecast_value_1_month = forecast_1_month.predicted_mean\n",
    "forecast_value_3_months = forecast_3_months.predicted_mean\n",
    "forecast_value_6_months = forecast_6_months.predicted_mean\n",
    "\n",
    "# Access the forecasted values for specific dates\n",
    "forecast_value_1_month_at_date = forecast_value_1_month.iloc[0]  # Use the specific date for the one-month forecast\n",
    "forecast_value_3_months_at_date = forecast_value_3_months.iloc[0]  # Use the specific date for the three-month forecast\n",
    "forecast_value_6_months_at_date = forecast_value_6_months.iloc[0]  # Use the specific date for the six-month forecast\n",
    "\n",
    "# Print the forecasted values\n",
    "print(\"1-Month Forecast at specific date:\", forecast_value_1_month_at_date)\n",
    "print(\"3-Months Forecast at specific date:\", forecast_value_3_months_at_date)\n",
    "print(\"6-Months Forecast at specific date:\", forecast_value_6_months_at_date)\n"
   ]
  },
  {
   "cell_type": "code",
   "execution_count": null,
   "id": "73fb4f0f",
   "metadata": {},
   "outputs": [],
   "source": [
    "from sklearn.metrics import mean_absolute_error, mean_squared_error\n",
    "import numpy as np\n",
    "\n",
    "# Convert the forecasted values to a NumPy array for comparison\n",
    "forecast_values = np.array([forecast_value_1_month_at_date, forecast_value_3_months_at_date, forecast_value_6_months_at_date])\n",
    "\n",
    "# Repeat the actual value for the number of forecasts\n",
    "actual_values = np.repeat(actual_values, len(forecast_values))\n",
    "\n",
    "# Calculate Mean Absolute Error (MAE)\n",
    "mae = mean_absolute_error(actual_values, forecast_values)\n",
    "\n",
    "# Calculate Mean Squared Error (MSE)\n",
    "mse = mean_squared_error(actual_values, forecast_values)\n",
    "\n",
    "# Calculate Root Mean Squared Error (RMSE)\n",
    "rmse = np.sqrt(mse)\n",
    "\n",
    "# Print the metrics\n",
    "print(\"Mean Absolute Error (MAE):\", mae)\n",
    "print(\"Mean Squared Error (MSE):\", mse)\n",
    "print(\"Root Mean Squared Error (RMSE):\", rmse)\n"
   ]
  },
  {
   "cell_type": "markdown",
   "id": "99f68015",
   "metadata": {},
   "source": [
    "Mean Absolute Error (MAE):\n",
    "\n",
    "The MAE represents the average absolute difference between the predicted values and the actual values.\n",
    "In this case, an MAE of 22560.76 indicates that, on average, the model's predictions differ from the actual values by approximately 22560.76 units.\n",
    "Mean Squared Error (MSE):\n",
    "\n",
    "The MSE measures the average of the squared differences between predicted and actual values.\n",
    "The MSE value of 508987850.07 suggests that, on average, the squared differences between predictions and actual values are around 508987850.07 units. MSE is sensitive to outliers, as it squares the differences.\n",
    "Root Mean Squared Error (RMSE):\n",
    "\n",
    "The RMSE is the square root of the MSE and provides an interpretable metric in the same unit as the original data.\n",
    "An RMSE of 22560.76 means that, on average, the model's predictions differ from the actual values by approximately 22560.76 units, considering the original scale of the data.\n",
    "In summary, these metrics help assess the accuracy of your forecasting model. Lower values for MAE, MSE, and RMSE generally indicate better performance, so you would aim to minimize these values when fine-tuning your model or comparing different models."
   ]
  },
  {
   "cell_type": "code",
   "execution_count": null,
   "id": "c57e8acd",
   "metadata": {},
   "outputs": [],
   "source": [
    "from sklearn.metrics import mean_absolute_error, mean_squared_error\n",
    "import numpy as np\n",
    "\n",
    "# Extract the actual value for the specific date\n",
    "actual_value_at_date = test['Demand'].loc['2020-10-19']\n",
    "\n",
    "# Extract the forecasted values for the testing period\n",
    "forecast_values_1_month = forecast_1_month.predicted_mean.loc['2020-10-19']\n",
    "forecast_values_3_months = forecast_3_months.predicted_mean.loc['2020-10-19']\n",
    "forecast_values_6_months = forecast_6_months.predicted_mean.loc['2020-10-19']\n",
    "\n",
    "# Calculate Mean Absolute Error (MAE) for each forecast horizon\n",
    "mae_1_month = mean_absolute_error([actual_value_at_date], [forecast_values_1_month])\n",
    "mae_3_months = mean_absolute_error([actual_value_at_date], [forecast_values_3_months])\n",
    "mae_6_months = mean_absolute_error([actual_value_at_date], [forecast_values_6_months])\n",
    "\n",
    "# Calculate Mean Squared Error (MSE) for each forecast horizon\n",
    "mse_1_month = mean_squared_error([actual_value_at_date], [forecast_values_1_month])\n",
    "mse_3_months = mean_squared_error([actual_value_at_date], [forecast_values_3_months])\n",
    "mse_6_months = mean_squared_error([actual_value_at_date], [forecast_values_6_months])\n",
    "\n",
    "# Calculate Root Mean Squared Error (RMSE) for each forecast horizon\n",
    "rmse_1_month = np.sqrt(mse_1_month)\n",
    "rmse_3_months = np.sqrt(mse_3_months)\n",
    "rmse_6_months = np.sqrt(mse_6_months)\n",
    "\n",
    "# Print the metrics\n",
    "print(\"MAE (1 Month Forecast):\", mae_1_month)\n",
    "print(\"MAE (3 Months Forecast):\", mae_3_months)\n",
    "print(\"MAE (6 Months Forecast):\", mae_6_months)\n",
    "\n",
    "print(\"MSE (1 Month Forecast):\", mse_1_month)\n",
    "print(\"MSE (3 Months Forecast):\", mse_3_months)\n",
    "print(\"MSE (6 Months Forecast):\", mse_6_months)\n",
    "\n",
    "print(\"RMSE (1 Month Forecast):\", rmse_1_month)\n",
    "print(\"RMSE (3 Months Forecast):\", rmse_3_months)\n",
    "print(\"RMSE (6 Months Forecast):\", rmse_6_months)\n"
   ]
  },
  {
   "cell_type": "code",
   "execution_count": null,
   "id": "799d83c0",
   "metadata": {},
   "outputs": [],
   "source": [
    "print(\"1-Month Forecast at specific date:\", forecast_values_1_month)\n",
    "print(\"3-Months Forecast at specific date:\", forecast_values_3_months)\n",
    "print(\"6-Months Forecast at specific date:\", forecast_values_6_months)\n"
   ]
  },
  {
   "cell_type": "markdown",
   "id": "cc2e27bb",
   "metadata": {},
   "source": [
    "\n",
    "It appears that the forecasted values for different time horizons at the specific date are indeed the same. This suggests that the model predicts the same value for 1 month, 3 months, and 6 months into the future at the given date.\n",
    "\n",
    "To further investigate, you might want to check the model parameters, the training data, and the time series characteristics. Additionally, you could try using a different forecasting model or adjusting the hyperparameters of the current model to see if it produces more diverse forecasts for different time horizons."
   ]
  },
  {
   "cell_type": "code",
   "execution_count": null,
   "id": "f59afe9e",
   "metadata": {},
   "outputs": [],
   "source": [
    "from sklearn.metrics import mean_absolute_error, mean_squared_error\n",
    "\n",
    "# Extract the forecasted values for the testing period\n",
    "forecast_values_1_month = forecast_1_month.predicted_mean.loc['2020-10-19']\n",
    "forecast_values_3_months = forecast_3_months.predicted_mean.loc['2020-10-19']\n",
    "forecast_values_6_months = forecast_6_months.predicted_mean.loc['2020-10-19']\n",
    "\n",
    "# Ensure the lengths match by considering only the corresponding actual values\n",
    "actual_values_at_date = actual_values[0]\n",
    "\n",
    "# Calculate Mean Absolute Error (MAE) for each forecast horizon\n",
    "mae_1_month = mean_absolute_error([actual_values_at_date], [forecast_values_1_month])\n",
    "mae_3_months = mean_absolute_error([actual_values_at_date], [forecast_values_3_months])\n",
    "mae_6_months = mean_absolute_error([actual_values_at_date], [forecast_values_6_months])\n",
    "\n",
    "# Calculate Mean Squared Error (MSE) for each forecast horizon\n",
    "mse_1_month = mean_squared_error([actual_values_at_date], [forecast_values_1_month])\n",
    "mse_3_months = mean_squared_error([actual_values_at_date], [forecast_values_3_months])\n",
    "mse_6_months = mean_squared_error([actual_values_at_date], [forecast_values_6_months])\n",
    "\n",
    "# Print the metrics\n",
    "print(\"MAE (1 Month):\", mae_1_month)\n",
    "print(\"MAE (3 Months):\", mae_3_months)\n",
    "print(\"MAE (6 Months):\", mae_6_months)\n",
    "\n",
    "print(\"MSE (1 Month):\", mse_1_month)\n",
    "print(\"MSE (3 Months):\", mse_3_months)\n",
    "print(\"MSE (6 Months):\", mse_6_months)\n"
   ]
  },
  {
   "cell_type": "markdown",
   "id": "04aff212",
   "metadata": {},
   "source": [
    "#### Neural Network Models"
   ]
  },
  {
   "cell_type": "code",
   "execution_count": null,
   "id": "1a0cd914",
   "metadata": {},
   "outputs": [],
   "source": []
  },
  {
   "cell_type": "code",
   "execution_count": null,
   "id": "bea49a0e",
   "metadata": {},
   "outputs": [],
   "source": []
  },
  {
   "cell_type": "code",
   "execution_count": null,
   "id": "3bf02211",
   "metadata": {},
   "outputs": [],
   "source": []
  },
  {
   "cell_type": "code",
   "execution_count": null,
   "id": "d9517829",
   "metadata": {},
   "outputs": [],
   "source": []
  },
  {
   "cell_type": "code",
   "execution_count": null,
   "id": "ec7e9a1c",
   "metadata": {},
   "outputs": [],
   "source": []
  },
  {
   "cell_type": "code",
   "execution_count": null,
   "id": "1ec91e39",
   "metadata": {},
   "outputs": [],
   "source": []
  },
  {
   "cell_type": "code",
   "execution_count": null,
   "id": "369a3545",
   "metadata": {},
   "outputs": [],
   "source": []
  },
  {
   "cell_type": "code",
   "execution_count": null,
   "id": "23871e01",
   "metadata": {},
   "outputs": [],
   "source": []
  },
  {
   "cell_type": "code",
   "execution_count": null,
   "id": "9e2012eb",
   "metadata": {},
   "outputs": [],
   "source": []
  },
  {
   "cell_type": "code",
   "execution_count": null,
   "id": "d71414c3",
   "metadata": {},
   "outputs": [],
   "source": []
  }
 ],
 "metadata": {
  "kernelspec": {
   "display_name": "Python 3 (ipykernel)",
   "language": "python",
   "name": "python3"
  },
  "language_info": {
   "codemirror_mode": {
    "name": "ipython",
    "version": 3
   },
   "file_extension": ".py",
   "mimetype": "text/x-python",
   "name": "python",
   "nbconvert_exporter": "python",
   "pygments_lexer": "ipython3",
   "version": "3.9.12"
  },
  "vscode": {
   "interpreter": {
    "hash": "77fad8f1fd48b0dbc17e5e0b2f14396946f41876e8f98b3588ed05859c665f39"
   }
  }
 },
 "nbformat": 4,
 "nbformat_minor": 5
}
