{
 "cells": [
  {
   "cell_type": "markdown",
   "id": "b4ce481a",
   "metadata": {},
   "source": [
    "__Title:__ Capstone Project: All Methods\n",
    "\n",
    "__Authors:__ Will Butler, Robert (Reuven) Derner "
   ]
  },
  {
   "cell_type": "code",
   "execution_count": null,
   "id": "6e3de256",
   "metadata": {},
   "outputs": [],
   "source": [
    "# Import data fr1om github (next phase)\n",
    "# url = 'https://raw.githubusercontent.com/ReuvenDerner/MSDS_QuantifyingTheWorld/main/log2.csv'\n",
    "# data = pd.read_csv(url, encoding = \"utf-8\")"
   ]
  },
  {
   "cell_type": "code",
   "execution_count": null,
   "id": "166f58b3",
   "metadata": {},
   "outputs": [],
   "source": [
    "# Create a DataFrame from the data\n",
    "#df = pd.read_csv(file_path, encoding = \"utf-8\")"
   ]
  },
  {
   "cell_type": "markdown",
   "id": "694b8616",
   "metadata": {},
   "source": [
    "## Data Quality\n",
    "Verify data quality: Explain any missing values, duplicate data, and outliers. Are those mistakes? How do you deal with these problems? Give justifications for your methods."
   ]
  },
  {
   "cell_type": "code",
   "execution_count": null,
   "id": "76d4dc12",
   "metadata": {},
   "outputs": [],
   "source": [
    "#file_path = 'C:\\\\Users\\\\19405\\\\Downloads\\\\final_project(5).csv'\n",
    "#df = pd.read_csv(file_path)"
   ]
  },
  {
   "cell_type": "code",
   "execution_count": null,
   "id": "102a6450",
   "metadata": {},
   "outputs": [],
   "source": [
    "#import pandas as pd\n",
    "#import requests\n",
    "#from io import BytesIO"
   ]
  },
  {
   "cell_type": "code",
   "execution_count": null,
   "id": "c7f9ddc7",
   "metadata": {},
   "outputs": [],
   "source": [
    "#New import from full python file\n",
    "#import pandas as pd\n",
    "\n",
    "# Replace 'your_file.csv' with the actual path to your CSV file\n",
    "#file_path = 'C:/Users/19405/OneDrive/Documents/GitHub/MSDS_Capstone/MSDS_6120_Capstone_ARW/transposed_power_data.csv'\n",
    "\n",
    "# Read the CSV file into a DataFrame\n",
    "#df = pd.read_csv(file_path)\n",
    "\n",
    "# Display the first few rows of the DataFrame\n",
    "#df.head()\n"
   ]
  },
  {
   "cell_type": "code",
   "execution_count": null,
   "id": "51c9b484",
   "metadata": {},
   "outputs": [],
   "source": [
    "#from datetime import datetime, timedelta\n",
    "#import numpy as np\n",
    "\n",
    "\n",
    "#date_std = df.replace(to_replace='/', value='-', regex=True)\n",
    "\n",
    "\n",
    "# Convert 'Date' column to datetime objects\n",
    "#date_std['Date'] = pd.to_datetime(date_std['Date'])\n",
    "\n",
    "# Convert back to the desired string format 'mm-dd-yy'\n",
    "#date_std['Date'] = date_std['Date'].dt.strftime('%m-%d-%y')\n",
    "\n",
    "#get the number of rows\n",
    "#n = len(date_std)\n",
    "\n",
    "#count to 101 then repeat\n",
    "#count_column = [(i % 101) + 1 for i in range(n)]\n",
    "\n",
    "#create a new column for the count\n",
    "#date_std['Day_Count'] = count_column\n",
    "\n",
    "#need to drop 97 - 101\n",
    "\n",
    "#label records that need to be dropped\n",
    "#date_std['drop?'] = np.where(date_std['Day_Count'] > 96, 'Y', 'N')\n",
    "\n",
    "#update these drop? so that the daylight savings records are not dropped \n",
    "#dls = [\n",
    "#    '03-11-07', '11-04-07',\n",
    "#    '03-09-08', '11-02-08',\n",
    "#    '03-08-09', '11-01-09',\n",
    "#    '03-14-10', '11-07-10',\n",
    "#    '03-13-11', '11-06-11',\n",
    "#    '03-11-12', '11-04-12',\n",
    "#    '03-10-13', '11-03-13',\n",
    "#    '03-09-14', '11-02-14',\n",
    "#    '03-08-15', '11-01-15',\n",
    "#    '03-13-16', '11-06-16',\n",
    "#    '03-12-17', '11-05-17',\n",
    "#    '03-11-18', '11-04-18',\n",
    "#    '03-10-19', '11-03-19',\n",
    "#    '03-08-20', '11-01-20',\n",
    "#    '03-14-21', '11-07-21',\n",
    "#    '03-13-22', '11-06-22'\n",
    "#]\n",
    "\n",
    "#date_std.loc[date_std['Date'].isin(dls), 'drop?'] = 'N'\n",
    "\n",
    "# drop records with drop? value of N\n",
    "#filtered_df = date_std[date_std['drop?'] != 'Y']\n",
    "\n",
    "#filtered_df.to_csv('clean_power_data.csv', index=True)"
   ]
  },
  {
   "cell_type": "code",
   "execution_count": null,
   "id": "df9443b5",
   "metadata": {},
   "outputs": [],
   "source": [
    "#filtered_df.head()"
   ]
  },
  {
   "cell_type": "code",
   "execution_count": null,
   "id": "acbff3df",
   "metadata": {},
   "outputs": [],
   "source": [
    "#df = filtered_df"
   ]
  },
  {
   "cell_type": "code",
   "execution_count": null,
   "id": "702f44a3",
   "metadata": {},
   "outputs": [],
   "source": [
    "#Lets examine nulls pre join"
   ]
  },
  {
   "cell_type": "code",
   "execution_count": null,
   "id": "1f37ac5f",
   "metadata": {},
   "outputs": [],
   "source": []
  },
  {
   "cell_type": "code",
   "execution_count": 1,
   "id": "318c542b",
   "metadata": {},
   "outputs": [
    {
     "data": {
      "text/html": [
       "<div>\n",
       "<style scoped>\n",
       "    .dataframe tbody tr th:only-of-type {\n",
       "        vertical-align: middle;\n",
       "    }\n",
       "\n",
       "    .dataframe tbody tr th {\n",
       "        vertical-align: top;\n",
       "    }\n",
       "\n",
       "    .dataframe thead th {\n",
       "        text-align: right;\n",
       "    }\n",
       "</style>\n",
       "<table border=\"1\" class=\"dataframe\">\n",
       "  <thead>\n",
       "    <tr style=\"text-align: right;\">\n",
       "      <th></th>\n",
       "      <th>Unnamed: 0</th>\n",
       "      <th>HashedIndex</th>\n",
       "      <th>Demand</th>\n",
       "      <th>Fuel</th>\n",
       "      <th>Date</th>\n",
       "      <th>Daily MWH</th>\n",
       "      <th>Time</th>\n",
       "      <th>Combined</th>\n",
       "      <th>Year</th>\n",
       "      <th>Month</th>\n",
       "      <th>...</th>\n",
       "      <th>Humidity Percent Max Midland Far West</th>\n",
       "      <th>Humidity Percent Avg Midland Far West</th>\n",
       "      <th>Humidity Percent Min Midland Far West</th>\n",
       "      <th>Wind Speed Max Midland Far West</th>\n",
       "      <th>Wind Speed Avg Midland Far West</th>\n",
       "      <th>Wind Speed Min Midland Far West</th>\n",
       "      <th>Pressures Inch Max Midland Far West</th>\n",
       "      <th>Pressure InchAvg Midland Far West</th>\n",
       "      <th>Pressure Inch Min Midland Far West</th>\n",
       "      <th>Precipitation Total Midland Far West</th>\n",
       "    </tr>\n",
       "  </thead>\n",
       "  <tbody>\n",
       "    <tr>\n",
       "      <th>0</th>\n",
       "      <td>0</td>\n",
       "      <td>f30e839570c87617aa4df1fc6a0b4d2ba27811c5f225a5...</td>\n",
       "      <td>3376.329577</td>\n",
       "      <td>Coal</td>\n",
       "      <td>2007-01-01</td>\n",
       "      <td>314608.6399</td>\n",
       "      <td>00:00:00</td>\n",
       "      <td>01-01-07 00:00:00 Coal</td>\n",
       "      <td>2007</td>\n",
       "      <td>1</td>\n",
       "      <td>...</td>\n",
       "      <td>88</td>\n",
       "      <td>65.0</td>\n",
       "      <td>41</td>\n",
       "      <td>13</td>\n",
       "      <td>8.0</td>\n",
       "      <td>3</td>\n",
       "      <td>27.3</td>\n",
       "      <td>27.3</td>\n",
       "      <td>27.2</td>\n",
       "      <td>0.0</td>\n",
       "    </tr>\n",
       "    <tr>\n",
       "      <th>1</th>\n",
       "      <td>1</td>\n",
       "      <td>ede6098380c10e48d944288c220849403128f8752402f4...</td>\n",
       "      <td>3368.077206</td>\n",
       "      <td>Coal</td>\n",
       "      <td>2007-01-01</td>\n",
       "      <td>314608.6399</td>\n",
       "      <td>00:15:00</td>\n",
       "      <td>01-01-07 00:15:00 Coal</td>\n",
       "      <td>2007</td>\n",
       "      <td>1</td>\n",
       "      <td>...</td>\n",
       "      <td>88</td>\n",
       "      <td>65.0</td>\n",
       "      <td>41</td>\n",
       "      <td>13</td>\n",
       "      <td>8.0</td>\n",
       "      <td>3</td>\n",
       "      <td>27.3</td>\n",
       "      <td>27.3</td>\n",
       "      <td>27.2</td>\n",
       "      <td>0.0</td>\n",
       "    </tr>\n",
       "    <tr>\n",
       "      <th>2</th>\n",
       "      <td>2</td>\n",
       "      <td>be6c8a673a21a9c147a33b75f67679120aa352334e59ba...</td>\n",
       "      <td>3365.003007</td>\n",
       "      <td>Coal</td>\n",
       "      <td>2007-01-01</td>\n",
       "      <td>314608.6399</td>\n",
       "      <td>00:30:00</td>\n",
       "      <td>01-01-07 00:30:00 Coal</td>\n",
       "      <td>2007</td>\n",
       "      <td>1</td>\n",
       "      <td>...</td>\n",
       "      <td>88</td>\n",
       "      <td>65.0</td>\n",
       "      <td>41</td>\n",
       "      <td>13</td>\n",
       "      <td>8.0</td>\n",
       "      <td>3</td>\n",
       "      <td>27.3</td>\n",
       "      <td>27.3</td>\n",
       "      <td>27.2</td>\n",
       "      <td>0.0</td>\n",
       "    </tr>\n",
       "    <tr>\n",
       "      <th>3</th>\n",
       "      <td>3</td>\n",
       "      <td>8643933102baf47f748061b6375c2c8f94020317879c88...</td>\n",
       "      <td>3364.700590</td>\n",
       "      <td>Coal</td>\n",
       "      <td>2007-01-01</td>\n",
       "      <td>314608.6399</td>\n",
       "      <td>00:45:00</td>\n",
       "      <td>01-01-07 00:45:00 Coal</td>\n",
       "      <td>2007</td>\n",
       "      <td>1</td>\n",
       "      <td>...</td>\n",
       "      <td>88</td>\n",
       "      <td>65.0</td>\n",
       "      <td>41</td>\n",
       "      <td>13</td>\n",
       "      <td>8.0</td>\n",
       "      <td>3</td>\n",
       "      <td>27.3</td>\n",
       "      <td>27.3</td>\n",
       "      <td>27.2</td>\n",
       "      <td>0.0</td>\n",
       "    </tr>\n",
       "    <tr>\n",
       "      <th>4</th>\n",
       "      <td>4</td>\n",
       "      <td>062914c5cf4d65b47050e75008fbd3ea78ba8a18f212a0...</td>\n",
       "      <td>3337.219223</td>\n",
       "      <td>Coal</td>\n",
       "      <td>2007-01-01</td>\n",
       "      <td>314608.6399</td>\n",
       "      <td>01:00:00</td>\n",
       "      <td>01-01-07 01:00:00 Coal</td>\n",
       "      <td>2007</td>\n",
       "      <td>1</td>\n",
       "      <td>...</td>\n",
       "      <td>88</td>\n",
       "      <td>65.0</td>\n",
       "      <td>41</td>\n",
       "      <td>13</td>\n",
       "      <td>8.0</td>\n",
       "      <td>3</td>\n",
       "      <td>27.3</td>\n",
       "      <td>27.3</td>\n",
       "      <td>27.2</td>\n",
       "      <td>0.0</td>\n",
       "    </tr>\n",
       "  </tbody>\n",
       "</table>\n",
       "<p>5 rows × 139 columns</p>\n",
       "</div>"
      ],
      "text/plain": [
       "   Unnamed: 0                                        HashedIndex       Demand  \\\n",
       "0           0  f30e839570c87617aa4df1fc6a0b4d2ba27811c5f225a5...  3376.329577   \n",
       "1           1  ede6098380c10e48d944288c220849403128f8752402f4...  3368.077206   \n",
       "2           2  be6c8a673a21a9c147a33b75f67679120aa352334e59ba...  3365.003007   \n",
       "3           3  8643933102baf47f748061b6375c2c8f94020317879c88...  3364.700590   \n",
       "4           4  062914c5cf4d65b47050e75008fbd3ea78ba8a18f212a0...  3337.219223   \n",
       "\n",
       "   Fuel        Date    Daily MWH      Time                Combined  Year  \\\n",
       "0  Coal  2007-01-01  314608.6399  00:00:00  01-01-07 00:00:00 Coal  2007   \n",
       "1  Coal  2007-01-01  314608.6399  00:15:00  01-01-07 00:15:00 Coal  2007   \n",
       "2  Coal  2007-01-01  314608.6399  00:30:00  01-01-07 00:30:00 Coal  2007   \n",
       "3  Coal  2007-01-01  314608.6399  00:45:00  01-01-07 00:45:00 Coal  2007   \n",
       "4  Coal  2007-01-01  314608.6399  01:00:00  01-01-07 01:00:00 Coal  2007   \n",
       "\n",
       "   Month  ...  Humidity Percent Max Midland Far West  \\\n",
       "0      1  ...                                     88   \n",
       "1      1  ...                                     88   \n",
       "2      1  ...                                     88   \n",
       "3      1  ...                                     88   \n",
       "4      1  ...                                     88   \n",
       "\n",
       "   Humidity Percent Avg Midland Far West  \\\n",
       "0                                   65.0   \n",
       "1                                   65.0   \n",
       "2                                   65.0   \n",
       "3                                   65.0   \n",
       "4                                   65.0   \n",
       "\n",
       "   Humidity Percent Min Midland Far West  Wind Speed Max Midland Far West  \\\n",
       "0                                     41                               13   \n",
       "1                                     41                               13   \n",
       "2                                     41                               13   \n",
       "3                                     41                               13   \n",
       "4                                     41                               13   \n",
       "\n",
       "   Wind Speed Avg Midland Far West  Wind Speed Min Midland Far West  \\\n",
       "0                              8.0                                3   \n",
       "1                              8.0                                3   \n",
       "2                              8.0                                3   \n",
       "3                              8.0                                3   \n",
       "4                              8.0                                3   \n",
       "\n",
       "   Pressures Inch Max Midland Far West  Pressure InchAvg Midland Far West  \\\n",
       "0                                 27.3                               27.3   \n",
       "1                                 27.3                               27.3   \n",
       "2                                 27.3                               27.3   \n",
       "3                                 27.3                               27.3   \n",
       "4                                 27.3                               27.3   \n",
       "\n",
       "   Pressure Inch Min Midland Far West  Precipitation Total Midland Far West  \n",
       "0                                27.2                                   0.0  \n",
       "1                                27.2                                   0.0  \n",
       "2                                27.2                                   0.0  \n",
       "3                                27.2                                   0.0  \n",
       "4                                27.2                                   0.0  \n",
       "\n",
       "[5 rows x 139 columns]"
      ]
     },
     "execution_count": 1,
     "metadata": {},
     "output_type": "execute_result"
    }
   ],
   "source": [
    "# Cleaned DataSet Import, no longer need the cleaned above\n",
    "# Begin Script from here \n",
    "\n",
    "import pandas as pd\n",
    "\n",
    "# Replace 'your_file.csv' with the actual path to your CSV file\n",
    "file_path = 'C:/Users/19405/MSDS_QuantifyingTheWorld/Case Study Seven/clean_data.csv'\n",
    "\n",
    "# Read the CSV file into a DataFrame\n",
    "df = pd.read_csv(file_path)\n",
    "\n",
    "# Display the first few rows of the DataFrame\n",
    "df.head()"
   ]
  },
  {
   "cell_type": "code",
   "execution_count": 2,
   "id": "ab451ca9",
   "metadata": {},
   "outputs": [
    {
     "data": {
      "text/plain": [
       "(4420585, 139)"
      ]
     },
     "execution_count": 2,
     "metadata": {},
     "output_type": "execute_result"
    }
   ],
   "source": [
    "df.shape"
   ]
  },
  {
   "cell_type": "code",
   "execution_count": 3,
   "id": "9c58fed2",
   "metadata": {},
   "outputs": [
    {
     "data": {
      "text/html": [
       "<div>\n",
       "<style scoped>\n",
       "    .dataframe tbody tr th:only-of-type {\n",
       "        vertical-align: middle;\n",
       "    }\n",
       "\n",
       "    .dataframe tbody tr th {\n",
       "        vertical-align: top;\n",
       "    }\n",
       "\n",
       "    .dataframe thead th {\n",
       "        text-align: right;\n",
       "    }\n",
       "</style>\n",
       "<table border=\"1\" class=\"dataframe\">\n",
       "  <thead>\n",
       "    <tr style=\"text-align: right;\">\n",
       "      <th></th>\n",
       "      <th>Unnamed: 0</th>\n",
       "      <th>Demand</th>\n",
       "      <th>Daily MWH</th>\n",
       "      <th>Year</th>\n",
       "      <th>Month</th>\n",
       "      <th>Day</th>\n",
       "      <th>Temp Max Dallas North Central</th>\n",
       "      <th>Temp Avg Dallas North Central</th>\n",
       "      <th>TempMin Dallas North Central</th>\n",
       "      <th>Dew Point Max Dallas North Central</th>\n",
       "      <th>...</th>\n",
       "      <th>Humidity Percent Max Midland Far West</th>\n",
       "      <th>Humidity Percent Avg Midland Far West</th>\n",
       "      <th>Humidity Percent Min Midland Far West</th>\n",
       "      <th>Wind Speed Max Midland Far West</th>\n",
       "      <th>Wind Speed Avg Midland Far West</th>\n",
       "      <th>Wind Speed Min Midland Far West</th>\n",
       "      <th>Pressures Inch Max Midland Far West</th>\n",
       "      <th>Pressure InchAvg Midland Far West</th>\n",
       "      <th>Pressure Inch Min Midland Far West</th>\n",
       "      <th>Precipitation Total Midland Far West</th>\n",
       "    </tr>\n",
       "  </thead>\n",
       "  <tbody>\n",
       "    <tr>\n",
       "      <th>count</th>\n",
       "      <td>4.420585e+06</td>\n",
       "      <td>4.420585e+06</td>\n",
       "      <td>4.420585e+06</td>\n",
       "      <td>4.420585e+06</td>\n",
       "      <td>4.420585e+06</td>\n",
       "      <td>4.420585e+06</td>\n",
       "      <td>4.420585e+06</td>\n",
       "      <td>4.420585e+06</td>\n",
       "      <td>4.420585e+06</td>\n",
       "      <td>4.420585e+06</td>\n",
       "      <td>...</td>\n",
       "      <td>4.420585e+06</td>\n",
       "      <td>4.420585e+06</td>\n",
       "      <td>4.420585e+06</td>\n",
       "      <td>4.420585e+06</td>\n",
       "      <td>4.420585e+06</td>\n",
       "      <td>4.420585e+06</td>\n",
       "      <td>4.420585e+06</td>\n",
       "      <td>4.420585e+06</td>\n",
       "      <td>4.420585e+06</td>\n",
       "      <td>4.420585e+06</td>\n",
       "    </tr>\n",
       "    <tr>\n",
       "      <th>mean</th>\n",
       "      <td>2.211132e+06</td>\n",
       "      <td>1.186467e+03</td>\n",
       "      <td>1.139008e+05</td>\n",
       "      <td>2.015297e+03</td>\n",
       "      <td>6.525477e+00</td>\n",
       "      <td>1.573227e+01</td>\n",
       "      <td>7.744155e+01</td>\n",
       "      <td>6.783703e+01</td>\n",
       "      <td>5.882962e+01</td>\n",
       "      <td>5.742962e+01</td>\n",
       "      <td>...</td>\n",
       "      <td>7.591662e+01</td>\n",
       "      <td>5.174953e+01</td>\n",
       "      <td>2.810384e+01</td>\n",
       "      <td>1.966248e+01</td>\n",
       "      <td>1.094610e+01</td>\n",
       "      <td>3.091103e+00</td>\n",
       "      <td>2.711227e+01</td>\n",
       "      <td>2.700261e+01</td>\n",
       "      <td>2.679132e+01</td>\n",
       "      <td>2.417124e-02</td>\n",
       "    </tr>\n",
       "    <tr>\n",
       "      <th>std</th>\n",
       "      <td>1.276402e+06</td>\n",
       "      <td>1.524938e+03</td>\n",
       "      <td>1.400203e+05</td>\n",
       "      <td>4.481599e+00</td>\n",
       "      <td>3.450296e+00</td>\n",
       "      <td>8.801331e+00</td>\n",
       "      <td>1.640954e+01</td>\n",
       "      <td>1.608659e+01</td>\n",
       "      <td>1.667040e+01</td>\n",
       "      <td>1.504478e+01</td>\n",
       "      <td>...</td>\n",
       "      <td>1.685215e+01</td>\n",
       "      <td>1.756873e+01</td>\n",
       "      <td>1.676297e+01</td>\n",
       "      <td>6.358988e+00</td>\n",
       "      <td>3.771053e+00</td>\n",
       "      <td>3.407179e+00</td>\n",
       "      <td>1.627677e-01</td>\n",
       "      <td>4.145817e-01</td>\n",
       "      <td>1.971752e+00</td>\n",
       "      <td>1.468237e-01</td>\n",
       "    </tr>\n",
       "    <tr>\n",
       "      <th>min</th>\n",
       "      <td>0.000000e+00</td>\n",
       "      <td>-1.622543e+02</td>\n",
       "      <td>-2.997269e+03</td>\n",
       "      <td>2.007000e+03</td>\n",
       "      <td>1.000000e+00</td>\n",
       "      <td>1.000000e+00</td>\n",
       "      <td>1.400000e+01</td>\n",
       "      <td>9.500000e+00</td>\n",
       "      <td>0.000000e+00</td>\n",
       "      <td>1.000000e+00</td>\n",
       "      <td>...</td>\n",
       "      <td>1.000000e+01</td>\n",
       "      <td>5.700000e+00</td>\n",
       "      <td>0.000000e+00</td>\n",
       "      <td>6.000000e+00</td>\n",
       "      <td>1.400000e+00</td>\n",
       "      <td>0.000000e+00</td>\n",
       "      <td>2.640000e+01</td>\n",
       "      <td>1.620000e+01</td>\n",
       "      <td>0.000000e+00</td>\n",
       "      <td>0.000000e+00</td>\n",
       "    </tr>\n",
       "    <tr>\n",
       "      <th>25%</th>\n",
       "      <td>1.105993e+06</td>\n",
       "      <td>1.276958e+01</td>\n",
       "      <td>1.575271e+03</td>\n",
       "      <td>2.012000e+03</td>\n",
       "      <td>4.000000e+00</td>\n",
       "      <td>8.000000e+00</td>\n",
       "      <td>6.600000e+01</td>\n",
       "      <td>5.580000e+01</td>\n",
       "      <td>4.500000e+01</td>\n",
       "      <td>4.700000e+01</td>\n",
       "      <td>...</td>\n",
       "      <td>6.400000e+01</td>\n",
       "      <td>3.890000e+01</td>\n",
       "      <td>1.700000e+01</td>\n",
       "      <td>1.500000e+01</td>\n",
       "      <td>8.200000e+00</td>\n",
       "      <td>0.000000e+00</td>\n",
       "      <td>2.700000e+01</td>\n",
       "      <td>2.690000e+01</td>\n",
       "      <td>2.680000e+01</td>\n",
       "      <td>0.000000e+00</td>\n",
       "    </tr>\n",
       "    <tr>\n",
       "      <th>50%</th>\n",
       "      <td>2.211211e+06</td>\n",
       "      <td>5.058848e+02</td>\n",
       "      <td>5.594596e+04</td>\n",
       "      <td>2.016000e+03</td>\n",
       "      <td>7.000000e+00</td>\n",
       "      <td>1.600000e+01</td>\n",
       "      <td>7.900000e+01</td>\n",
       "      <td>6.980000e+01</td>\n",
       "      <td>6.100000e+01</td>\n",
       "      <td>6.200000e+01</td>\n",
       "      <td>...</td>\n",
       "      <td>7.800000e+01</td>\n",
       "      <td>4.980000e+01</td>\n",
       "      <td>2.500000e+01</td>\n",
       "      <td>1.800000e+01</td>\n",
       "      <td>1.050000e+01</td>\n",
       "      <td>3.000000e+00</td>\n",
       "      <td>2.710000e+01</td>\n",
       "      <td>2.700000e+01</td>\n",
       "      <td>2.690000e+01</td>\n",
       "      <td>0.000000e+00</td>\n",
       "    </tr>\n",
       "    <tr>\n",
       "      <th>75%</th>\n",
       "      <td>3.316501e+06</td>\n",
       "      <td>1.857767e+03</td>\n",
       "      <td>1.832773e+05</td>\n",
       "      <td>2.019000e+03</td>\n",
       "      <td>1.000000e+01</td>\n",
       "      <td>2.300000e+01</td>\n",
       "      <td>9.100000e+01</td>\n",
       "      <td>8.170000e+01</td>\n",
       "      <td>7.400000e+01</td>\n",
       "      <td>7.000000e+01</td>\n",
       "      <td>...</td>\n",
       "      <td>9.000000e+01</td>\n",
       "      <td>6.350000e+01</td>\n",
       "      <td>3.600000e+01</td>\n",
       "      <td>2.300000e+01</td>\n",
       "      <td>1.330000e+01</td>\n",
       "      <td>6.000000e+00</td>\n",
       "      <td>2.720000e+01</td>\n",
       "      <td>2.710000e+01</td>\n",
       "      <td>2.700000e+01</td>\n",
       "      <td>0.000000e+00</td>\n",
       "    </tr>\n",
       "    <tr>\n",
       "      <th>max</th>\n",
       "      <td>4.421759e+06</td>\n",
       "      <td>1.020525e+04</td>\n",
       "      <td>6.997708e+05</td>\n",
       "      <td>2.022000e+03</td>\n",
       "      <td>1.200000e+01</td>\n",
       "      <td>3.100000e+01</td>\n",
       "      <td>1.110000e+02</td>\n",
       "      <td>9.710000e+01</td>\n",
       "      <td>8.800000e+01</td>\n",
       "      <td>8.200000e+01</td>\n",
       "      <td>...</td>\n",
       "      <td>1.000000e+02</td>\n",
       "      <td>9.890000e+01</td>\n",
       "      <td>9.300000e+01</td>\n",
       "      <td>6.600000e+01</td>\n",
       "      <td>2.930000e+01</td>\n",
       "      <td>2.000000e+01</td>\n",
       "      <td>2.780000e+01</td>\n",
       "      <td>2.770000e+01</td>\n",
       "      <td>2.760000e+01</td>\n",
       "      <td>2.470000e+00</td>\n",
       "    </tr>\n",
       "  </tbody>\n",
       "</table>\n",
       "<p>8 rows × 134 columns</p>\n",
       "</div>"
      ],
      "text/plain": [
       "         Unnamed: 0        Demand     Daily MWH          Year         Month  \\\n",
       "count  4.420585e+06  4.420585e+06  4.420585e+06  4.420585e+06  4.420585e+06   \n",
       "mean   2.211132e+06  1.186467e+03  1.139008e+05  2.015297e+03  6.525477e+00   \n",
       "std    1.276402e+06  1.524938e+03  1.400203e+05  4.481599e+00  3.450296e+00   \n",
       "min    0.000000e+00 -1.622543e+02 -2.997269e+03  2.007000e+03  1.000000e+00   \n",
       "25%    1.105993e+06  1.276958e+01  1.575271e+03  2.012000e+03  4.000000e+00   \n",
       "50%    2.211211e+06  5.058848e+02  5.594596e+04  2.016000e+03  7.000000e+00   \n",
       "75%    3.316501e+06  1.857767e+03  1.832773e+05  2.019000e+03  1.000000e+01   \n",
       "max    4.421759e+06  1.020525e+04  6.997708e+05  2.022000e+03  1.200000e+01   \n",
       "\n",
       "                Day  Temp Max Dallas North Central  \\\n",
       "count  4.420585e+06                   4.420585e+06   \n",
       "mean   1.573227e+01                   7.744155e+01   \n",
       "std    8.801331e+00                   1.640954e+01   \n",
       "min    1.000000e+00                   1.400000e+01   \n",
       "25%    8.000000e+00                   6.600000e+01   \n",
       "50%    1.600000e+01                   7.900000e+01   \n",
       "75%    2.300000e+01                   9.100000e+01   \n",
       "max    3.100000e+01                   1.110000e+02   \n",
       "\n",
       "       Temp Avg Dallas North Central  TempMin Dallas North Central  \\\n",
       "count                   4.420585e+06                  4.420585e+06   \n",
       "mean                    6.783703e+01                  5.882962e+01   \n",
       "std                     1.608659e+01                  1.667040e+01   \n",
       "min                     9.500000e+00                  0.000000e+00   \n",
       "25%                     5.580000e+01                  4.500000e+01   \n",
       "50%                     6.980000e+01                  6.100000e+01   \n",
       "75%                     8.170000e+01                  7.400000e+01   \n",
       "max                     9.710000e+01                  8.800000e+01   \n",
       "\n",
       "       Dew Point Max Dallas North Central  ...  \\\n",
       "count                        4.420585e+06  ...   \n",
       "mean                         5.742962e+01  ...   \n",
       "std                          1.504478e+01  ...   \n",
       "min                          1.000000e+00  ...   \n",
       "25%                          4.700000e+01  ...   \n",
       "50%                          6.200000e+01  ...   \n",
       "75%                          7.000000e+01  ...   \n",
       "max                          8.200000e+01  ...   \n",
       "\n",
       "       Humidity Percent Max Midland Far West  \\\n",
       "count                           4.420585e+06   \n",
       "mean                            7.591662e+01   \n",
       "std                             1.685215e+01   \n",
       "min                             1.000000e+01   \n",
       "25%                             6.400000e+01   \n",
       "50%                             7.800000e+01   \n",
       "75%                             9.000000e+01   \n",
       "max                             1.000000e+02   \n",
       "\n",
       "       Humidity Percent Avg Midland Far West  \\\n",
       "count                           4.420585e+06   \n",
       "mean                            5.174953e+01   \n",
       "std                             1.756873e+01   \n",
       "min                             5.700000e+00   \n",
       "25%                             3.890000e+01   \n",
       "50%                             4.980000e+01   \n",
       "75%                             6.350000e+01   \n",
       "max                             9.890000e+01   \n",
       "\n",
       "       Humidity Percent Min Midland Far West  Wind Speed Max Midland Far West  \\\n",
       "count                           4.420585e+06                     4.420585e+06   \n",
       "mean                            2.810384e+01                     1.966248e+01   \n",
       "std                             1.676297e+01                     6.358988e+00   \n",
       "min                             0.000000e+00                     6.000000e+00   \n",
       "25%                             1.700000e+01                     1.500000e+01   \n",
       "50%                             2.500000e+01                     1.800000e+01   \n",
       "75%                             3.600000e+01                     2.300000e+01   \n",
       "max                             9.300000e+01                     6.600000e+01   \n",
       "\n",
       "       Wind Speed Avg Midland Far West  Wind Speed Min Midland Far West  \\\n",
       "count                     4.420585e+06                     4.420585e+06   \n",
       "mean                      1.094610e+01                     3.091103e+00   \n",
       "std                       3.771053e+00                     3.407179e+00   \n",
       "min                       1.400000e+00                     0.000000e+00   \n",
       "25%                       8.200000e+00                     0.000000e+00   \n",
       "50%                       1.050000e+01                     3.000000e+00   \n",
       "75%                       1.330000e+01                     6.000000e+00   \n",
       "max                       2.930000e+01                     2.000000e+01   \n",
       "\n",
       "       Pressures Inch Max Midland Far West  Pressure InchAvg Midland Far West  \\\n",
       "count                         4.420585e+06                       4.420585e+06   \n",
       "mean                          2.711227e+01                       2.700261e+01   \n",
       "std                           1.627677e-01                       4.145817e-01   \n",
       "min                           2.640000e+01                       1.620000e+01   \n",
       "25%                           2.700000e+01                       2.690000e+01   \n",
       "50%                           2.710000e+01                       2.700000e+01   \n",
       "75%                           2.720000e+01                       2.710000e+01   \n",
       "max                           2.780000e+01                       2.770000e+01   \n",
       "\n",
       "       Pressure Inch Min Midland Far West  \\\n",
       "count                        4.420585e+06   \n",
       "mean                         2.679132e+01   \n",
       "std                          1.971752e+00   \n",
       "min                          0.000000e+00   \n",
       "25%                          2.680000e+01   \n",
       "50%                          2.690000e+01   \n",
       "75%                          2.700000e+01   \n",
       "max                          2.760000e+01   \n",
       "\n",
       "       Precipitation Total Midland Far West  \n",
       "count                          4.420585e+06  \n",
       "mean                           2.417124e-02  \n",
       "std                            1.468237e-01  \n",
       "min                            0.000000e+00  \n",
       "25%                            0.000000e+00  \n",
       "50%                            0.000000e+00  \n",
       "75%                            0.000000e+00  \n",
       "max                            2.470000e+00  \n",
       "\n",
       "[8 rows x 134 columns]"
      ]
     },
     "execution_count": 3,
     "metadata": {},
     "output_type": "execute_result"
    }
   ],
   "source": [
    "df.describe()"
   ]
  },
  {
   "cell_type": "code",
   "execution_count": 4,
   "id": "41e0c772",
   "metadata": {},
   "outputs": [
    {
     "data": {
      "text/plain": [
       "Unnamed: 0                              0\n",
       "HashedIndex                             0\n",
       "Demand                                  0\n",
       "Fuel                                    0\n",
       "Date                                    0\n",
       "                                       ..\n",
       "Wind Speed Min Midland Far West         0\n",
       "Pressures Inch Max Midland Far West     0\n",
       "Pressure InchAvg Midland Far West       0\n",
       "Pressure Inch Min Midland Far West      0\n",
       "Precipitation Total Midland Far West    0\n",
       "Length: 139, dtype: int64"
      ]
     },
     "execution_count": 4,
     "metadata": {},
     "output_type": "execute_result"
    }
   ],
   "source": [
    "df.isnull().sum()"
   ]
  },
  {
   "cell_type": "code",
   "execution_count": 5,
   "id": "18aed61f",
   "metadata": {},
   "outputs": [
    {
     "data": {
      "text/html": [
       "<div>\n",
       "<style scoped>\n",
       "    .dataframe tbody tr th:only-of-type {\n",
       "        vertical-align: middle;\n",
       "    }\n",
       "\n",
       "    .dataframe tbody tr th {\n",
       "        vertical-align: top;\n",
       "    }\n",
       "\n",
       "    .dataframe thead th {\n",
       "        text-align: right;\n",
       "    }\n",
       "</style>\n",
       "<table border=\"1\" class=\"dataframe\">\n",
       "  <thead>\n",
       "    <tr style=\"text-align: right;\">\n",
       "      <th></th>\n",
       "      <th>Feature</th>\n",
       "      <th>Value</th>\n",
       "      <th>Percent</th>\n",
       "    </tr>\n",
       "  </thead>\n",
       "  <tbody>\n",
       "  </tbody>\n",
       "</table>\n",
       "</div>"
      ],
      "text/plain": [
       "Empty DataFrame\n",
       "Columns: [Feature, Value, Percent]\n",
       "Index: []"
      ]
     },
     "execution_count": 5,
     "metadata": {},
     "output_type": "execute_result"
    }
   ],
   "source": [
    "# Features with Null Values and Percent missing\n",
    "null_df = pd.DataFrame(df[df.columns[df.isnull().any()]].isnull().sum()).reset_index()\n",
    "null_df.columns = ['Feature', 'Value']\n",
    "null_df['Percent'] = round((null_df['Value'] / df.shape[0] * 100),2)\n",
    "\n",
    "null_df"
   ]
  },
  {
   "cell_type": "code",
   "execution_count": 6,
   "id": "a3128649",
   "metadata": {},
   "outputs": [
    {
     "data": {
      "text/plain": [
       "Unnamed: 0                                int64\n",
       "HashedIndex                              object\n",
       "Demand                                  float64\n",
       "Fuel                                     object\n",
       "Date                                     object\n",
       "                                         ...   \n",
       "Wind Speed Min Midland Far West           int64\n",
       "Pressures Inch Max Midland Far West     float64\n",
       "Pressure InchAvg Midland Far West       float64\n",
       "Pressure Inch Min Midland Far West      float64\n",
       "Precipitation Total Midland Far West    float64\n",
       "Length: 139, dtype: object"
      ]
     },
     "execution_count": 6,
     "metadata": {},
     "output_type": "execute_result"
    }
   ],
   "source": [
    "#See the dataframes datatypes\n",
    "df.dtypes"
   ]
  },
  {
   "cell_type": "markdown",
   "id": "a363433d",
   "metadata": {},
   "source": [
    "### Now lets see how the data prepares with an aggreate vs 15 min intervals"
   ]
  },
  {
   "cell_type": "code",
   "execution_count": 7,
   "id": "438540de",
   "metadata": {},
   "outputs": [],
   "source": [
    "# Drop unnecessary columns\n",
    "columns_to_drop = ['Time', 'Combined']\n",
    "df_cleaned = df.drop(columns=columns_to_drop)"
   ]
  },
  {
   "cell_type": "code",
   "execution_count": 8,
   "id": "7c371ec5",
   "metadata": {},
   "outputs": [],
   "source": [
    "# Identify numeric and categorical columns\n",
    "numeric_columns = df_cleaned.select_dtypes(include='number').columns.tolist()\n",
    "categorical_columns = df_cleaned.select_dtypes(include='category').columns.tolist()\n"
   ]
  },
  {
   "cell_type": "code",
   "execution_count": 21,
   "id": "33abc022",
   "metadata": {},
   "outputs": [],
   "source": [
    "# Custom aggregation function for numeric columns (sum)\n",
    "def custom_sum(series):\n",
    "    return series.sum()\n",
    "\n",
    "# Custom aggregation function for categorical columns (mode)\n",
    "def custom_mode(series):\n",
    "    return mode(series)[0][0] if not series.empty else None\n",
    "\n",
    "# Custom aggregation function for 'fuel' column (join unique values)\n",
    "def custom_fuel(series):\n",
    "    return ', '.join(series.unique())"
   ]
  },
  {
   "cell_type": "code",
   "execution_count": 24,
   "id": "5a0bdf0a",
   "metadata": {},
   "outputs": [],
   "source": [
    "# Define aggregation functions for each column type\n",
    "aggregation_dict = {\n",
    "    'Demand': custom_sum,\n",
    "    'Daily MWH': custom_sum,\n",
    "    'Fuel': custom_fuel,\n",
    "    **{col: custom_mode for col in categorical_columns},\n",
    "    **{col: 'first' for col in df_cleaned.columns if col not in ['Date', 'Demand', 'Daily MWH', 'Fuel'] + categorical_columns}\n",
    "}\n"
   ]
  },
  {
   "cell_type": "code",
   "execution_count": 25,
   "id": "dd578e6d",
   "metadata": {},
   "outputs": [],
   "source": [
    "# Aggregate the data\n",
    "aggregated_df = df_cleaned.groupby('Date').agg(aggregation_dict).reset_index()"
   ]
  },
  {
   "cell_type": "code",
   "execution_count": 26,
   "id": "0a045bca",
   "metadata": {},
   "outputs": [
    {
     "data": {
      "text/html": [
       "<div>\n",
       "<style scoped>\n",
       "    .dataframe tbody tr th:only-of-type {\n",
       "        vertical-align: middle;\n",
       "    }\n",
       "\n",
       "    .dataframe tbody tr th {\n",
       "        vertical-align: top;\n",
       "    }\n",
       "\n",
       "    .dataframe thead th {\n",
       "        text-align: right;\n",
       "    }\n",
       "</style>\n",
       "<table border=\"1\" class=\"dataframe\">\n",
       "  <thead>\n",
       "    <tr style=\"text-align: right;\">\n",
       "      <th></th>\n",
       "      <th>Date</th>\n",
       "      <th>Demand</th>\n",
       "      <th>Daily MWH</th>\n",
       "      <th>Fuel</th>\n",
       "      <th>Unnamed: 0</th>\n",
       "      <th>HashedIndex</th>\n",
       "      <th>Year</th>\n",
       "      <th>Month</th>\n",
       "      <th>Day</th>\n",
       "      <th>Temp Max Dallas North Central</th>\n",
       "      <th>...</th>\n",
       "      <th>Humidity Percent Max Midland Far West</th>\n",
       "      <th>Humidity Percent Avg Midland Far West</th>\n",
       "      <th>Humidity Percent Min Midland Far West</th>\n",
       "      <th>Wind Speed Max Midland Far West</th>\n",
       "      <th>Wind Speed Avg Midland Far West</th>\n",
       "      <th>Wind Speed Min Midland Far West</th>\n",
       "      <th>Pressures Inch Max Midland Far West</th>\n",
       "      <th>Pressure InchAvg Midland Far West</th>\n",
       "      <th>Pressure Inch Min Midland Far West</th>\n",
       "      <th>Precipitation Total Midland Far West</th>\n",
       "    </tr>\n",
       "  </thead>\n",
       "  <tbody>\n",
       "    <tr>\n",
       "      <th>0</th>\n",
       "      <td>2007-01-01</td>\n",
       "      <td>726502.098763</td>\n",
       "      <td>6.974420e+07</td>\n",
       "      <td>Coal, Gas, Hydro, Nuclear,  Oth, Wind</td>\n",
       "      <td>0</td>\n",
       "      <td>f30e839570c87617aa4df1fc6a0b4d2ba27811c5f225a5...</td>\n",
       "      <td>2007</td>\n",
       "      <td>1</td>\n",
       "      <td>1</td>\n",
       "      <td>52.0</td>\n",
       "      <td>...</td>\n",
       "      <td>88</td>\n",
       "      <td>65.0</td>\n",
       "      <td>41</td>\n",
       "      <td>13</td>\n",
       "      <td>8.0</td>\n",
       "      <td>3</td>\n",
       "      <td>27.3</td>\n",
       "      <td>27.3</td>\n",
       "      <td>27.2</td>\n",
       "      <td>0.0</td>\n",
       "    </tr>\n",
       "    <tr>\n",
       "      <th>1</th>\n",
       "      <td>2007-01-02</td>\n",
       "      <td>797196.361494</td>\n",
       "      <td>7.653085e+07</td>\n",
       "      <td>Coal, Gas, Hydro, Nuclear,  Oth, Wind</td>\n",
       "      <td>576</td>\n",
       "      <td>427d068246ec69111256a7517da8efec13a182aa4479d7...</td>\n",
       "      <td>2007</td>\n",
       "      <td>1</td>\n",
       "      <td>2</td>\n",
       "      <td>53.0</td>\n",
       "      <td>...</td>\n",
       "      <td>85</td>\n",
       "      <td>65.5</td>\n",
       "      <td>45</td>\n",
       "      <td>9</td>\n",
       "      <td>6.7</td>\n",
       "      <td>5</td>\n",
       "      <td>27.3</td>\n",
       "      <td>27.3</td>\n",
       "      <td>27.2</td>\n",
       "      <td>0.0</td>\n",
       "    </tr>\n",
       "    <tr>\n",
       "      <th>2</th>\n",
       "      <td>2007-01-03</td>\n",
       "      <td>790143.388141</td>\n",
       "      <td>7.585377e+07</td>\n",
       "      <td>Coal, Gas, Hydro, Nuclear,  Oth, Wind</td>\n",
       "      <td>1152</td>\n",
       "      <td>0500d35fc9c47cd09b87237ea02816b574ee65e409c0fb...</td>\n",
       "      <td>2007</td>\n",
       "      <td>1</td>\n",
       "      <td>3</td>\n",
       "      <td>53.0</td>\n",
       "      <td>...</td>\n",
       "      <td>100</td>\n",
       "      <td>85.7</td>\n",
       "      <td>70</td>\n",
       "      <td>20</td>\n",
       "      <td>7.2</td>\n",
       "      <td>0</td>\n",
       "      <td>27.2</td>\n",
       "      <td>27.1</td>\n",
       "      <td>27.0</td>\n",
       "      <td>0.0</td>\n",
       "    </tr>\n",
       "    <tr>\n",
       "      <th>3</th>\n",
       "      <td>2007-01-04</td>\n",
       "      <td>745700.549430</td>\n",
       "      <td>7.158725e+07</td>\n",
       "      <td>Coal, Gas, Hydro, Nuclear,  Oth, Wind</td>\n",
       "      <td>1728</td>\n",
       "      <td>2cd83b460d5a9ca4c603b88edf0ec3e7fabbded7af69c0...</td>\n",
       "      <td>2007</td>\n",
       "      <td>1</td>\n",
       "      <td>4</td>\n",
       "      <td>53.0</td>\n",
       "      <td>...</td>\n",
       "      <td>100</td>\n",
       "      <td>77.8</td>\n",
       "      <td>19</td>\n",
       "      <td>22</td>\n",
       "      <td>10.1</td>\n",
       "      <td>0</td>\n",
       "      <td>27.0</td>\n",
       "      <td>26.9</td>\n",
       "      <td>26.6</td>\n",
       "      <td>0.0</td>\n",
       "    </tr>\n",
       "    <tr>\n",
       "      <th>4</th>\n",
       "      <td>2007-01-05</td>\n",
       "      <td>704394.266187</td>\n",
       "      <td>6.762185e+07</td>\n",
       "      <td>Coal, Gas, Hydro, Nuclear,  Oth, Wind</td>\n",
       "      <td>2304</td>\n",
       "      <td>09d922e91db061cc35a1eacf4ba92db8e6ac5cc8046ebc...</td>\n",
       "      <td>2007</td>\n",
       "      <td>1</td>\n",
       "      <td>5</td>\n",
       "      <td>61.0</td>\n",
       "      <td>...</td>\n",
       "      <td>79</td>\n",
       "      <td>46.6</td>\n",
       "      <td>17</td>\n",
       "      <td>28</td>\n",
       "      <td>12.9</td>\n",
       "      <td>0</td>\n",
       "      <td>26.9</td>\n",
       "      <td>26.8</td>\n",
       "      <td>26.7</td>\n",
       "      <td>0.0</td>\n",
       "    </tr>\n",
       "  </tbody>\n",
       "</table>\n",
       "<p>5 rows × 137 columns</p>\n",
       "</div>"
      ],
      "text/plain": [
       "         Date         Demand     Daily MWH  \\\n",
       "0  2007-01-01  726502.098763  6.974420e+07   \n",
       "1  2007-01-02  797196.361494  7.653085e+07   \n",
       "2  2007-01-03  790143.388141  7.585377e+07   \n",
       "3  2007-01-04  745700.549430  7.158725e+07   \n",
       "4  2007-01-05  704394.266187  6.762185e+07   \n",
       "\n",
       "                                    Fuel  Unnamed: 0  \\\n",
       "0  Coal, Gas, Hydro, Nuclear,  Oth, Wind           0   \n",
       "1  Coal, Gas, Hydro, Nuclear,  Oth, Wind         576   \n",
       "2  Coal, Gas, Hydro, Nuclear,  Oth, Wind        1152   \n",
       "3  Coal, Gas, Hydro, Nuclear,  Oth, Wind        1728   \n",
       "4  Coal, Gas, Hydro, Nuclear,  Oth, Wind        2304   \n",
       "\n",
       "                                         HashedIndex  Year  Month  Day  \\\n",
       "0  f30e839570c87617aa4df1fc6a0b4d2ba27811c5f225a5...  2007      1    1   \n",
       "1  427d068246ec69111256a7517da8efec13a182aa4479d7...  2007      1    2   \n",
       "2  0500d35fc9c47cd09b87237ea02816b574ee65e409c0fb...  2007      1    3   \n",
       "3  2cd83b460d5a9ca4c603b88edf0ec3e7fabbded7af69c0...  2007      1    4   \n",
       "4  09d922e91db061cc35a1eacf4ba92db8e6ac5cc8046ebc...  2007      1    5   \n",
       "\n",
       "   Temp Max Dallas North Central  ...  Humidity Percent Max Midland Far West  \\\n",
       "0                           52.0  ...                                     88   \n",
       "1                           53.0  ...                                     85   \n",
       "2                           53.0  ...                                    100   \n",
       "3                           53.0  ...                                    100   \n",
       "4                           61.0  ...                                     79   \n",
       "\n",
       "   Humidity Percent Avg Midland Far West  \\\n",
       "0                                   65.0   \n",
       "1                                   65.5   \n",
       "2                                   85.7   \n",
       "3                                   77.8   \n",
       "4                                   46.6   \n",
       "\n",
       "   Humidity Percent Min Midland Far West  Wind Speed Max Midland Far West  \\\n",
       "0                                     41                               13   \n",
       "1                                     45                                9   \n",
       "2                                     70                               20   \n",
       "3                                     19                               22   \n",
       "4                                     17                               28   \n",
       "\n",
       "   Wind Speed Avg Midland Far West  Wind Speed Min Midland Far West  \\\n",
       "0                              8.0                                3   \n",
       "1                              6.7                                5   \n",
       "2                              7.2                                0   \n",
       "3                             10.1                                0   \n",
       "4                             12.9                                0   \n",
       "\n",
       "   Pressures Inch Max Midland Far West  Pressure InchAvg Midland Far West  \\\n",
       "0                                 27.3                               27.3   \n",
       "1                                 27.3                               27.3   \n",
       "2                                 27.2                               27.1   \n",
       "3                                 27.0                               26.9   \n",
       "4                                 26.9                               26.8   \n",
       "\n",
       "   Pressure Inch Min Midland Far West  Precipitation Total Midland Far West  \n",
       "0                                27.2                                   0.0  \n",
       "1                                27.2                                   0.0  \n",
       "2                                27.0                                   0.0  \n",
       "3                                26.6                                   0.0  \n",
       "4                                26.7                                   0.0  \n",
       "\n",
       "[5 rows x 137 columns]"
      ]
     },
     "execution_count": 26,
     "metadata": {},
     "output_type": "execute_result"
    }
   ],
   "source": [
    "# Display the cleaned and aggregated DataFrame\n",
    "aggregated_df.head()"
   ]
  },
  {
   "cell_type": "code",
   "execution_count": 27,
   "id": "cd931b54",
   "metadata": {},
   "outputs": [
    {
     "data": {
      "text/plain": [
       "(5479, 137)"
      ]
     },
     "execution_count": 27,
     "metadata": {},
     "output_type": "execute_result"
    }
   ],
   "source": [
    "aggregated_df.shape"
   ]
  },
  {
   "cell_type": "code",
   "execution_count": 48,
   "id": "34faed71",
   "metadata": {},
   "outputs": [],
   "source": [
    "# Output the file to a csv for ingestion if this doesn't work\n",
    "output_path = 'C:/Users/19405/MSDS_QuantifyingTheWorld/Case Study Seven/aggregated_data.csv'\n",
    "aggregated_df.to_csv(output_path, index=False)"
   ]
  },
  {
   "cell_type": "markdown",
   "id": "b8e62fa5",
   "metadata": {},
   "source": [
    "### We've handled all the dupes, lets go into correlations now"
   ]
  },
  {
   "cell_type": "code",
   "execution_count": 14,
   "id": "b4d8b6e4",
   "metadata": {},
   "outputs": [],
   "source": [
    "# List of columns to convert to float\n",
    "#columns_to_convert = ['Temp Max', 'Temp Avg',\n",
    "#       'TempMin', 'Dew Point Max', 'Dew Point Avg', 'Dew Point Min',\n",
    "#       'Humidity Percent Max', 'Humidity Percent Avg', 'Humidity Percent Min',\n",
    "#       'Wind Speed Max', 'Wind Speed Avg', 'Wind Speed Min',\n",
    "#       'Pressures Inch Max', 'Pressure InchAvg', 'Pressure Inch Min',\n",
    "#       'Precipitation Total']\n",
    "\n",
    "# Convert the specified columns to float\n",
    "#merged_df[columns_to_convert] = merged_df[columns_to_convert].astype(float)"
   ]
  },
  {
   "cell_type": "markdown",
   "id": "70506cb4",
   "metadata": {},
   "source": [
    "### Examine any Correlations "
   ]
  },
  {
   "cell_type": "code",
   "execution_count": 28,
   "id": "2eab81e3",
   "metadata": {},
   "outputs": [],
   "source": [
    "import numpy as np\n",
    "import seaborn as sns\n",
    "import matplotlib.pyplot as plt\n",
    "import matplotlib.ticker as mtick\n"
   ]
  },
  {
   "cell_type": "code",
   "execution_count": 29,
   "id": "9b63c8b2",
   "metadata": {},
   "outputs": [],
   "source": [
    "correlation_matrix = aggregated_df.corr()"
   ]
  },
  {
   "cell_type": "code",
   "execution_count": 30,
   "id": "c0297480",
   "metadata": {},
   "outputs": [
    {
     "data": {
      "text/html": [
       "<div>\n",
       "<style scoped>\n",
       "    .dataframe tbody tr th:only-of-type {\n",
       "        vertical-align: middle;\n",
       "    }\n",
       "\n",
       "    .dataframe tbody tr th {\n",
       "        vertical-align: top;\n",
       "    }\n",
       "\n",
       "    .dataframe thead th {\n",
       "        text-align: right;\n",
       "    }\n",
       "</style>\n",
       "<table border=\"1\" class=\"dataframe\">\n",
       "  <thead>\n",
       "    <tr style=\"text-align: right;\">\n",
       "      <th></th>\n",
       "      <th>Demand</th>\n",
       "      <th>Daily MWH</th>\n",
       "      <th>Unnamed: 0</th>\n",
       "      <th>Year</th>\n",
       "      <th>Month</th>\n",
       "      <th>Day</th>\n",
       "      <th>Temp Max Dallas North Central</th>\n",
       "      <th>Temp Avg Dallas North Central</th>\n",
       "      <th>TempMin Dallas North Central</th>\n",
       "      <th>Dew Point Max Dallas North Central</th>\n",
       "      <th>...</th>\n",
       "      <th>Humidity Percent Max Midland Far West</th>\n",
       "      <th>Humidity Percent Avg Midland Far West</th>\n",
       "      <th>Humidity Percent Min Midland Far West</th>\n",
       "      <th>Wind Speed Max Midland Far West</th>\n",
       "      <th>Wind Speed Avg Midland Far West</th>\n",
       "      <th>Wind Speed Min Midland Far West</th>\n",
       "      <th>Pressures Inch Max Midland Far West</th>\n",
       "      <th>Pressure InchAvg Midland Far West</th>\n",
       "      <th>Pressure Inch Min Midland Far West</th>\n",
       "      <th>Precipitation Total Midland Far West</th>\n",
       "    </tr>\n",
       "  </thead>\n",
       "  <tbody>\n",
       "    <tr>\n",
       "      <th>Demand</th>\n",
       "      <td>1.000000</td>\n",
       "      <td>0.999941</td>\n",
       "      <td>0.513017</td>\n",
       "      <td>0.499505</td>\n",
       "      <td>0.130624</td>\n",
       "      <td>-0.011284</td>\n",
       "      <td>0.497335</td>\n",
       "      <td>0.529953</td>\n",
       "      <td>0.533008</td>\n",
       "      <td>0.422398</td>\n",
       "      <td>...</td>\n",
       "      <td>-0.070401</td>\n",
       "      <td>-0.033256</td>\n",
       "      <td>0.031467</td>\n",
       "      <td>0.015111</td>\n",
       "      <td>0.049515</td>\n",
       "      <td>0.077061</td>\n",
       "      <td>-0.068356</td>\n",
       "      <td>0.022161</td>\n",
       "      <td>0.020816</td>\n",
       "      <td>0.062855</td>\n",
       "    </tr>\n",
       "    <tr>\n",
       "      <th>Daily MWH</th>\n",
       "      <td>0.999941</td>\n",
       "      <td>1.000000</td>\n",
       "      <td>0.512969</td>\n",
       "      <td>0.499411</td>\n",
       "      <td>0.131353</td>\n",
       "      <td>-0.011612</td>\n",
       "      <td>0.497491</td>\n",
       "      <td>0.530028</td>\n",
       "      <td>0.533005</td>\n",
       "      <td>0.422480</td>\n",
       "      <td>...</td>\n",
       "      <td>-0.070044</td>\n",
       "      <td>-0.033034</td>\n",
       "      <td>0.031507</td>\n",
       "      <td>0.014947</td>\n",
       "      <td>0.049386</td>\n",
       "      <td>0.077016</td>\n",
       "      <td>-0.068285</td>\n",
       "      <td>0.022271</td>\n",
       "      <td>0.020897</td>\n",
       "      <td>0.062982</td>\n",
       "    </tr>\n",
       "    <tr>\n",
       "      <th>Unnamed: 0</th>\n",
       "      <td>0.513017</td>\n",
       "      <td>0.512969</td>\n",
       "      <td>1.000000</td>\n",
       "      <td>0.993155</td>\n",
       "      <td>0.064863</td>\n",
       "      <td>0.005891</td>\n",
       "      <td>0.033369</td>\n",
       "      <td>0.037859</td>\n",
       "      <td>0.028887</td>\n",
       "      <td>0.033670</td>\n",
       "      <td>...</td>\n",
       "      <td>-0.066158</td>\n",
       "      <td>-0.041133</td>\n",
       "      <td>-0.007035</td>\n",
       "      <td>0.022839</td>\n",
       "      <td>0.069260</td>\n",
       "      <td>0.063894</td>\n",
       "      <td>0.160038</td>\n",
       "      <td>0.120148</td>\n",
       "      <td>0.060314</td>\n",
       "      <td>0.100188</td>\n",
       "    </tr>\n",
       "    <tr>\n",
       "      <th>Year</th>\n",
       "      <td>0.499505</td>\n",
       "      <td>0.499411</td>\n",
       "      <td>0.993155</td>\n",
       "      <td>1.000000</td>\n",
       "      <td>0.000150</td>\n",
       "      <td>-0.000173</td>\n",
       "      <td>0.024186</td>\n",
       "      <td>0.027821</td>\n",
       "      <td>0.018789</td>\n",
       "      <td>0.022137</td>\n",
       "      <td>...</td>\n",
       "      <td>-0.078010</td>\n",
       "      <td>-0.051910</td>\n",
       "      <td>-0.015747</td>\n",
       "      <td>0.038063</td>\n",
       "      <td>0.087031</td>\n",
       "      <td>0.074871</td>\n",
       "      <td>0.158951</td>\n",
       "      <td>0.121639</td>\n",
       "      <td>0.062364</td>\n",
       "      <td>0.101422</td>\n",
       "    </tr>\n",
       "    <tr>\n",
       "      <th>Month</th>\n",
       "      <td>0.130624</td>\n",
       "      <td>0.131353</td>\n",
       "      <td>0.064863</td>\n",
       "      <td>0.000150</td>\n",
       "      <td>1.000000</td>\n",
       "      <td>0.010431</td>\n",
       "      <td>0.187781</td>\n",
       "      <td>0.194071</td>\n",
       "      <td>0.190638</td>\n",
       "      <td>0.186838</td>\n",
       "      <td>...</td>\n",
       "      <td>0.101322</td>\n",
       "      <td>0.119263</td>\n",
       "      <td>0.123973</td>\n",
       "      <td>-0.158649</td>\n",
       "      <td>-0.174484</td>\n",
       "      <td>-0.083045</td>\n",
       "      <td>0.035675</td>\n",
       "      <td>0.018754</td>\n",
       "      <td>0.007302</td>\n",
       "      <td>0.018002</td>\n",
       "    </tr>\n",
       "    <tr>\n",
       "      <th>...</th>\n",
       "      <td>...</td>\n",
       "      <td>...</td>\n",
       "      <td>...</td>\n",
       "      <td>...</td>\n",
       "      <td>...</td>\n",
       "      <td>...</td>\n",
       "      <td>...</td>\n",
       "      <td>...</td>\n",
       "      <td>...</td>\n",
       "      <td>...</td>\n",
       "      <td>...</td>\n",
       "      <td>...</td>\n",
       "      <td>...</td>\n",
       "      <td>...</td>\n",
       "      <td>...</td>\n",
       "      <td>...</td>\n",
       "      <td>...</td>\n",
       "      <td>...</td>\n",
       "      <td>...</td>\n",
       "      <td>...</td>\n",
       "      <td>...</td>\n",
       "    </tr>\n",
       "    <tr>\n",
       "      <th>Wind Speed Min Midland Far West</th>\n",
       "      <td>0.077061</td>\n",
       "      <td>0.077016</td>\n",
       "      <td>0.063894</td>\n",
       "      <td>0.074871</td>\n",
       "      <td>-0.083045</td>\n",
       "      <td>-0.022781</td>\n",
       "      <td>0.106899</td>\n",
       "      <td>0.124929</td>\n",
       "      <td>0.129193</td>\n",
       "      <td>0.129899</td>\n",
       "      <td>...</td>\n",
       "      <td>-0.116014</td>\n",
       "      <td>-0.048034</td>\n",
       "      <td>0.026069</td>\n",
       "      <td>0.370522</td>\n",
       "      <td>0.688192</td>\n",
       "      <td>1.000000</td>\n",
       "      <td>-0.199312</td>\n",
       "      <td>-0.069684</td>\n",
       "      <td>-0.006577</td>\n",
       "      <td>-0.039019</td>\n",
       "    </tr>\n",
       "    <tr>\n",
       "      <th>Pressures Inch Max Midland Far West</th>\n",
       "      <td>-0.068356</td>\n",
       "      <td>-0.068285</td>\n",
       "      <td>0.160038</td>\n",
       "      <td>0.158951</td>\n",
       "      <td>0.035675</td>\n",
       "      <td>-0.032720</td>\n",
       "      <td>-0.489983</td>\n",
       "      <td>-0.502359</td>\n",
       "      <td>-0.494062</td>\n",
       "      <td>-0.550165</td>\n",
       "      <td>...</td>\n",
       "      <td>0.091497</td>\n",
       "      <td>0.199705</td>\n",
       "      <td>0.263340</td>\n",
       "      <td>-0.260507</td>\n",
       "      <td>-0.271443</td>\n",
       "      <td>-0.199312</td>\n",
       "      <td>1.000000</td>\n",
       "      <td>0.369714</td>\n",
       "      <td>0.085120</td>\n",
       "      <td>0.017074</td>\n",
       "    </tr>\n",
       "    <tr>\n",
       "      <th>Pressure InchAvg Midland Far West</th>\n",
       "      <td>0.022161</td>\n",
       "      <td>0.022271</td>\n",
       "      <td>0.120148</td>\n",
       "      <td>0.121639</td>\n",
       "      <td>0.018754</td>\n",
       "      <td>-0.012469</td>\n",
       "      <td>-0.165553</td>\n",
       "      <td>-0.165302</td>\n",
       "      <td>-0.157023</td>\n",
       "      <td>-0.199603</td>\n",
       "      <td>...</td>\n",
       "      <td>0.027140</td>\n",
       "      <td>0.086289</td>\n",
       "      <td>0.126924</td>\n",
       "      <td>-0.123986</td>\n",
       "      <td>-0.122371</td>\n",
       "      <td>-0.069684</td>\n",
       "      <td>0.369714</td>\n",
       "      <td>1.000000</td>\n",
       "      <td>0.789856</td>\n",
       "      <td>0.021260</td>\n",
       "    </tr>\n",
       "    <tr>\n",
       "      <th>Pressure Inch Min Midland Far West</th>\n",
       "      <td>0.020816</td>\n",
       "      <td>0.020897</td>\n",
       "      <td>0.060314</td>\n",
       "      <td>0.062364</td>\n",
       "      <td>0.007302</td>\n",
       "      <td>-0.006141</td>\n",
       "      <td>-0.028833</td>\n",
       "      <td>-0.027331</td>\n",
       "      <td>-0.025001</td>\n",
       "      <td>-0.036802</td>\n",
       "      <td>...</td>\n",
       "      <td>-0.000516</td>\n",
       "      <td>0.021760</td>\n",
       "      <td>0.049134</td>\n",
       "      <td>-0.023947</td>\n",
       "      <td>-0.021931</td>\n",
       "      <td>-0.006577</td>\n",
       "      <td>0.085120</td>\n",
       "      <td>0.789856</td>\n",
       "      <td>1.000000</td>\n",
       "      <td>-0.000553</td>\n",
       "    </tr>\n",
       "    <tr>\n",
       "      <th>Precipitation Total Midland Far West</th>\n",
       "      <td>0.062855</td>\n",
       "      <td>0.062982</td>\n",
       "      <td>0.100188</td>\n",
       "      <td>0.101422</td>\n",
       "      <td>0.018002</td>\n",
       "      <td>0.004415</td>\n",
       "      <td>0.024555</td>\n",
       "      <td>0.039402</td>\n",
       "      <td>0.063256</td>\n",
       "      <td>0.083974</td>\n",
       "      <td>...</td>\n",
       "      <td>0.157108</td>\n",
       "      <td>0.208052</td>\n",
       "      <td>0.199749</td>\n",
       "      <td>0.031704</td>\n",
       "      <td>-0.009648</td>\n",
       "      <td>-0.039019</td>\n",
       "      <td>0.017074</td>\n",
       "      <td>0.021260</td>\n",
       "      <td>-0.000553</td>\n",
       "      <td>1.000000</td>\n",
       "    </tr>\n",
       "  </tbody>\n",
       "</table>\n",
       "<p>134 rows × 134 columns</p>\n",
       "</div>"
      ],
      "text/plain": [
       "                                        Demand  Daily MWH  Unnamed: 0  \\\n",
       "Demand                                1.000000   0.999941    0.513017   \n",
       "Daily MWH                             0.999941   1.000000    0.512969   \n",
       "Unnamed: 0                            0.513017   0.512969    1.000000   \n",
       "Year                                  0.499505   0.499411    0.993155   \n",
       "Month                                 0.130624   0.131353    0.064863   \n",
       "...                                        ...        ...         ...   \n",
       "Wind Speed Min Midland Far West       0.077061   0.077016    0.063894   \n",
       "Pressures Inch Max Midland Far West  -0.068356  -0.068285    0.160038   \n",
       "Pressure InchAvg Midland Far West     0.022161   0.022271    0.120148   \n",
       "Pressure Inch Min Midland Far West    0.020816   0.020897    0.060314   \n",
       "Precipitation Total Midland Far West  0.062855   0.062982    0.100188   \n",
       "\n",
       "                                          Year     Month       Day  \\\n",
       "Demand                                0.499505  0.130624 -0.011284   \n",
       "Daily MWH                             0.499411  0.131353 -0.011612   \n",
       "Unnamed: 0                            0.993155  0.064863  0.005891   \n",
       "Year                                  1.000000  0.000150 -0.000173   \n",
       "Month                                 0.000150  1.000000  0.010431   \n",
       "...                                        ...       ...       ...   \n",
       "Wind Speed Min Midland Far West       0.074871 -0.083045 -0.022781   \n",
       "Pressures Inch Max Midland Far West   0.158951  0.035675 -0.032720   \n",
       "Pressure InchAvg Midland Far West     0.121639  0.018754 -0.012469   \n",
       "Pressure Inch Min Midland Far West    0.062364  0.007302 -0.006141   \n",
       "Precipitation Total Midland Far West  0.101422  0.018002  0.004415   \n",
       "\n",
       "                                      Temp Max Dallas North Central  \\\n",
       "Demand                                                     0.497335   \n",
       "Daily MWH                                                  0.497491   \n",
       "Unnamed: 0                                                 0.033369   \n",
       "Year                                                       0.024186   \n",
       "Month                                                      0.187781   \n",
       "...                                                             ...   \n",
       "Wind Speed Min Midland Far West                            0.106899   \n",
       "Pressures Inch Max Midland Far West                       -0.489983   \n",
       "Pressure InchAvg Midland Far West                         -0.165553   \n",
       "Pressure Inch Min Midland Far West                        -0.028833   \n",
       "Precipitation Total Midland Far West                       0.024555   \n",
       "\n",
       "                                      Temp Avg Dallas North Central  \\\n",
       "Demand                                                     0.529953   \n",
       "Daily MWH                                                  0.530028   \n",
       "Unnamed: 0                                                 0.037859   \n",
       "Year                                                       0.027821   \n",
       "Month                                                      0.194071   \n",
       "...                                                             ...   \n",
       "Wind Speed Min Midland Far West                            0.124929   \n",
       "Pressures Inch Max Midland Far West                       -0.502359   \n",
       "Pressure InchAvg Midland Far West                         -0.165302   \n",
       "Pressure Inch Min Midland Far West                        -0.027331   \n",
       "Precipitation Total Midland Far West                       0.039402   \n",
       "\n",
       "                                      TempMin Dallas North Central  \\\n",
       "Demand                                                    0.533008   \n",
       "Daily MWH                                                 0.533005   \n",
       "Unnamed: 0                                                0.028887   \n",
       "Year                                                      0.018789   \n",
       "Month                                                     0.190638   \n",
       "...                                                            ...   \n",
       "Wind Speed Min Midland Far West                           0.129193   \n",
       "Pressures Inch Max Midland Far West                      -0.494062   \n",
       "Pressure InchAvg Midland Far West                        -0.157023   \n",
       "Pressure Inch Min Midland Far West                       -0.025001   \n",
       "Precipitation Total Midland Far West                      0.063256   \n",
       "\n",
       "                                      Dew Point Max Dallas North Central  ...  \\\n",
       "Demand                                                          0.422398  ...   \n",
       "Daily MWH                                                       0.422480  ...   \n",
       "Unnamed: 0                                                      0.033670  ...   \n",
       "Year                                                            0.022137  ...   \n",
       "Month                                                           0.186838  ...   \n",
       "...                                                                  ...  ...   \n",
       "Wind Speed Min Midland Far West                                 0.129899  ...   \n",
       "Pressures Inch Max Midland Far West                            -0.550165  ...   \n",
       "Pressure InchAvg Midland Far West                              -0.199603  ...   \n",
       "Pressure Inch Min Midland Far West                             -0.036802  ...   \n",
       "Precipitation Total Midland Far West                            0.083974  ...   \n",
       "\n",
       "                                      Humidity Percent Max Midland Far West  \\\n",
       "Demand                                                            -0.070401   \n",
       "Daily MWH                                                         -0.070044   \n",
       "Unnamed: 0                                                        -0.066158   \n",
       "Year                                                              -0.078010   \n",
       "Month                                                              0.101322   \n",
       "...                                                                     ...   \n",
       "Wind Speed Min Midland Far West                                   -0.116014   \n",
       "Pressures Inch Max Midland Far West                                0.091497   \n",
       "Pressure InchAvg Midland Far West                                  0.027140   \n",
       "Pressure Inch Min Midland Far West                                -0.000516   \n",
       "Precipitation Total Midland Far West                               0.157108   \n",
       "\n",
       "                                      Humidity Percent Avg Midland Far West  \\\n",
       "Demand                                                            -0.033256   \n",
       "Daily MWH                                                         -0.033034   \n",
       "Unnamed: 0                                                        -0.041133   \n",
       "Year                                                              -0.051910   \n",
       "Month                                                              0.119263   \n",
       "...                                                                     ...   \n",
       "Wind Speed Min Midland Far West                                   -0.048034   \n",
       "Pressures Inch Max Midland Far West                                0.199705   \n",
       "Pressure InchAvg Midland Far West                                  0.086289   \n",
       "Pressure Inch Min Midland Far West                                 0.021760   \n",
       "Precipitation Total Midland Far West                               0.208052   \n",
       "\n",
       "                                      Humidity Percent Min Midland Far West  \\\n",
       "Demand                                                             0.031467   \n",
       "Daily MWH                                                          0.031507   \n",
       "Unnamed: 0                                                        -0.007035   \n",
       "Year                                                              -0.015747   \n",
       "Month                                                              0.123973   \n",
       "...                                                                     ...   \n",
       "Wind Speed Min Midland Far West                                    0.026069   \n",
       "Pressures Inch Max Midland Far West                                0.263340   \n",
       "Pressure InchAvg Midland Far West                                  0.126924   \n",
       "Pressure Inch Min Midland Far West                                 0.049134   \n",
       "Precipitation Total Midland Far West                               0.199749   \n",
       "\n",
       "                                      Wind Speed Max Midland Far West  \\\n",
       "Demand                                                       0.015111   \n",
       "Daily MWH                                                    0.014947   \n",
       "Unnamed: 0                                                   0.022839   \n",
       "Year                                                         0.038063   \n",
       "Month                                                       -0.158649   \n",
       "...                                                               ...   \n",
       "Wind Speed Min Midland Far West                              0.370522   \n",
       "Pressures Inch Max Midland Far West                         -0.260507   \n",
       "Pressure InchAvg Midland Far West                           -0.123986   \n",
       "Pressure Inch Min Midland Far West                          -0.023947   \n",
       "Precipitation Total Midland Far West                         0.031704   \n",
       "\n",
       "                                      Wind Speed Avg Midland Far West  \\\n",
       "Demand                                                       0.049515   \n",
       "Daily MWH                                                    0.049386   \n",
       "Unnamed: 0                                                   0.069260   \n",
       "Year                                                         0.087031   \n",
       "Month                                                       -0.174484   \n",
       "...                                                               ...   \n",
       "Wind Speed Min Midland Far West                              0.688192   \n",
       "Pressures Inch Max Midland Far West                         -0.271443   \n",
       "Pressure InchAvg Midland Far West                           -0.122371   \n",
       "Pressure Inch Min Midland Far West                          -0.021931   \n",
       "Precipitation Total Midland Far West                        -0.009648   \n",
       "\n",
       "                                      Wind Speed Min Midland Far West  \\\n",
       "Demand                                                       0.077061   \n",
       "Daily MWH                                                    0.077016   \n",
       "Unnamed: 0                                                   0.063894   \n",
       "Year                                                         0.074871   \n",
       "Month                                                       -0.083045   \n",
       "...                                                               ...   \n",
       "Wind Speed Min Midland Far West                              1.000000   \n",
       "Pressures Inch Max Midland Far West                         -0.199312   \n",
       "Pressure InchAvg Midland Far West                           -0.069684   \n",
       "Pressure Inch Min Midland Far West                          -0.006577   \n",
       "Precipitation Total Midland Far West                        -0.039019   \n",
       "\n",
       "                                      Pressures Inch Max Midland Far West  \\\n",
       "Demand                                                          -0.068356   \n",
       "Daily MWH                                                       -0.068285   \n",
       "Unnamed: 0                                                       0.160038   \n",
       "Year                                                             0.158951   \n",
       "Month                                                            0.035675   \n",
       "...                                                                   ...   \n",
       "Wind Speed Min Midland Far West                                 -0.199312   \n",
       "Pressures Inch Max Midland Far West                              1.000000   \n",
       "Pressure InchAvg Midland Far West                                0.369714   \n",
       "Pressure Inch Min Midland Far West                               0.085120   \n",
       "Precipitation Total Midland Far West                             0.017074   \n",
       "\n",
       "                                      Pressure InchAvg Midland Far West  \\\n",
       "Demand                                                         0.022161   \n",
       "Daily MWH                                                      0.022271   \n",
       "Unnamed: 0                                                     0.120148   \n",
       "Year                                                           0.121639   \n",
       "Month                                                          0.018754   \n",
       "...                                                                 ...   \n",
       "Wind Speed Min Midland Far West                               -0.069684   \n",
       "Pressures Inch Max Midland Far West                            0.369714   \n",
       "Pressure InchAvg Midland Far West                              1.000000   \n",
       "Pressure Inch Min Midland Far West                             0.789856   \n",
       "Precipitation Total Midland Far West                           0.021260   \n",
       "\n",
       "                                      Pressure Inch Min Midland Far West  \\\n",
       "Demand                                                          0.020816   \n",
       "Daily MWH                                                       0.020897   \n",
       "Unnamed: 0                                                      0.060314   \n",
       "Year                                                            0.062364   \n",
       "Month                                                           0.007302   \n",
       "...                                                                  ...   \n",
       "Wind Speed Min Midland Far West                                -0.006577   \n",
       "Pressures Inch Max Midland Far West                             0.085120   \n",
       "Pressure InchAvg Midland Far West                               0.789856   \n",
       "Pressure Inch Min Midland Far West                              1.000000   \n",
       "Precipitation Total Midland Far West                           -0.000553   \n",
       "\n",
       "                                      Precipitation Total Midland Far West  \n",
       "Demand                                                            0.062855  \n",
       "Daily MWH                                                         0.062982  \n",
       "Unnamed: 0                                                        0.100188  \n",
       "Year                                                              0.101422  \n",
       "Month                                                             0.018002  \n",
       "...                                                                    ...  \n",
       "Wind Speed Min Midland Far West                                  -0.039019  \n",
       "Pressures Inch Max Midland Far West                               0.017074  \n",
       "Pressure InchAvg Midland Far West                                 0.021260  \n",
       "Pressure Inch Min Midland Far West                               -0.000553  \n",
       "Precipitation Total Midland Far West                              1.000000  \n",
       "\n",
       "[134 rows x 134 columns]"
      ]
     },
     "execution_count": 30,
     "metadata": {},
     "output_type": "execute_result"
    }
   ],
   "source": [
    "correlation_matrix"
   ]
  },
  {
   "cell_type": "code",
   "execution_count": 31,
   "id": "93f2642d",
   "metadata": {
    "scrolled": false
   },
   "outputs": [
    {
     "data": {
      "image/png": "[encoded data removed]",
      "text/plain": [
       "<Figure size 720x576 with 2 Axes>"
      ]
     },
     "metadata": {
      "needs_background": "light"
     },
     "output_type": "display_data"
    }
   ],
   "source": [
    "# Select correlations above 0.4 or below -0.4 for the target variable\n",
    "target_corr = correlation_matrix['Demand']\n",
    "target_corr = target_corr[(target_corr > 0.50) | (target_corr < -0.50)].sort_values(ascending=False)\n",
    "\n",
    "# Create a mask to hide the upper triangle of the correlation matrix\n",
    "mask = np.zeros((len(target_corr), len(target_corr)))\n",
    "\n",
    "# Set up the matplotlib figure\n",
    "plt.figure(figsize=(10, 8))\n",
    "\n",
    "# Customize the color palette if desired\n",
    "cmap = sns.diverging_palette(220, 10, as_cmap=True)\n",
    "\n",
    "# Create a heatmap for the selected correlations\n",
    "sns.heatmap(correlation_matrix.loc[target_corr.index, target_corr.index], \n",
    "            annot=True, fmt=\".2f\", cmap=cmap, mask=mask, linewidths=.5)\n",
    "\n",
    "\n",
    "plt.show()"
   ]
  },
  {
   "cell_type": "markdown",
   "id": "0ba313f8",
   "metadata": {},
   "source": [
    "There are a number of correlations now that we have refitted the dataframe across vs long, there is a high degree of correlation among the dw point and the temperature data across Texas, however that is a likely scenario."
   ]
  },
  {
   "cell_type": "markdown",
   "id": "5546b3c4",
   "metadata": {},
   "source": [
    "## EDA Exploratory Data Analysis"
   ]
  },
  {
   "cell_type": "code",
   "execution_count": 32,
   "id": "9e88f827",
   "metadata": {},
   "outputs": [],
   "source": [
    "#Visualize the distribution of the target variable\n",
    "\n",
    "#ax = sns.countplot(x='Demand', data=merged_df)\n",
    "#plt.title('Distribution of Demand Feature')\n",
    "\n",
    "# Add annotations for the count of each class\n",
    "\n",
    "#for p in ax.patches:\n",
    "#    count = p.get_height()\n",
    "#    ax.annotate(f'{count:,.0f}', (p.get_x() + p.get_width() / 2., p.get_height()), ha='center', va='baseline')\n",
    "\n",
    "# Format y-axis labels with commas\n",
    "\n",
    "#ax.yaxis.set_major_formatter(mtick.StrMethodFormatter('{x:,.0f}'))\n",
    "\n",
    "#plt.show()\n"
   ]
  },
  {
   "cell_type": "code",
   "execution_count": 33,
   "id": "61727c15",
   "metadata": {},
   "outputs": [
    {
     "data": {
      "image/png": "[encoded data removed]",
      "text/plain": [
       "<Figure size 432x288 with 1 Axes>"
      ]
     },
     "metadata": {
      "needs_background": "light"
     },
     "output_type": "display_data"
    }
   ],
   "source": [
    "# Plot the bar chart\n",
    "aggregated_df.groupby('Fuel')['Demand'].sum().plot(kind='bar', color='skyblue')\n",
    "plt.title('Proportional Demand by Fuel')\n",
    "plt.xlabel('Fuel')\n",
    "plt.ylabel('Daily Demand')\n",
    "plt.show()"
   ]
  },
  {
   "cell_type": "markdown",
   "id": "f6bc3b01",
   "metadata": {},
   "source": [
    "### Univariate Analysis"
   ]
  },
  {
   "cell_type": "code",
   "execution_count": 37,
   "id": "91ef7f3e",
   "metadata": {},
   "outputs": [
    {
     "data": {
      "image/png": "[encoded data removed]",
      "text/plain": [
       "<Figure size 720x432 with 1 Axes>"
      ]
     },
     "metadata": {
      "needs_background": "light"
     },
     "output_type": "display_data"
    }
   ],
   "source": [
    "# Plotting the histogram\n",
    "plt.figure(figsize=(10, 6))\n",
    "plt.hist(aggregated_df['Demand'], bins='auto', edgecolor='black')  # You can adjust the number of bins as needed\n",
    "plt.title('Histogram of Demand_daily')\n",
    "plt.xlabel('')\n",
    "plt.ylabel('Frequency')\n",
    "plt.show()"
   ]
  },
  {
   "cell_type": "code",
   "execution_count": 38,
   "id": "0177da31",
   "metadata": {},
   "outputs": [
    {
     "data": {
      "image/png": "[encoded data removed]",
      "text/plain": [
       "<Figure size 720x432 with 1 Axes>"
      ]
     },
     "metadata": {
      "needs_background": "light"
     },
     "output_type": "display_data"
    }
   ],
   "source": [
    "# Plotting the histogram\n",
    "plt.figure(figsize=(10, 6))\n",
    "plt.hist(aggregated_df['Dew Point Min Lubbock North'], bins='auto', edgecolor='black')  # You can adjust the number of bins as needed\n",
    "plt.title('Histogram of Lubbock Dew Point Min')\n",
    "plt.xlabel('')\n",
    "plt.ylabel('Frequency')\n",
    "plt.show()"
   ]
  },
  {
   "cell_type": "code",
   "execution_count": 39,
   "id": "ed26708a",
   "metadata": {},
   "outputs": [
    {
     "data": {
      "image/png": "[encoded data removed]",
      "text/plain": [
       "<Figure size 720x432 with 1 Axes>"
      ]
     },
     "metadata": {
      "needs_background": "light"
     },
     "output_type": "display_data"
    }
   ],
   "source": [
    "# Plotting the histogram\n",
    "plt.figure(figsize=(10, 6))\n",
    "plt.hist(aggregated_df['Dew Point Avg Lubbock North'], bins='auto', edgecolor='black')  # You can adjust the number of bins as needed\n",
    "plt.title('Histogram of Dew Point Lubbock Avg')\n",
    "plt.xlabel('')\n",
    "plt.ylabel('Frequency')\n",
    "plt.show()"
   ]
  },
  {
   "cell_type": "code",
   "execution_count": 40,
   "id": "ae566bfa",
   "metadata": {},
   "outputs": [
    {
     "data": {
      "image/png": "[encoded data removed]",
      "text/plain": [
       "<Figure size 720x432 with 1 Axes>"
      ]
     },
     "metadata": {
      "needs_background": "light"
     },
     "output_type": "display_data"
    }
   ],
   "source": [
    "# Plotting the histogram\n",
    "plt.figure(figsize=(10, 6))\n",
    "plt.hist(aggregated_df['TempMin Lubbock North'], bins='auto', edgecolor='black')  # You can adjust the number of bins as needed\n",
    "plt.title('Histogram of Min Temp of Lubbock TX')\n",
    "plt.xlabel('')\n",
    "plt.ylabel('Frequency')\n",
    "plt.show()"
   ]
  },
  {
   "cell_type": "code",
   "execution_count": 41,
   "id": "c952eb04",
   "metadata": {},
   "outputs": [
    {
     "data": {
      "image/png": "[encoded data removed]",
      "text/plain": [
       "<Figure size 720x432 with 1 Axes>"
      ]
     },
     "metadata": {
      "needs_background": "light"
     },
     "output_type": "display_data"
    }
   ],
   "source": [
    "# Plotting the histogram\n",
    "plt.figure(figsize=(10, 6))\n",
    "plt.hist(aggregated_df['Dew Point Avg Midland Far West'], bins='auto', edgecolor='black')  # You can adjust the number of bins as needed\n",
    "plt.title('Dew Point Avg for Midland TX')\n",
    "plt.xlabel('')\n",
    "plt.ylabel('Frequency')\n",
    "plt.show()"
   ]
  },
  {
   "cell_type": "code",
   "execution_count": 42,
   "id": "89bbd0c0",
   "metadata": {},
   "outputs": [
    {
     "data": {
      "image/png": "[encoded data removed]",
      "text/plain": [
       "<Figure size 720x432 with 1 Axes>"
      ]
     },
     "metadata": {
      "needs_background": "light"
     },
     "output_type": "display_data"
    }
   ],
   "source": [
    "# Plotting the histogram\n",
    "plt.figure(figsize=(10, 6))\n",
    "plt.hist(aggregated_df['Dew Point Min Midland Far West'], bins='auto', edgecolor='black')  # You can adjust the number of bins as needed\n",
    "plt.title('Histogram of Dew Point Min for Midland TX')\n",
    "plt.xlabel('')\n",
    "plt.ylabel('Frequency')\n",
    "plt.show()"
   ]
  },
  {
   "cell_type": "code",
   "execution_count": 43,
   "id": "d4e49380",
   "metadata": {},
   "outputs": [
    {
     "data": {
      "image/png": "[encoded data removed]",
      "text/plain": [
       "<Figure size 720x432 with 1 Axes>"
      ]
     },
     "metadata": {
      "needs_background": "light"
     },
     "output_type": "display_data"
    }
   ],
   "source": [
    "# Plotting the histogram\n",
    "plt.figure(figsize=(10, 6))\n",
    "plt.hist(aggregated_df['TempMin Dallas North Central'], bins='auto', edgecolor='black')  # You can adjust the number of bins as needed\n",
    "plt.title('Histogram of Min Temp of Dallas TX')\n",
    "plt.xlabel('')\n",
    "plt.ylabel('Frequency')\n",
    "plt.show()"
   ]
  },
  {
   "cell_type": "code",
   "execution_count": 44,
   "id": "d1da2477",
   "metadata": {},
   "outputs": [
    {
     "data": {
      "image/png": "[encoded data removed]",
      "text/plain": [
       "<Figure size 720x432 with 1 Axes>"
      ]
     },
     "metadata": {
      "needs_background": "light"
     },
     "output_type": "display_data"
    }
   ],
   "source": [
    "# Plotting the histogram\n",
    "plt.figure(figsize=(10, 6))\n",
    "plt.hist(aggregated_df['Dew Point Avg Abilene West'], bins='auto', edgecolor='black')  # You can adjust the number of bins as needed\n",
    "plt.title('Histogram of Dew Point Avg in Abline TX')\n",
    "plt.xlabel('')\n",
    "plt.ylabel('Frequency')\n",
    "plt.show()"
   ]
  },
  {
   "cell_type": "code",
   "execution_count": 45,
   "id": "cd199bdb",
   "metadata": {},
   "outputs": [
    {
     "data": {
      "image/png": "[encoded data removed]",
      "text/plain": [
       "<Figure size 720x432 with 1 Axes>"
      ]
     },
     "metadata": {
      "needs_background": "light"
     },
     "output_type": "display_data"
    }
   ],
   "source": [
    "# Plotting the histogram\n",
    "plt.figure(figsize=(10, 6))\n",
    "plt.hist(aggregated_df['TempMin Tyler East'], bins='auto', edgecolor='black')  # You can adjust the number of bins as needed\n",
    "plt.title('Histogram of Min Temperature of Tyler TX')\n",
    "plt.xlabel('')\n",
    "plt.ylabel('Frequency')\n",
    "plt.show()"
   ]
  },
  {
   "cell_type": "code",
   "execution_count": 46,
   "id": "2c630aa0",
   "metadata": {},
   "outputs": [
    {
     "data": {
      "image/png": "[encoded data removed]",
      "text/plain": [
       "<Figure size 720x432 with 1 Axes>"
      ]
     },
     "metadata": {
      "needs_background": "light"
     },
     "output_type": "display_data"
    }
   ],
   "source": [
    "# Plotting the histogram\n",
    "plt.figure(figsize=(10, 6))\n",
    "plt.hist(aggregated_df['Dew Point Max Midland Far West'], bins='auto', edgecolor='black')  # You can adjust the number of bins as needed\n",
    "plt.title('Histogram of Maximum Dew Point Midland TX')\n",
    "plt.xlabel('')\n",
    "plt.ylabel('Frequency')\n",
    "plt.show()"
   ]
  },
  {
   "cell_type": "code",
   "execution_count": 47,
   "id": "b982835b",
   "metadata": {},
   "outputs": [
    {
     "data": {
      "image/png": "[encoded data removed]",
      "text/plain": [
       "<Figure size 720x432 with 1 Axes>"
      ]
     },
     "metadata": {
      "needs_background": "light"
     },
     "output_type": "display_data"
    }
   ],
   "source": [
    "# Plotting the histogram\n",
    "plt.figure(figsize=(10, 6))\n",
    "plt.hist(aggregated_df['Temp Avg Lubbock North'], bins='auto', edgecolor='black')  # You can adjust the number of bins as needed\n",
    "plt.title('Histogram of Avg Temp of Lubbock TX')\n",
    "plt.xlabel('')\n",
    "plt.ylabel('Frequency')\n",
    "plt.show()"
   ]
  },
  {
   "cell_type": "code",
   "execution_count": null,
   "id": "873463fc",
   "metadata": {},
   "outputs": [],
   "source": []
  },
  {
   "cell_type": "code",
   "execution_count": null,
   "id": "249656c1",
   "metadata": {},
   "outputs": [],
   "source": []
  },
  {
   "cell_type": "code",
   "execution_count": null,
   "id": "3d028a50",
   "metadata": {},
   "outputs": [],
   "source": [
    "# Plotting the histogram\n",
    "#plt.figure(figsize=(10, 6))\n",
    "#sns.boxplot(df['x0'])  \n",
    "#plt.title('Box & Whisker Plot of x0')\n",
    "#plt.xlabel('x0')\n",
    "#plt.ylabel('Values')\n",
    "#plt.show()"
   ]
  },
  {
   "cell_type": "code",
   "execution_count": null,
   "id": "78e8c198",
   "metadata": {},
   "outputs": [],
   "source": [
    "# Plot the bar chart\n",
    "# merged_df.groupby('Fuel')['ProportionalDemand'].sum().plot(kind='bar', color='skyblue')\n",
    "#plt.title('Proportional Demand by Fuel')\n",
    "#plt.xlabel('Fuel')\n",
    "#plt.ylabel('Proportional Demand')\n",
    "#plt.show()"
   ]
  },
  {
   "cell_type": "code",
   "execution_count": null,
   "id": "ca862bc8",
   "metadata": {},
   "outputs": [],
   "source": []
  },
  {
   "cell_type": "code",
   "execution_count": null,
   "id": "6206a06b",
   "metadata": {},
   "outputs": [],
   "source": []
  },
  {
   "cell_type": "code",
   "execution_count": null,
   "id": "eb09540a",
   "metadata": {},
   "outputs": [],
   "source": []
  },
  {
   "cell_type": "code",
   "execution_count": null,
   "id": "6eaaf692",
   "metadata": {},
   "outputs": [],
   "source": []
  },
  {
   "cell_type": "markdown",
   "id": "2d0e5b48",
   "metadata": {},
   "source": [
    " "
   ]
  },
  {
   "cell_type": "markdown",
   "id": "79e9965a",
   "metadata": {},
   "source": [
    "### Imputation"
   ]
  },
  {
   "cell_type": "code",
   "execution_count": 50,
   "id": "f21ef642",
   "metadata": {},
   "outputs": [
    {
     "data": {
      "text/html": [
       "<div>\n",
       "<style scoped>\n",
       "    .dataframe tbody tr th:only-of-type {\n",
       "        vertical-align: middle;\n",
       "    }\n",
       "\n",
       "    .dataframe tbody tr th {\n",
       "        vertical-align: top;\n",
       "    }\n",
       "\n",
       "    .dataframe thead th {\n",
       "        text-align: right;\n",
       "    }\n",
       "</style>\n",
       "<table border=\"1\" class=\"dataframe\">\n",
       "  <thead>\n",
       "    <tr style=\"text-align: right;\">\n",
       "      <th></th>\n",
       "      <th>Date</th>\n",
       "      <th>Demand</th>\n",
       "      <th>Daily MWH</th>\n",
       "      <th>Unnamed: 0</th>\n",
       "      <th>HashedIndex</th>\n",
       "      <th>Year</th>\n",
       "      <th>Month</th>\n",
       "      <th>Day</th>\n",
       "      <th>Temp Max Dallas North Central</th>\n",
       "      <th>Temp Avg Dallas North Central</th>\n",
       "      <th>...</th>\n",
       "      <th>Wind Speed Avg Midland Far West</th>\n",
       "      <th>Wind Speed Min Midland Far West</th>\n",
       "      <th>Pressures Inch Max Midland Far West</th>\n",
       "      <th>Pressure InchAvg Midland Far West</th>\n",
       "      <th>Pressure Inch Min Midland Far West</th>\n",
       "      <th>Precipitation Total Midland Far West</th>\n",
       "      <th>Fuel_Biomass, Coal, Gas, Hydro, Nuclear, Other, Solar, Wind</th>\n",
       "      <th>Fuel_Coal, Gas, Hydro, Nuclear,  Oth, Wind</th>\n",
       "      <th>Fuel_Coal, Gas, Hydro, Nuclear, Other, Wind</th>\n",
       "      <th>Fuel_Gas, Biomass, Wind, Coal, Nuclear, Solar, Hydro, Other</th>\n",
       "    </tr>\n",
       "  </thead>\n",
       "  <tbody>\n",
       "    <tr>\n",
       "      <th>0</th>\n",
       "      <td>2007-01-01</td>\n",
       "      <td>726502.098763</td>\n",
       "      <td>6.974420e+07</td>\n",
       "      <td>0</td>\n",
       "      <td>f30e839570c87617aa4df1fc6a0b4d2ba27811c5f225a5...</td>\n",
       "      <td>2007</td>\n",
       "      <td>1</td>\n",
       "      <td>1</td>\n",
       "      <td>52.0</td>\n",
       "      <td>41.3</td>\n",
       "      <td>...</td>\n",
       "      <td>8.0</td>\n",
       "      <td>3</td>\n",
       "      <td>27.3</td>\n",
       "      <td>27.3</td>\n",
       "      <td>27.2</td>\n",
       "      <td>0.0</td>\n",
       "      <td>0</td>\n",
       "      <td>1</td>\n",
       "      <td>0</td>\n",
       "      <td>0</td>\n",
       "    </tr>\n",
       "    <tr>\n",
       "      <th>1</th>\n",
       "      <td>2007-01-02</td>\n",
       "      <td>797196.361494</td>\n",
       "      <td>7.653085e+07</td>\n",
       "      <td>576</td>\n",
       "      <td>427d068246ec69111256a7517da8efec13a182aa4479d7...</td>\n",
       "      <td>2007</td>\n",
       "      <td>1</td>\n",
       "      <td>2</td>\n",
       "      <td>53.0</td>\n",
       "      <td>42.9</td>\n",
       "      <td>...</td>\n",
       "      <td>6.7</td>\n",
       "      <td>5</td>\n",
       "      <td>27.3</td>\n",
       "      <td>27.3</td>\n",
       "      <td>27.2</td>\n",
       "      <td>0.0</td>\n",
       "      <td>0</td>\n",
       "      <td>1</td>\n",
       "      <td>0</td>\n",
       "      <td>0</td>\n",
       "    </tr>\n",
       "    <tr>\n",
       "      <th>2</th>\n",
       "      <td>2007-01-03</td>\n",
       "      <td>790143.388141</td>\n",
       "      <td>7.585377e+07</td>\n",
       "      <td>1152</td>\n",
       "      <td>0500d35fc9c47cd09b87237ea02816b574ee65e409c0fb...</td>\n",
       "      <td>2007</td>\n",
       "      <td>1</td>\n",
       "      <td>3</td>\n",
       "      <td>53.0</td>\n",
       "      <td>45.4</td>\n",
       "      <td>...</td>\n",
       "      <td>7.2</td>\n",
       "      <td>0</td>\n",
       "      <td>27.2</td>\n",
       "      <td>27.1</td>\n",
       "      <td>27.0</td>\n",
       "      <td>0.0</td>\n",
       "      <td>0</td>\n",
       "      <td>1</td>\n",
       "      <td>0</td>\n",
       "      <td>0</td>\n",
       "    </tr>\n",
       "    <tr>\n",
       "      <th>3</th>\n",
       "      <td>2007-01-04</td>\n",
       "      <td>745700.549430</td>\n",
       "      <td>7.158725e+07</td>\n",
       "      <td>1728</td>\n",
       "      <td>2cd83b460d5a9ca4c603b88edf0ec3e7fabbded7af69c0...</td>\n",
       "      <td>2007</td>\n",
       "      <td>1</td>\n",
       "      <td>4</td>\n",
       "      <td>53.0</td>\n",
       "      <td>48.7</td>\n",
       "      <td>...</td>\n",
       "      <td>10.1</td>\n",
       "      <td>0</td>\n",
       "      <td>27.0</td>\n",
       "      <td>26.9</td>\n",
       "      <td>26.6</td>\n",
       "      <td>0.0</td>\n",
       "      <td>0</td>\n",
       "      <td>1</td>\n",
       "      <td>0</td>\n",
       "      <td>0</td>\n",
       "    </tr>\n",
       "    <tr>\n",
       "      <th>4</th>\n",
       "      <td>2007-01-05</td>\n",
       "      <td>704394.266187</td>\n",
       "      <td>6.762185e+07</td>\n",
       "      <td>2304</td>\n",
       "      <td>09d922e91db061cc35a1eacf4ba92db8e6ac5cc8046ebc...</td>\n",
       "      <td>2007</td>\n",
       "      <td>1</td>\n",
       "      <td>5</td>\n",
       "      <td>61.0</td>\n",
       "      <td>52.1</td>\n",
       "      <td>...</td>\n",
       "      <td>12.9</td>\n",
       "      <td>0</td>\n",
       "      <td>26.9</td>\n",
       "      <td>26.8</td>\n",
       "      <td>26.7</td>\n",
       "      <td>0.0</td>\n",
       "      <td>0</td>\n",
       "      <td>1</td>\n",
       "      <td>0</td>\n",
       "      <td>0</td>\n",
       "    </tr>\n",
       "  </tbody>\n",
       "</table>\n",
       "<p>5 rows × 140 columns</p>\n",
       "</div>"
      ],
      "text/plain": [
       "         Date         Demand     Daily MWH  Unnamed: 0  \\\n",
       "0  2007-01-01  726502.098763  6.974420e+07           0   \n",
       "1  2007-01-02  797196.361494  7.653085e+07         576   \n",
       "2  2007-01-03  790143.388141  7.585377e+07        1152   \n",
       "3  2007-01-04  745700.549430  7.158725e+07        1728   \n",
       "4  2007-01-05  704394.266187  6.762185e+07        2304   \n",
       "\n",
       "                                         HashedIndex  Year  Month  Day  \\\n",
       "0  f30e839570c87617aa4df1fc6a0b4d2ba27811c5f225a5...  2007      1    1   \n",
       "1  427d068246ec69111256a7517da8efec13a182aa4479d7...  2007      1    2   \n",
       "2  0500d35fc9c47cd09b87237ea02816b574ee65e409c0fb...  2007      1    3   \n",
       "3  2cd83b460d5a9ca4c603b88edf0ec3e7fabbded7af69c0...  2007      1    4   \n",
       "4  09d922e91db061cc35a1eacf4ba92db8e6ac5cc8046ebc...  2007      1    5   \n",
       "\n",
       "   Temp Max Dallas North Central  Temp Avg Dallas North Central  ...  \\\n",
       "0                           52.0                           41.3  ...   \n",
       "1                           53.0                           42.9  ...   \n",
       "2                           53.0                           45.4  ...   \n",
       "3                           53.0                           48.7  ...   \n",
       "4                           61.0                           52.1  ...   \n",
       "\n",
       "   Wind Speed Avg Midland Far West  Wind Speed Min Midland Far West  \\\n",
       "0                              8.0                                3   \n",
       "1                              6.7                                5   \n",
       "2                              7.2                                0   \n",
       "3                             10.1                                0   \n",
       "4                             12.9                                0   \n",
       "\n",
       "   Pressures Inch Max Midland Far West  Pressure InchAvg Midland Far West  \\\n",
       "0                                 27.3                               27.3   \n",
       "1                                 27.3                               27.3   \n",
       "2                                 27.2                               27.1   \n",
       "3                                 27.0                               26.9   \n",
       "4                                 26.9                               26.8   \n",
       "\n",
       "   Pressure Inch Min Midland Far West  Precipitation Total Midland Far West  \\\n",
       "0                                27.2                                   0.0   \n",
       "1                                27.2                                   0.0   \n",
       "2                                27.0                                   0.0   \n",
       "3                                26.6                                   0.0   \n",
       "4                                26.7                                   0.0   \n",
       "\n",
       "   Fuel_Biomass, Coal, Gas, Hydro, Nuclear, Other, Solar, Wind  \\\n",
       "0                                                  0             \n",
       "1                                                  0             \n",
       "2                                                  0             \n",
       "3                                                  0             \n",
       "4                                                  0             \n",
       "\n",
       "   Fuel_Coal, Gas, Hydro, Nuclear,  Oth, Wind  \\\n",
       "0                                           1   \n",
       "1                                           1   \n",
       "2                                           1   \n",
       "3                                           1   \n",
       "4                                           1   \n",
       "\n",
       "   Fuel_Coal, Gas, Hydro, Nuclear, Other, Wind  \\\n",
       "0                                            0   \n",
       "1                                            0   \n",
       "2                                            0   \n",
       "3                                            0   \n",
       "4                                            0   \n",
       "\n",
       "   Fuel_Gas, Biomass, Wind, Coal, Nuclear, Solar, Hydro, Other  \n",
       "0                                                  0            \n",
       "1                                                  0            \n",
       "2                                                  0            \n",
       "3                                                  0            \n",
       "4                                                  0            \n",
       "\n",
       "[5 rows x 140 columns]"
      ]
     },
     "execution_count": 50,
     "metadata": {},
     "output_type": "execute_result"
    }
   ],
   "source": [
    "# List of categorical columns to one-hot encode\n",
    "categorical_columns = ['Fuel']#, 'Weather Station', 'ERCOT Region']\n",
    "\n",
    "# Use pd.get_dummies to create dummy variables\n",
    "imputation_df = pd.get_dummies(aggregated_df, columns=categorical_columns, prefix=categorical_columns)\n",
    "\n",
    "imputation_df.head()"
   ]
  },
  {
   "cell_type": "code",
   "execution_count": 53,
   "id": "4e684037",
   "metadata": {},
   "outputs": [
    {
     "name": "stdout",
     "output_type": "stream",
     "text": [
      "Index(['Date', 'Demand', 'Daily MWH', 'Fuel', 'Unnamed: 0', 'HashedIndex',\n",
      "       'Year', 'Month', 'Day', 'Temp Max Dallas North Central',\n",
      "       ...\n",
      "       'Humidity Percent Max Midland Far West',\n",
      "       'Humidity Percent Avg Midland Far West',\n",
      "       'Humidity Percent Min Midland Far West',\n",
      "       'Wind Speed Max Midland Far West', 'Wind Speed Avg Midland Far West',\n",
      "       'Wind Speed Min Midland Far West',\n",
      "       'Pressures Inch Max Midland Far West',\n",
      "       'Pressure InchAvg Midland Far West',\n",
      "       'Pressure Inch Min Midland Far West',\n",
      "       'Precipitation Total Midland Far West'],\n",
      "      dtype='object', length=137)\n"
     ]
    }
   ],
   "source": [
    "print(aggregated_df.columns)"
   ]
  },
  {
   "cell_type": "code",
   "execution_count": 54,
   "id": "7872f940",
   "metadata": {},
   "outputs": [
    {
     "name": "stdout",
     "output_type": "stream",
     "text": [
      "Date                                     object\n",
      "Demand                                  float64\n",
      "Daily MWH                               float64\n",
      "Fuel                                     object\n",
      "Unnamed: 0                                int64\n",
      "                                         ...   \n",
      "Wind Speed Min Midland Far West           int64\n",
      "Pressures Inch Max Midland Far West     float64\n",
      "Pressure InchAvg Midland Far West       float64\n",
      "Pressure Inch Min Midland Far West      float64\n",
      "Precipitation Total Midland Far West    float64\n",
      "Length: 137, dtype: object\n"
     ]
    }
   ],
   "source": [
    "print(aggregated_df.dtypes)"
   ]
  },
  {
   "cell_type": "code",
   "execution_count": null,
   "id": "1eb5c8a3",
   "metadata": {},
   "outputs": [],
   "source": []
  },
  {
   "cell_type": "markdown",
   "id": "5e6903a6",
   "metadata": {},
   "source": [
    "### Modeling "
   ]
  },
  {
   "cell_type": "markdown",
   "id": "fcd668dc",
   "metadata": {},
   "source": [
    "### Linear Regression"
   ]
  },
  {
   "cell_type": "code",
   "execution_count": 56,
   "id": "2431fadb",
   "metadata": {},
   "outputs": [],
   "source": [
    "from sklearn.model_selection import train_test_split\n",
    "from sklearn.linear_model import LinearRegression\n",
    "from sklearn.metrics import mean_squared_error, mean_absolute_error, r2_score, mean_squared_error, explained_variance_score\n",
    "\n",
    "\n",
    "# List of targets to drop\n",
    "features_to_drop = ['HashedIndex','Demand','Date']\n",
    "\n",
    "# Split the data into features (X) and target variable (y)\n",
    "X = imputation_df.drop(features_to_drop, axis=1)  # Remove the target variable from features\n",
    "y = imputation_df['Demand']"
   ]
  },
  {
   "cell_type": "code",
   "execution_count": 57,
   "id": "12dd18e0",
   "metadata": {},
   "outputs": [],
   "source": [
    "# Split the data into training and testing sets\n",
    "X_train, X_test, y_train, y_test = train_test_split(X, y, test_size=0.2, random_state=117)"
   ]
  },
  {
   "cell_type": "code",
   "execution_count": 58,
   "id": "b7e8a774",
   "metadata": {},
   "outputs": [
    {
     "data": {
      "text/plain": [
       "LinearRegression()"
      ]
     },
     "execution_count": 58,
     "metadata": {},
     "output_type": "execute_result"
    }
   ],
   "source": [
    "# Create and train the linear regression model\n",
    "model = LinearRegression()\n",
    "model.fit(X_train, y_train)"
   ]
  },
  {
   "cell_type": "code",
   "execution_count": 59,
   "id": "690ac34b",
   "metadata": {},
   "outputs": [],
   "source": [
    "# Make predictions on the test set\n",
    "y_pred = model.predict(X_test)"
   ]
  },
  {
   "cell_type": "code",
   "execution_count": 60,
   "id": "88677f16",
   "metadata": {},
   "outputs": [
    {
     "name": "stdout",
     "output_type": "stream",
     "text": [
      "Mean Squared Error: 5067709.96581002\n",
      "Mean Absolute Error: 469.0964300454218\n",
      "R^2 Score: 0.9998639345236662\n",
      "Root Mean Squared Error: 2251.15747245945\n",
      "Explained Variance Score: 0.9998650023038019\n"
     ]
    }
   ],
   "source": [
    "# Evaluate the model\n",
    "mse = mean_squared_error(y_test, y_pred)\n",
    "print(f'Mean Squared Error: {mse}')\n",
    "\n",
    "mae = mean_absolute_error(y_test, y_pred)\n",
    "print(f'Mean Absolute Error: {mae}')\n",
    "\n",
    "r2 = r2_score(y_test, y_pred)\n",
    "print(f'R^2 Score: {r2}')\n",
    "\n",
    "rmse = mean_squared_error(y_test, y_pred, squared=False)\n",
    "print(f'Root Mean Squared Error: {rmse}')\n",
    "\n",
    "evs = explained_variance_score(y_test, y_pred)\n",
    "print(f'Explained Variance Score: {evs}')"
   ]
  },
  {
   "cell_type": "markdown",
   "id": "dcf7403c",
   "metadata": {},
   "source": [
    "Mean Squared Error (MSE):\n",
    "\n",
    "The Mean Squared Error (MSE) is a measure of the average squared difference between the actual values and the predicted values.\n",
    "Mathematically, MSE is calculated as the average of the squared differences between each actual value (Yi) and its corresponding predicted value (Ŷi).\n",
    "A lower MSE indicates that, on average, the predicted values are closer to the actual values.\n",
    "In your case, the MSE of approximately 5,067,709.97 suggests that, on average, the squared difference between actual and predicted values is relatively small.\n",
    "Mean Absolute Error (MAE):\n",
    "\n",
    "The Mean Absolute Error (MAE) is a measure of the average absolute difference between the actual values and the predicted values.\n",
    "Mathematically, MAE is calculated as the average of the absolute differences between each actual value (Yi) and its corresponding predicted value (Ŷi).\n",
    "A lower MAE indicates that, on average, the absolute difference between actual and predicted values is relatively small.\n",
    "In your case, the MAE of approximately 469.10 suggests that, on average, the absolute difference between actual and predicted values is relatively small.\n",
    "R^2 Score (Coefficient of Determination):\n",
    "\n",
    "The R^2 score is a measure of how well the model explains the variance in the target variable compared to a baseline model (typically the mean of the target variable).\n",
    "R^2 score ranges from 0 to 1, where 1 indicates a perfect fit, and 0 indicates that the model does not explain any variance.\n",
    "In your case, the R^2 score of approximately 0.9999 suggests that your model is explaining about 99.99% of the variance in the target variable, indicating an excellent fit.\n",
    "Root Mean Squared Error (RMSE):\n",
    "\n",
    "The Root Mean Squared Error (RMSE) is the square root of the average squared difference between actual and predicted values.\n",
    "Mathematically, RMSE is calculated as the square root of the MSE.\n",
    "A lower RMSE indicates that, on average, the squared difference between actual and predicted values is relatively small.\n",
    "In your case, the RMSE of approximately 2251.16 suggests that, on average, the squared difference is relatively small after taking the square root.\n",
    "Explained Variance Score:\n",
    "\n",
    "The Explained Variance Score is a measure of the proportion by which the model's variance is better than a naive baseline model.\n",
    "Like R^2, the explained variance score ranges from 0 to 1, with 1 indicating a perfect prediction.\n",
    "In your case, the explained variance score of approximately 0.9999 suggests that your model's performance is very close to perfect.\n",
    "In summary, the metrics collectively indicate that your regression model is performing exceptionally well. It is providing accurate predictions with low errors and is highly effective in explaining the variance in the target variable. The R^2 score and explained variance score being close to 1 suggest that the model is a strong predictor. The other error metrics (MSE, MAE, RMSE) being relatively low further support the model's accuracy."
   ]
  },
  {
   "cell_type": "code",
   "execution_count": 61,
   "id": "769edd6f",
   "metadata": {},
   "outputs": [],
   "source": [
    "y2_true = y_test"
   ]
  },
  {
   "cell_type": "code",
   "execution_count": 62,
   "id": "735fb730",
   "metadata": {},
   "outputs": [
    {
     "data": {
      "image/png": "[encoded data removed]",
      "text/plain": [
       "<Figure size 432x288 with 1 Axes>"
      ]
     },
     "metadata": {
      "needs_background": "light"
     },
     "output_type": "display_data"
    }
   ],
   "source": [
    "# Assuming y_pred and y_true are your predicted and actual values\n",
    "plt.scatter(y2_true, y_pred, alpha=0.5)\n",
    "plt.plot([min(y2_true), max(y2_true)], [min(y2_true), max(y2_true)], color='red', linestyle='--', linewidth=2)\n",
    "plt.xlabel('Actual Values')\n",
    "plt.ylabel('Predicted Values')\n",
    "plt.title('Scatter Plot for MSE and RMSE')\n",
    "plt.show()\n"
   ]
  },
  {
   "cell_type": "code",
   "execution_count": 63,
   "id": "91219880",
   "metadata": {},
   "outputs": [
    {
     "data": {
      "image/png": "[encoded data removed]",
      "text/plain": [
       "<Figure size 432x288 with 1 Axes>"
      ]
     },
     "metadata": {
      "needs_background": "light"
     },
     "output_type": "display_data"
    }
   ],
   "source": [
    "plt.scatter(y2_true, np.abs(y2_true - y_pred), alpha=0.5)\n",
    "plt.xlabel('Actual Values')\n",
    "plt.ylabel('Absolute Errors')\n",
    "plt.title('Scatter Plot for MAE')\n",
    "plt.show()\n"
   ]
  },
  {
   "cell_type": "code",
   "execution_count": 65,
   "id": "e9ee2016",
   "metadata": {},
   "outputs": [
    {
     "data": {
      "image/png": "[encoded data removed]",
      "text/plain": [
       "<Figure size 432x288 with 1 Axes>"
      ]
     },
     "metadata": {
      "needs_background": "light"
     },
     "output_type": "display_data"
    }
   ],
   "source": [
    "residuals = y2_true - y_pred\n",
    "plt.scatter(y_pred, residuals, alpha=0.5)\n",
    "plt.axhline(y=0, color='red', linestyle='--', linewidth=2)\n",
    "plt.xlabel('Predicted Values')\n",
    "plt.ylabel('Residuals')\n",
    "plt.title('Residual Plot')\n",
    "plt.show()\n"
   ]
  },
  {
   "cell_type": "code",
   "execution_count": 67,
   "id": "ec9a2c84",
   "metadata": {},
   "outputs": [
    {
     "data": {
      "image/png": "[encoded data removed]",
      "text/plain": [
       "<Figure size 432x288 with 1 Axes>"
      ]
     },
     "metadata": {
      "needs_background": "light"
     },
     "output_type": "display_data"
    }
   ],
   "source": [
    "residuals = y2_true - y_pred\n",
    "plt.scatter(y_pred, residuals, alpha=0.5)\n",
    "plt.axhline(y=0, color='red', linestyle='--', linewidth=2)\n",
    "plt.xlabel('Predicted Values')\n",
    "plt.ylabel('Residuals')\n",
    "plt.title('Residual Plot')\n",
    "plt.show()\n"
   ]
  },
  {
   "cell_type": "markdown",
   "id": "13f822d7",
   "metadata": {},
   "source": [
    "MAPE= \n",
    "n\n",
    "1\n",
    "​\n",
    " ∑ \n",
    "i=1\n",
    "n\n",
    "​\n",
    "  \n",
    "∣\n",
    "∣\n",
    "​\n",
    "  \n",
    "y \n",
    "true,i\n",
    "​\n",
    " \n",
    "y \n",
    "true,i\n",
    "​\n",
    " −y \n",
    "pred,i\n",
    "​\n",
    " \n",
    "​\n",
    "  \n",
    "∣\n",
    "∣\n",
    "​\n",
    " ×100"
   ]
  },
  {
   "attachments": {
    "image.png": {
     "image/png": "[encoded data removed]"
    }
   },
   "cell_type": "markdown",
   "id": "3134023f",
   "metadata": {},
   "source": [
    "![image.png](attachment:image.png)"
   ]
  },
  {
   "cell_type": "code",
   "execution_count": 70,
   "id": "35ebc775",
   "metadata": {},
   "outputs": [
    {
     "data": {
      "image/png": "[encoded data removed]",
      "text/plain": [
       "<Figure size 432x288 with 1 Axes>"
      ]
     },
     "metadata": {
      "needs_background": "light"
     },
     "output_type": "display_data"
    },
    {
     "name": "stdout",
     "output_type": "stream",
     "text": [
      "The code block took 3.2368 seconds to execute.\n"
     ]
    }
   ],
   "source": [
    "import time\n",
    "\n",
    "#Record the start tiem\n",
    "start_time = time.time()\n",
    "\n",
    "# Ensure that y2_true and y_pred2 have the same length\n",
    "if len(y2_true) == len(y_pred):\n",
    "    # Calculate absolute errors and percentage errors\n",
    "    abs_errors = np.abs(y2_true - y_pred)\n",
    "    percentage_errors = (abs_errors / y2_true) * 100\n",
    "\n",
    "    # Plot side-by-side bar chart for actual and predicted values\n",
    "    bar_width = 0.35\n",
    "    index = np.arange(len(y2_true))\n",
    "    \n",
    "    plt.bar(index, y2_true, width=bar_width, label='Actual', color='blue')\n",
    "    plt.bar(index + bar_width, y_pred, width=bar_width, label='Predicted', color='orange')\n",
    "    \n",
    "    plt.xlabel('Data Points')\n",
    "    plt.ylabel('Values')\n",
    "    plt.title('Actual vs Predicted Values')\n",
    "    plt.legend()\n",
    "    plt.show()\n",
    "else:\n",
    "    print(\"Error: y2_true and y_pred must have the same length.\")\n",
    "    \n",
    "    \n",
    "# Record the end time\n",
    "end_time = time.time()\n",
    "\n",
    "# Calculate and print the elapsed time\n",
    "elapsed_time = end_time - start_time\n",
    "print(f'The code block took {elapsed_time:.4f} seconds to execute.')"
   ]
  },
  {
   "cell_type": "markdown",
   "id": "565a70cd",
   "metadata": {},
   "source": [
    "#### Time Series Models Python"
   ]
  },
  {
   "cell_type": "code",
   "execution_count": 76,
   "id": "22cb0816",
   "metadata": {},
   "outputs": [],
   "source": [
    "from statsmodels.tsa.arima.model import ARIMA\n",
    "from matplotlib.dates import YearLocator\n",
    "from math import sqrt\n",
    "\n",
    "# Aggregated_df' is your DataFrame and 'Demand' is the feature to be modeled\n",
    "time_series_df = aggregated_df[['Date', 'Demand']].copy()"
   ]
  },
  {
   "cell_type": "code",
   "execution_count": 77,
   "id": "59d5686e",
   "metadata": {},
   "outputs": [],
   "source": [
    "# Set the 'Date' column as the index\n",
    "time_series_df.set_index('Date', inplace=True)"
   ]
  },
  {
   "cell_type": "code",
   "execution_count": 84,
   "id": "496ef69d",
   "metadata": {},
   "outputs": [
    {
     "data": {
      "image/png": "[encoded data removed]",
      "text/plain": [
       "<Figure size 720x432 with 1 Axes>"
      ]
     },
     "metadata": {
      "needs_background": "light"
     },
     "output_type": "display_data"
    }
   ],
   "source": [
    "# Plot the time series\n",
    "plt.figure(figsize=(10, 6))\n",
    "plt.plot(time_series_df.index, time_series_df['Demand'], label='Original Time Series')\n",
    "plt.title('Original Time Series Data')\n",
    "plt.xlabel('Date')\n",
    "plt.ylabel('Demand')\n",
    "\n",
    "# Set the locator for the x-axis to display specific years\n",
    "plt.gca().xaxis.set_major_locator(YearLocator(base=1, month=1, day=1))\n",
    "\n",
    "plt.legend()\n",
    "plt.show()"
   ]
  },
  {
   "cell_type": "code",
   "execution_count": 79,
   "id": "0a3df11e",
   "metadata": {},
   "outputs": [],
   "source": [
    "# Split the data into training and testing sets\n",
    "train_size = int(len(time_series_df) * 0.8)\n",
    "train, test = time_series_df[:train_size], time_series_df[train_size:]"
   ]
  },
  {
   "cell_type": "code",
   "execution_count": 80,
   "id": "ed8ef33c",
   "metadata": {},
   "outputs": [
    {
     "name": "stderr",
     "output_type": "stream",
     "text": [
      "C:\\Users\\19405\\anaconda3\\lib\\site-packages\\statsmodels\\tsa\\base\\tsa_model.py:471: ValueWarning: A date index has been provided, but it has no associated frequency information and so will be ignored when e.g. forecasting.\n",
      "  self._init_dates(dates, freq)\n",
      "C:\\Users\\19405\\anaconda3\\lib\\site-packages\\statsmodels\\tsa\\base\\tsa_model.py:471: ValueWarning: A date index has been provided, but it has no associated frequency information and so will be ignored when e.g. forecasting.\n",
      "  self._init_dates(dates, freq)\n",
      "C:\\Users\\19405\\anaconda3\\lib\\site-packages\\statsmodels\\tsa\\base\\tsa_model.py:471: ValueWarning: A date index has been provided, but it has no associated frequency information and so will be ignored when e.g. forecasting.\n",
      "  self._init_dates(dates, freq)\n",
      "C:\\Users\\19405\\anaconda3\\lib\\site-packages\\statsmodels\\tsa\\statespace\\sarimax.py:978: UserWarning: Non-invertible starting MA parameters found. Using zeros as starting parameters.\n",
      "  warn('Non-invertible starting MA parameters found.'\n"
     ]
    }
   ],
   "source": [
    "# Fit an ARIMA model\n",
    "order = (1, 7, 1)  # You can adjust these parameters based on your data\n",
    "model = ARIMA(train['Demand'], order=order).fit()"
   ]
  },
  {
   "cell_type": "code",
   "execution_count": 81,
   "id": "5cbaaa83",
   "metadata": {},
   "outputs": [
    {
     "name": "stderr",
     "output_type": "stream",
     "text": [
      "C:\\Users\\19405\\anaconda3\\lib\\site-packages\\statsmodels\\tsa\\base\\tsa_model.py:834: ValueWarning: No supported index is available. Prediction results will be given with an integer index beginning at `start`.\n",
      "  return get_prediction_index(\n"
     ]
    }
   ],
   "source": [
    "# Forecast using the model\n",
    "forecast = model.get_forecast(steps=len(test))"
   ]
  },
  {
   "cell_type": "code",
   "execution_count": 87,
   "id": "f6aff7cf",
   "metadata": {},
   "outputs": [
    {
     "data": {
      "image/png": "[encoded data removed]",
      "text/plain": [
       "<Figure size 720x432 with 1 Axes>"
      ]
     },
     "metadata": {
      "needs_background": "light"
     },
     "output_type": "display_data"
    }
   ],
   "source": [
    "# Plot the results\n",
    "plt.figure(figsize=(10, 6))\n",
    "plt.plot(train.index, train['Demand'], label='Training Data')\n",
    "plt.plot(test.index, test['Demand'], label='Testing Data')\n",
    "plt.plot(test.index, forecast.predicted_mean, label='Forecast', linestyle='--')\n",
    "plt.title('Time Series Forecasting with ARIMA')\n",
    "plt.xlabel('Date')\n",
    "plt.ylabel('Demand')\n",
    "\n",
    "# Set the locator for the x-axis to display specific years\n",
    "plt.gca().xaxis.set_major_locator(YearLocator(base=1, month=1, day=1))\n",
    "\n",
    "plt.legend()\n",
    "plt.show()"
   ]
  },
  {
   "cell_type": "code",
   "execution_count": 83,
   "id": "992147a5",
   "metadata": {},
   "outputs": [
    {
     "name": "stdout",
     "output_type": "stream",
     "text": [
      "Mean Squared Error: 5.512151408829833e+35\n",
      "Root Mean Squared Error: 7.42438644524235e+17\n"
     ]
    }
   ],
   "source": [
    "# Evaluate the model\n",
    "mse = mean_squared_error(test['Demand'], forecast.predicted_mean)\n",
    "rmse = sqrt(mse)\n",
    "print(f'Mean Squared Error: {mse}')\n",
    "print(f'Root Mean Squared Error: {rmse}')"
   ]
  },
  {
   "cell_type": "code",
   "execution_count": null,
   "id": "043f0318",
   "metadata": {},
   "outputs": [],
   "source": []
  },
  {
   "cell_type": "code",
   "execution_count": null,
   "id": "18dfc796",
   "metadata": {},
   "outputs": [],
   "source": []
  },
  {
   "cell_type": "code",
   "execution_count": null,
   "id": "24ea884c",
   "metadata": {},
   "outputs": [],
   "source": []
  },
  {
   "cell_type": "code",
   "execution_count": null,
   "id": "74670e68",
   "metadata": {},
   "outputs": [],
   "source": []
  },
  {
   "cell_type": "code",
   "execution_count": null,
   "id": "aa9c06d0",
   "metadata": {},
   "outputs": [],
   "source": []
  },
  {
   "cell_type": "markdown",
   "id": "04aff212",
   "metadata": {},
   "source": [
    "#### Neural Network Models"
   ]
  },
  {
   "cell_type": "code",
   "execution_count": null,
   "id": "1a0cd914",
   "metadata": {},
   "outputs": [],
   "source": []
  },
  {
   "cell_type": "code",
   "execution_count": null,
   "id": "bea49a0e",
   "metadata": {},
   "outputs": [],
   "source": []
  },
  {
   "cell_type": "code",
   "execution_count": null,
   "id": "3bf02211",
   "metadata": {},
   "outputs": [],
   "source": []
  },
  {
   "cell_type": "code",
   "execution_count": null,
   "id": "d9517829",
   "metadata": {},
   "outputs": [],
   "source": []
  },
  {
   "cell_type": "code",
   "execution_count": null,
   "id": "ec7e9a1c",
   "metadata": {},
   "outputs": [],
   "source": []
  },
  {
   "cell_type": "code",
   "execution_count": null,
   "id": "1ec91e39",
   "metadata": {},
   "outputs": [],
   "source": []
  },
  {
   "cell_type": "code",
   "execution_count": null,
   "id": "369a3545",
   "metadata": {},
   "outputs": [],
   "source": []
  },
  {
   "cell_type": "code",
   "execution_count": null,
   "id": "23871e01",
   "metadata": {},
   "outputs": [],
   "source": []
  },
  {
   "cell_type": "code",
   "execution_count": null,
   "id": "9e2012eb",
   "metadata": {},
   "outputs": [],
   "source": []
  },
  {
   "cell_type": "code",
   "execution_count": null,
   "id": "d71414c3",
   "metadata": {},
   "outputs": [],
   "source": []
  }
 ],
 "metadata": {
  "kernelspec": {
   "display_name": "Python 3 (ipykernel)",
   "language": "python",
   "name": "python3"
  },
  "language_info": {
   "codemirror_mode": {
    "name": "ipython",
    "version": 3
   },
   "file_extension": ".py",
   "mimetype": "text/x-python",
   "name": "python",
   "nbconvert_exporter": "python",
   "pygments_lexer": "ipython3",
   "version": "3.9.12"
  },
  "vscode": {
   "interpreter": {
    "hash": "77fad8f1fd48b0dbc17e5e0b2f14396946f41876e8f98b3588ed05859c665f39"
   }
  }
 },
 "nbformat": 4,
 "nbformat_minor": 5
}
